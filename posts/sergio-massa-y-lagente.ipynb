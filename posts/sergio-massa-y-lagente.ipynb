{
 "metadata": {
  "name": "",
  "signature": "sha256:12df53b533beb4c8016a4f53a4b8d388ed5ac1172fdf8902a280552d9a1efbcc"
 },
 "nbformat": 3,
 "nbformat_minor": 0,
 "worksheets": [
  {
   "cells": [
    {
     "cell_type": "markdown",
     "metadata": {},
     "source": [
      "Anoche me re\u00ed mucho con el hashtag [#LaGente](https://twitter.com/search?q=%23lagente&src=typd), que se viraliz\u00f3 mientras Alejandro Fantino entrevistaba, una vez m\u00e1s, al inefable candidato presidencial Sergio Massa. \n",
      "\n",
      "<blockquote class=\"twitter-tweet\" lang=\"es\"><p>&quot;Me comprometo no ante vos, ante <a href=\"https://twitter.com/hashtag/LaGente?src=hash\">#LaGente</a>&quot;. Lo harta que me tiene este tipo no tiene nombre.</p>&mdash; Fenicia  (@zeinicienta) <a href=\"https://twitter.com/zeinicienta/status/575858399021264896\">marzo 12, 2015</a></blockquote>\n",
      "<script async src=\"//platform.twitter.com/widgets.js\" charset=\"utf-8\"></script>\n",
      "\n",
      "<blockquote class=\"twitter-tweet\" lang=\"es\"><p>Es insoportable la cantidad de frases hechas y lugares comunes que tira <a href=\"https://twitter.com/SergioMassa\">@SergioMassa</a>. Demagogo berreta. <a href=\"https://twitter.com/hashtag/LaGente?src=hash\">#LaGente</a></p>&mdash; Javier Smaldone (@mis2centavos) <a href=\"https://twitter.com/mis2centavos/status/575850582386343938\">marzo 12, 2015</a></blockquote>\n",
      "<script async src=\"//platform.twitter.com/widgets.js\" charset=\"utf-8\"></script>\n",
      "\n",
      "<blockquote class=\"twitter-tweet\" lang=\"es\"><p>Quiero contar la cantidad de veces que +a dice <a href=\"https://twitter.com/hashtag/LaGente?src=hash\">#LaGente</a></p>&mdash; memorex (@memorex) <a href=\"https://twitter.com/memorex/status/575847833565163521\">marzo 12, 2015</a></blockquote>\n",
      "<script async src=\"//platform.twitter.com/widgets.js\" charset=\"utf-8\"></script>\n",
      "\n",
      "<!-- TEASER_END -->\n",
      "\n",
      "Me acord\u00e9 entonces de un [post de Zulko](http://zulko.github.io/blog/2014/06/21/some-more-videogreping-with-python/), cuyo blog es un compilado de gemas \u00f1o\u00f1amente divertidas. All\u00ed muestra c\u00f3mo recortar autom\u00e1ticamente los pedacitos de un video que mencionen una palabra o frase, bas\u00e1ndose en las marcas de tiempo del archivo de subt\u00edtulos, utilizando su maravillosa biblioteca [Moviepy](http://zulko.github.io/moviepy/) y un poco de Python. M\u00e1s o menos lo que hace [videogrep](https://github.com/antiboredom/videogrep), pero m\u00e1s prolijo. \n",
      "\n",
      "La herramienta [youtube-dl](http://rg3.github.io/youtube-dl/) (que tambi\u00e9n es genial y hecha en Python), permite no s\u00f3lo bajar videos de youtube y los subtitulos existentes, sino que tambi\u00e9n puede bajar el \"subtitulo autom\u00e1tico\". En general son bastante malos pero es suficientemente efectivo para encontrar peque\u00f1as frases. \n",
      "\n",
      "## Todo sea por \"la gente\": manos a la obra\n",
      "\n",
      "Lo primero que necesitamos es una lista de videos donde Sergio Massa hable. Hice una [b\u00fasqueda](https://www.youtube.com/results?search_query=entrevista+sergio+massa), decid\u00ed ignorar algunos (parodias, por ejemplo) y gener\u00e9 una lista. Hay varias maneras de obtener este listado de las primeras paginas de resultados, yo utilic\u00e9 el r\u00fastico y efectivo webscrapping:"
     ]
    },
    {
     "cell_type": "code",
     "collapsed": false,
     "input": [
      "from pyquery import PyQuery\n",
      "links = []\n",
      "skip = ('M0yuFHbhYLY','TLmMh9Qvmic', 'rY4Hwvn6GlA')\n",
      "\n",
      "for page in range(1, 5):\n",
      "    pq = PyQuery('https://www.youtube.com/results?search_query=entrevista+sergio+massa&page=%s' % page)\n",
      "    pq.make_links_absolute()\n",
      "    links.extend([pq(a).attr('href') for a in pq('a.yt-uix-tile-link') if pq(a).attr('href').split('v=')[1] not in skip])\n",
      "links"
     ],
     "language": "python",
     "metadata": {},
     "outputs": [
      {
       "metadata": {},
       "output_type": "pyout",
       "prompt_number": 1,
       "text": [
        "['https://www.youtube.com/watch?v=8pP8G3fSAcY',\n",
        " 'https://www.youtube.com/watch?v=g6QSwxUo1aw',\n",
        " 'https://www.youtube.com/watch?v=_9FN6CI8fD4',\n",
        " 'https://www.youtube.com/watch?v=5wqwNDpkZOo',\n",
        " 'https://www.youtube.com/watch?v=V865E4mBiHU',\n",
        " 'https://www.youtube.com/watch?v=TPrGNJnMS9U',\n",
        " 'https://www.youtube.com/watch?v=SVTl11hG9Gs',\n",
        " 'https://www.youtube.com/watch?v=Df_dwb5XHQM',\n",
        " 'https://www.youtube.com/watch?v=sptBkyfq1VU',\n",
        " 'https://www.youtube.com/watch?v=tzjz1xrNu3k',\n",
        " 'https://www.youtube.com/watch?v=k-CGbuOo8do',\n",
        " 'https://www.youtube.com/watch?v=_L-B_wHsEec',\n",
        " 'https://www.youtube.com/watch?v=iFOABIQdo9Q',\n",
        " 'https://www.youtube.com/watch?v=WOlRIKGrBWY',\n",
        " 'https://www.youtube.com/watch?v=a-mCgN6W9ek',\n",
        " 'https://www.youtube.com/watch?v=x5vhchv3zAY',\n",
        " 'https://www.youtube.com/watch?v=bi5eK7i59w0',\n",
        " 'https://www.youtube.com/watch?v=VNHV3D_6o4E',\n",
        " 'https://www.youtube.com/watch?v=MWVZ6JDU9V8',\n",
        " 'https://www.youtube.com/watch?v=v-JmdgVZqVc',\n",
        " 'https://www.youtube.com/watch?v=FBFHpdxsyYU',\n",
        " 'https://www.youtube.com/watch?v=WXmTc83l1sQ',\n",
        " 'https://www.youtube.com/watch?v=GfNgds5vS60',\n",
        " 'https://www.youtube.com/watch?v=UHRa34A6rDg',\n",
        " 'https://www.youtube.com/watch?v=xVU-EjnuksU',\n",
        " 'https://www.youtube.com/watch?v=-IXymTZZM6o',\n",
        " 'https://www.youtube.com/watch?v=tzvwDTPyTHQ',\n",
        " 'https://www.youtube.com/watch?v=a19z6EVWpQ4',\n",
        " 'https://www.youtube.com/watch?v=rAOvF8X_nzM',\n",
        " 'https://www.youtube.com/watch?v=wtvl4esdMGU',\n",
        " 'https://www.youtube.com/watch?v=1YPHDDH1Az0',\n",
        " 'https://www.youtube.com/watch?v=w7TnghsrJUo',\n",
        " 'https://www.youtube.com/watch?v=qBT-6HpSrwc',\n",
        " 'https://www.youtube.com/watch?v=JM-xblTxLGc',\n",
        " 'https://www.youtube.com/watch?v=kMymsVsmETY',\n",
        " 'https://www.youtube.com/watch?v=K1-dfiVfbOI',\n",
        " 'https://www.youtube.com/watch?v=VnoiHVlR-So',\n",
        " 'https://www.youtube.com/watch?v=hMTzJyLiXE4',\n",
        " 'https://www.youtube.com/watch?v=VGQPNQ1Bhkg',\n",
        " 'https://www.youtube.com/watch?v=0oR4z7SsY14',\n",
        " 'https://www.youtube.com/watch?v=Cl4r8h_Hlak',\n",
        " 'https://www.youtube.com/watch?v=gJFmek-YgYo',\n",
        " 'https://www.youtube.com/watch?v=9VQ7Ov5W_tM',\n",
        " 'https://www.youtube.com/watch?v=rKwKImVrYu4',\n",
        " 'https://www.youtube.com/watch?v=LJwj9SHC9EU',\n",
        " 'https://www.youtube.com/watch?v=-08OEpFThiw',\n",
        " 'https://www.youtube.com/watch?v=BPJBl5y2P2g',\n",
        " 'https://www.youtube.com/watch?v=MvkXlg9ZbL4',\n",
        " 'https://www.youtube.com/watch?v=7KgIa4fX_Ng',\n",
        " 'https://www.youtube.com/watch?v=upNLrHtzeBI',\n",
        " 'https://www.youtube.com/watch?v=Y-norf1BKAs',\n",
        " 'https://www.youtube.com/watch?v=QMvAl_fxQSA',\n",
        " 'https://www.youtube.com/watch?v=3os_uXUOvcM',\n",
        " 'https://www.youtube.com/watch?v=ZE_aChIEELo',\n",
        " 'https://www.youtube.com/watch?v=iKI-8ceuR-A',\n",
        " 'https://www.youtube.com/watch?v=CASdYLquQII',\n",
        " 'https://www.youtube.com/watch?v=5cvyi1CcpYs',\n",
        " 'https://www.youtube.com/watch?v=NVEw-YIAy5A',\n",
        " 'https://www.youtube.com/watch?v=yMXn04-GQTY',\n",
        " 'https://www.youtube.com/watch?v=RCCzZGcGg5k',\n",
        " 'https://www.youtube.com/watch?v=FqMFKGsXLOE',\n",
        " 'https://www.youtube.com/watch?v=MVOvQb8KBm0',\n",
        " 'https://www.youtube.com/watch?v=ENvWfMwnJ_0',\n",
        " 'https://www.youtube.com/watch?v=bs7xGm293Vs',\n",
        " 'https://www.youtube.com/watch?v=7OvrK-U-axI',\n",
        " 'https://www.youtube.com/watch?v=VHeWqPqs4vo',\n",
        " 'https://www.youtube.com/watch?v=nVOEi9FESn8',\n",
        " 'https://www.youtube.com/watch?v=eikTWAvFwTE',\n",
        " 'https://www.youtube.com/watch?v=BU2amn3QdWk',\n",
        " 'https://www.youtube.com/watch?v=GiB1pOuEvqg',\n",
        " 'https://www.youtube.com/watch?v=GAPN17lTJ9c',\n",
        " 'https://www.youtube.com/watch?v=4Ja1uZbMM8E',\n",
        " 'https://www.youtube.com/watch?v=F1dAfCR4rc0',\n",
        " 'https://www.youtube.com/watch?v=334O9xh-CQY',\n",
        " 'https://www.youtube.com/watch?v=KgNmw3sJ0g8',\n",
        " 'https://www.youtube.com/watch?v=-SQSue4-PLk',\n",
        " 'https://www.youtube.com/watch?v=HPE4PHlYySo']"
       ]
      }
     ],
     "prompt_number": 1
    },
    {
     "cell_type": "markdown",
     "metadata": {},
     "source": [
      "Luego, el paso lento: bajar los videos. Al parecer, Youtube no genera un subtitulo autom\u00e1tico para videos demasiado largo, as\u00ed que limit\u00e9 hasta 30 minutos. "
     ]
    },
    {
     "cell_type": "code",
     "collapsed": true,
     "input": [
      "for link in links:\n",
      "    !youtube-dl --write-auto-sub --sub-lang es --max-filesize 30.00m {link}"
     ],
     "language": "python",
     "metadata": {},
     "outputs": [],
     "prompt_number": 2
    },
    {
     "cell_type": "markdown",
     "metadata": {},
     "source": [
      "Con el material crudo disponible (aunque puede ser que no se hayan encontrado subtitulos para todos los videos), podemos copiar descaradamente partes del c\u00f3digo de Zulko (levemente adaptado)\n",
      "\n"
     ]
    },
    {
     "cell_type": "code",
     "collapsed": false,
     "input": [
      "import re \n",
      "import os\n",
      "import glob\n",
      "import random\n",
      "from moviepy.editor import VideoFileClip, concatenate, TextClip, CompositeVideoClip\n",
      "\n",
      "\n",
      "def convert_time(timestring):\n",
      "    \"\"\" Converts a string into seconds \"\"\"\n",
      "    nums = [float(t) for t in re.findall(r'\\d+', timestring)]\n",
      "    return 3600 * nums[0] + 60*nums[1] + nums[2] + nums[3]/1000\n",
      "\n",
      "\n",
      "def get_time_texts(file):\n",
      "    with open(file) as f:\n",
      "        lines = f.readlines()\n",
      "\n",
      "    times_texts = []\n",
      "    current_times , current_text = None, \"\"\n",
      "    for line in lines:\n",
      "        times = re.findall(\"[0-9]*:[0-9]*:[0-9]*,[0-9]*\", line)\n",
      "        if times != []:\n",
      "            current_times = [convert_time(t) for t in times]\n",
      "        elif line == '\\n':\n",
      "            times_texts.append((current_times, current_text))\n",
      "            current_times, current_text = None, \"\"\n",
      "        elif current_times is not None:\n",
      "            current_text = current_text + line.replace(\"\\n\",\" \")\n",
      "    return times_texts\n",
      "\n",
      "def find_word(word, times_texts, padding=.4):\n",
      "    \"\"\" Finds all 'exact' (t_start, t_end) for a word \"\"\"\n",
      "    matches = [re.search(word, text)\n",
      "               for (t,text) in times_texts]\n",
      "    return [(t1 + m.start()*(t2-t1)/len(text) - padding,\n",
      "             t1 + m.end()*(t2-t1)/len(text) + padding)\n",
      "             for m,((t1,t2),text) in zip(matches, times_texts)\n",
      "             if (m is not None)]\n",
      "\n",
      "\n",
      "def get_subclips(video_path, cuts):   \n",
      "    video = VideoFileClip(video_path)\n",
      "    return [video.subclip(start, end) for (start,end) in cuts]\n",
      "\n",
      "\n",
      "def get_all_subclips_for(word, pattern='*.mp4', sub_ext='.es.srt', shuffle=True):\n",
      "    subclips = []\n",
      "    for mp4 in glob.glob(pattern):\n",
      "        sub = os.path.splitext(mp4)[0] + sub_ext\n",
      "        try:\n",
      "            times = find_word(word, get_time_texts(sub))\n",
      "        except IOError:\n",
      "            # ignore video if it hasn't subtitle\n",
      "            continue\n",
      "        cuts = get_subclips(mp4, times)\n",
      "        subclips.extend(cuts)\n",
      "    if shuffle:\n",
      "        random.shuffle(subclips)\n",
      "    return subclips\n",
      "\n"
     ],
     "language": "python",
     "metadata": {},
     "outputs": [],
     "prompt_number": 3
    },
    {
     "cell_type": "markdown",
     "metadata": {},
     "source": [
      "La funci\u00f3n `get_all_subclip` recibe la frase a buscar y devuelve un listado de segmentos donde, muy probablemente, se pronuncia.\n"
     ]
    },
    {
     "cell_type": "code",
     "collapsed": false,
     "input": [
      "gente = get_all_subclips_for('la gente')\n",
      "len(gente)"
     ],
     "language": "python",
     "metadata": {},
     "outputs": [
      {
       "metadata": {},
       "output_type": "pyout",
       "prompt_number": 4,
       "text": [
        "77"
       ]
      }
     ],
     "prompt_number": 4
    },
    {
     "cell_type": "markdown",
     "metadata": {},
     "source": [
      "\n",
      "El problema es que aunque es muy probable que sea Sergio Massa el que diga \"la gente\" en sus entrevistas, a veces es el entrevistador, a veces youtube entendi\u00f3 mal al desgrabar y a veces el código recortador la pifia. Por este motivo hay que descartar los segmentos que no sirven. \n",
      "\n",
      "Se me ocurri\u00f3 hacerlo visualmente: los pegu\u00e9 todos, superponiendo el \u00edndice al que corresponde cada segmento, para luego anotar los que no sirven y filtrarlos en otra pasada. "
     ]
    },
    {
     "cell_type": "code",
     "collapsed": false,
     "input": [
      "def make_preview(subclips):\n",
      "    subclips_ = []\n",
      "    for (i, clip) in enumerate(subclips):\n",
      "        txt_clip = TextClip(str(i),fontsize=70, color='white')\n",
      "        txt_clip = txt_clip.set_pos('center').set_duration(clip.duration)\n",
      "        clip = CompositeVideoClip([clip, txt_clip])\n",
      "        subclips_.append(clip)\n",
      "\n",
      "    final = concatenate(subclips_, method='compose')\n",
      "    final.write_videofile('preview.webm', codec='libvpx', fps=24)    \n"
     ],
     "language": "python",
     "metadata": {},
     "outputs": [],
     "prompt_number": 5
    },
    {
     "cell_type": "code",
     "collapsed": false,
     "input": [
      "make_preview(gente)"
     ],
     "language": "python",
     "metadata": {},
     "outputs": [
      {
       "output_type": "stream",
       "stream": "stdout",
       "text": [
        "[MoviePy] >>>> Building video preview.webm\n"
       ]
      },
      {
       "output_type": "stream",
       "stream": "stdout",
       "text": [
        "[MoviePy] Writing audio in previewTEMP_MPY_wvf_snd.ogg\n"
       ]
      },
      {
       "output_type": "stream",
       "stream": "stdout",
       "text": [
        "\r",
        "|----------| 0/2236   0% [elapsed: 00:00 left: ?, ? iters/sec]"
       ]
      },
      {
       "output_type": "stream",
       "stream": "stdout",
       "text": [
        "\r",
        "|----------| 131/2236   5% [elapsed: 00:00 left: 00:08, 261.78 iters/sec]"
       ]
      },
      {
       "output_type": "stream",
       "stream": "stdout",
       "text": [
        "\r",
        "|#---------| 272/2236  12% [elapsed: 00:01 left: 00:07, 271.59 iters/sec]"
       ]
      },
      {
       "output_type": "stream",
       "stream": "stdout",
       "text": [
        "\r",
        "|#---------| 437/2236  19% [elapsed: 00:01 left: 00:06, 290.69 iters/sec]"
       ]
      },
      {
       "output_type": "stream",
       "stream": "stdout",
       "text": [
        "\r",
        "|##--------| 581/2236  25% [elapsed: 00:02 left: 00:05, 285.92 iters/sec]"
       ]
      },
      {
       "output_type": "stream",
       "stream": "stdout",
       "text": [
        "\r",
        "|###-------| 743/2236  33% [elapsed: 00:02 left: 00:05, 290.78 iters/sec]"
       ]
      },
      {
       "output_type": "stream",
       "stream": "stdout",
       "text": [
        "\r",
        "|####------| 911/2236  40% [elapsed: 00:03 left: 00:04, 294.22 iters/sec]"
       ]
      },
      {
       "output_type": "stream",
       "stream": "stdout",
       "text": [
        "\r",
        "|####------| 1049/2236  46% [elapsed: 00:03 left: 00:04, 290.41 iters/sec]"
       ]
      },
      {
       "output_type": "stream",
       "stream": "stdout",
       "text": [
        "\r",
        "|#####-----| 1194/2236  53% [elapsed: 00:04 left: 00:03, 290.29 iters/sec]"
       ]
      },
      {
       "output_type": "stream",
       "stream": "stdout",
       "text": [
        "\r",
        "|######----| 1345/2236  60% [elapsed: 00:04 left: 00:03, 291.53 iters/sec]"
       ]
      },
      {
       "output_type": "stream",
       "stream": "stdout",
       "text": [
        "\r",
        "|######----| 1495/2236  66% [elapsed: 00:05 left: 00:02, 292.33 iters/sec]"
       ]
      },
      {
       "output_type": "stream",
       "stream": "stdout",
       "text": [
        "\r",
        "|#######---| 1623/2236  72% [elapsed: 00:05 left: 00:02, 289.06 iters/sec]"
       ]
      },
      {
       "output_type": "stream",
       "stream": "stdout",
       "text": [
        "\r",
        "|#######---| 1782/2236  79% [elapsed: 00:06 left: 00:01, 291.35 iters/sec]"
       ]
      },
      {
       "output_type": "stream",
       "stream": "stdout",
       "text": [
        "\r",
        "|########--| 1924/2236  86% [elapsed: 00:06 left: 00:01, 290.78 iters/sec]"
       ]
      },
      {
       "output_type": "stream",
       "stream": "stdout",
       "text": [
        "\r",
        "|#########-| 2086/2236  93% [elapsed: 00:07 left: 00:00, 293.03 iters/sec]"
       ]
      },
      {
       "output_type": "stream",
       "stream": "stdout",
       "text": [
        "\r",
        "                                                                          "
       ]
      },
      {
       "output_type": "stream",
       "stream": "stdout",
       "text": [
        "\r",
        "[MoviePy] Done.\n"
       ]
      },
      {
       "output_type": "stream",
       "stream": "stdout",
       "text": [
        "[MoviePy] Writing video preview.webm\n"
       ]
      },
      {
       "output_type": "stream",
       "stream": "stdout",
       "text": [
        "\r",
        "|----------| 0/2433   0% [elapsed: 00:00 left: ?, ? iters/sec]"
       ]
      },
      {
       "output_type": "stream",
       "stream": "stdout",
       "text": [
        "\r",
        "|----------| 21/2433   0% [elapsed: 00:00 left: 01:01, 39.24 iters/sec]"
       ]
      },
      {
       "output_type": "stream",
       "stream": "stdout",
       "text": [
        "\r",
        "|----------| 36/2433   1% [elapsed: 00:01 left: 01:10, 33.86 iters/sec]"
       ]
      },
      {
       "output_type": "stream",
       "stream": "stdout",
       "text": [
        "\r",
        "|----------| 50/2433   2% [elapsed: 00:01 left: 01:16, 31.34 iters/sec]"
       ]
      },
      {
       "output_type": "stream",
       "stream": "stdout",
       "text": [
        "\r",
        "|----------| 62/2433   2% [elapsed: 00:02 left: 01:21, 28.92 iters/sec]"
       ]
      },
      {
       "output_type": "stream",
       "stream": "stdout",
       "text": [
        "\r",
        "|----------| 70/2433   2% [elapsed: 00:02 left: 01:31, 25.96 iters/sec]"
       ]
      },
      {
       "output_type": "stream",
       "stream": "stdout",
       "text": [
        "\r",
        "|----------| 81/2433   3% [elapsed: 00:03 left: 01:33, 25.04 iters/sec]"
       ]
      },
      {
       "output_type": "stream",
       "stream": "stdout",
       "text": [
        "\r",
        "|----------| 94/2433   3% [elapsed: 00:03 left: 01:34, 24.70 iters/sec]"
       ]
      },
      {
       "output_type": "stream",
       "stream": "stdout",
       "text": [
        "\r",
        "|----------| 106/2433   4% [elapsed: 00:04 left: 01:35, 24.28 iters/sec]"
       ]
      },
      {
       "output_type": "stream",
       "stream": "stdout",
       "text": [
        "\r",
        "|----------| 119/2433   4% [elapsed: 00:04 left: 01:35, 24.31 iters/sec]"
       ]
      },
      {
       "output_type": "stream",
       "stream": "stdout",
       "text": [
        "\r",
        "|----------| 135/2433   5% [elapsed: 00:05 left: 01:32, 24.89 iters/sec]"
       ]
      },
      {
       "output_type": "stream",
       "stream": "stdout",
       "text": [
        "\r",
        "|----------| 146/2433   6% [elapsed: 00:05 left: 01:33, 24.48 iters/sec]"
       ]
      },
      {
       "output_type": "stream",
       "stream": "stdout",
       "text": [
        "\r",
        "|----------| 155/2433   6% [elapsed: 00:06 left: 01:35, 23.96 iters/sec]"
       ]
      },
      {
       "output_type": "stream",
       "stream": "stdout",
       "text": [
        "\r",
        "|----------| 165/2433   6% [elapsed: 00:07 left: 01:36, 23.42 iters/sec]"
       ]
      },
      {
       "output_type": "stream",
       "stream": "stdout",
       "text": [
        "\r",
        "|----------| 177/2433   7% [elapsed: 00:07 left: 01:36, 23.43 iters/sec]"
       ]
      },
      {
       "output_type": "stream",
       "stream": "stdout",
       "text": [
        "\r",
        "|----------| 189/2433   7% [elapsed: 00:08 left: 01:35, 23.41 iters/sec]"
       ]
      },
      {
       "output_type": "stream",
       "stream": "stdout",
       "text": [
        "\r",
        "|----------| 201/2433   8% [elapsed: 00:08 left: 01:35, 23.43 iters/sec]"
       ]
      },
      {
       "output_type": "stream",
       "stream": "stdout",
       "text": [
        "\r",
        "|----------| 212/2433   8% [elapsed: 00:09 left: 01:35, 23.30 iters/sec]"
       ]
      },
      {
       "output_type": "stream",
       "stream": "stdout",
       "text": [
        "\r",
        "|----------| 224/2433   9% [elapsed: 00:09 left: 01:34, 23.31 iters/sec]"
       ]
      },
      {
       "output_type": "stream",
       "stream": "stdout",
       "text": [
        "\r",
        "|----------| 237/2433   9% [elapsed: 00:10 left: 01:33, 23.42 iters/sec]"
       ]
      },
      {
       "output_type": "stream",
       "stream": "stdout",
       "text": [
        "\r",
        "|#---------| 250/2433  10% [elapsed: 00:10 left: 01:33, 23.46 iters/sec]"
       ]
      },
      {
       "output_type": "stream",
       "stream": "stdout",
       "text": [
        "\r",
        "|#---------| 264/2433  10% [elapsed: 00:11 left: 01:31, 23.64 iters/sec]"
       ]
      },
      {
       "output_type": "stream",
       "stream": "stdout",
       "text": [
        "\r",
        "|#---------| 282/2433  11% [elapsed: 00:11 left: 01:29, 24.17 iters/sec]"
       ]
      },
      {
       "output_type": "stream",
       "stream": "stdout",
       "text": [
        "\r",
        "|#---------| 293/2433  12% [elapsed: 00:12 left: 01:28, 24.06 iters/sec]"
       ]
      },
      {
       "output_type": "stream",
       "stream": "stdout",
       "text": [
        "\r",
        "|#---------| 304/2433  12% [elapsed: 00:12 left: 01:29, 23.77 iters/sec]"
       ]
      },
      {
       "output_type": "stream",
       "stream": "stdout",
       "text": [
        "\r",
        "|#---------| 312/2433  12% [elapsed: 00:13 left: 01:30, 23.44 iters/sec]"
       ]
      },
      {
       "output_type": "stream",
       "stream": "stdout",
       "text": [
        "\r",
        "|#---------| 326/2433  13% [elapsed: 00:13 left: 01:29, 23.61 iters/sec]"
       ]
      },
      {
       "output_type": "stream",
       "stream": "stdout",
       "text": [
        "\r",
        "|#---------| 351/2433  14% [elapsed: 00:14 left: 01:24, 24.50 iters/sec]"
       ]
      },
      {
       "output_type": "stream",
       "stream": "stdout",
       "text": [
        "\r",
        "|#---------| 369/2433  15% [elapsed: 00:14 left: 01:23, 24.86 iters/sec]"
       ]
      },
      {
       "output_type": "stream",
       "stream": "stdout",
       "text": [
        "\r",
        "|#---------| 385/2433  15% [elapsed: 00:15 left: 01:21, 25.09 iters/sec]"
       ]
      },
      {
       "output_type": "stream",
       "stream": "stdout",
       "text": [
        "\r",
        "|#---------| 397/2433  16% [elapsed: 00:15 left: 01:21, 24.91 iters/sec]"
       ]
      },
      {
       "output_type": "stream",
       "stream": "stdout",
       "text": [
        "\r",
        "|#---------| 421/2433  17% [elapsed: 00:16 left: 01:18, 25.62 iters/sec]"
       ]
      },
      {
       "output_type": "stream",
       "stream": "stdout",
       "text": [
        "\r",
        "|#---------| 437/2433  17% [elapsed: 00:16 left: 01:17, 25.76 iters/sec]"
       ]
      },
      {
       "output_type": "stream",
       "stream": "stdout",
       "text": [
        "\r",
        "|#---------| 447/2433  18% [elapsed: 00:17 left: 01:17, 25.53 iters/sec]"
       ]
      },
      {
       "output_type": "stream",
       "stream": "stdout",
       "text": [
        "\r",
        "|#---------| 460/2433  18% [elapsed: 00:18 left: 01:17, 25.48 iters/sec]"
       ]
      },
      {
       "output_type": "stream",
       "stream": "stdout",
       "text": [
        "\r",
        "|#---------| 474/2433  19% [elapsed: 00:18 left: 01:16, 25.51 iters/sec]"
       ]
      },
      {
       "output_type": "stream",
       "stream": "stdout",
       "text": [
        "\r",
        "|##--------| 491/2433  20% [elapsed: 00:19 left: 01:15, 25.72 iters/sec]"
       ]
      },
      {
       "output_type": "stream",
       "stream": "stdout",
       "text": [
        "\r",
        "|##--------| 502/2433  20% [elapsed: 00:19 left: 01:15, 25.61 iters/sec]"
       ]
      },
      {
       "output_type": "stream",
       "stream": "stdout",
       "text": [
        "\r",
        "|##--------| 513/2433  21% [elapsed: 00:20 left: 01:15, 25.37 iters/sec]"
       ]
      },
      {
       "output_type": "stream",
       "stream": "stdout",
       "text": [
        "\r",
        "|##--------| 523/2433  21% [elapsed: 00:20 left: 01:15, 25.24 iters/sec]"
       ]
      },
      {
       "output_type": "stream",
       "stream": "stdout",
       "text": [
        "\r",
        "|##--------| 532/2433  21% [elapsed: 00:21 left: 01:16, 25.01 iters/sec]"
       ]
      },
      {
       "output_type": "stream",
       "stream": "stdout",
       "text": [
        "\r",
        "|##--------| 542/2433  22% [elapsed: 00:21 left: 01:16, 24.86 iters/sec]"
       ]
      },
      {
       "output_type": "stream",
       "stream": "stdout",
       "text": [
        "\r",
        "|##--------| 551/2433  22% [elapsed: 00:22 left: 01:16, 24.68 iters/sec]"
       ]
      },
      {
       "output_type": "stream",
       "stream": "stdout",
       "text": [
        "\r",
        "|##--------| 561/2433  23% [elapsed: 00:22 left: 01:16, 24.51 iters/sec]"
       ]
      },
      {
       "output_type": "stream",
       "stream": "stdout",
       "text": [
        "\r",
        "|##--------| 571/2433  23% [elapsed: 00:23 left: 01:16, 24.39 iters/sec]"
       ]
      },
      {
       "output_type": "stream",
       "stream": "stdout",
       "text": [
        "\r",
        "|##--------| 581/2433  23% [elapsed: 00:23 left: 01:16, 24.30 iters/sec]"
       ]
      },
      {
       "output_type": "stream",
       "stream": "stdout",
       "text": [
        "\r",
        "|##--------| 590/2433  24% [elapsed: 00:24 left: 01:16, 24.09 iters/sec]"
       ]
      },
      {
       "output_type": "stream",
       "stream": "stdout",
       "text": [
        "\r",
        "|##--------| 602/2433  24% [elapsed: 00:25 left: 01:16, 24.05 iters/sec]"
       ]
      },
      {
       "output_type": "stream",
       "stream": "stdout",
       "text": [
        "\r",
        "|##--------| 613/2433  25% [elapsed: 00:25 left: 01:15, 24.01 iters/sec]"
       ]
      },
      {
       "output_type": "stream",
       "stream": "stdout",
       "text": [
        "\r",
        "|##--------| 628/2433  25% [elapsed: 00:26 left: 01:14, 24.10 iters/sec]"
       ]
      },
      {
       "output_type": "stream",
       "stream": "stdout",
       "text": [
        "\r",
        "|##--------| 640/2433  26% [elapsed: 00:26 left: 01:14, 24.08 iters/sec]"
       ]
      },
      {
       "output_type": "stream",
       "stream": "stdout",
       "text": [
        "\r",
        "|##--------| 651/2433  26% [elapsed: 00:27 left: 01:14, 24.03 iters/sec]"
       ]
      },
      {
       "output_type": "stream",
       "stream": "stdout",
       "text": [
        "\r",
        "|##--------| 664/2433  27% [elapsed: 00:27 left: 01:13, 24.03 iters/sec]"
       ]
      },
      {
       "output_type": "stream",
       "stream": "stdout",
       "text": [
        "\r",
        "|##--------| 684/2433  28% [elapsed: 00:28 left: 01:11, 24.31 iters/sec]"
       ]
      },
      {
       "output_type": "stream",
       "stream": "stdout",
       "text": [
        "\r",
        "|##--------| 704/2433  28% [elapsed: 00:28 left: 01:10, 24.53 iters/sec]"
       ]
      },
      {
       "output_type": "stream",
       "stream": "stdout",
       "text": [
        "\r",
        "|##--------| 717/2433  29% [elapsed: 00:29 left: 01:10, 24.51 iters/sec]"
       ]
      },
      {
       "output_type": "stream",
       "stream": "stdout",
       "text": [
        "\r",
        "|###-------| 730/2433  30% [elapsed: 00:29 left: 01:09, 24.51 iters/sec]"
       ]
      },
      {
       "output_type": "stream",
       "stream": "stdout",
       "text": [
        "\r",
        "|###-------| 741/2433  30% [elapsed: 00:30 left: 01:09, 24.47 iters/sec]"
       ]
      },
      {
       "output_type": "stream",
       "stream": "stdout",
       "text": [
        "\r",
        "|###-------| 763/2433  31% [elapsed: 00:30 left: 01:07, 24.78 iters/sec]"
       ]
      },
      {
       "output_type": "stream",
       "stream": "stdout",
       "text": [
        "\r",
        "|###-------| 782/2433  32% [elapsed: 00:31 left: 01:06, 24.98 iters/sec]"
       ]
      },
      {
       "output_type": "stream",
       "stream": "stdout",
       "text": [
        "\r",
        "|###-------| 796/2433  32% [elapsed: 00:31 left: 01:05, 25.01 iters/sec]"
       ]
      },
      {
       "output_type": "stream",
       "stream": "stdout",
       "text": [
        "\r",
        "|###-------| 810/2433  33% [elapsed: 00:32 left: 01:04, 25.05 iters/sec]"
       ]
      },
      {
       "output_type": "stream",
       "stream": "stdout",
       "text": [
        "\r",
        "|###-------| 828/2433  34% [elapsed: 00:32 left: 01:03, 25.21 iters/sec]"
       ]
      },
      {
       "output_type": "stream",
       "stream": "stdout",
       "text": [
        "\r",
        "|###-------| 859/2433  35% [elapsed: 00:33 left: 01:01, 25.76 iters/sec]"
       ]
      },
      {
       "output_type": "stream",
       "stream": "stdout",
       "text": [
        "\r",
        "|###-------| 886/2433  36% [elapsed: 00:33 left: 00:59, 26.13 iters/sec]"
       ]
      },
      {
       "output_type": "stream",
       "stream": "stdout",
       "text": [
        "\r",
        "|###-------| 900/2433  36% [elapsed: 00:34 left: 00:58, 26.13 iters/sec]"
       ]
      },
      {
       "output_type": "stream",
       "stream": "stdout",
       "text": [
        "\r",
        "|###-------| 912/2433  37% [elapsed: 00:34 left: 00:58, 26.08 iters/sec]"
       ]
      },
      {
       "output_type": "stream",
       "stream": "stdout",
       "text": [
        "\r",
        "|###-------| 920/2433  37% [elapsed: 00:35 left: 00:58, 25.91 iters/sec]"
       ]
      },
      {
       "output_type": "stream",
       "stream": "stdout",
       "text": [
        "\r",
        "|###-------| 931/2433  38% [elapsed: 00:36 left: 00:58, 25.83 iters/sec]"
       ]
      },
      {
       "output_type": "stream",
       "stream": "stdout",
       "text": [
        "\r",
        "|###-------| 943/2433  38% [elapsed: 00:36 left: 00:57, 25.79 iters/sec]"
       ]
      },
      {
       "output_type": "stream",
       "stream": "stdout",
       "text": [
        "\r",
        "|###-------| 956/2433  39% [elapsed: 00:37 left: 00:57, 25.77 iters/sec]"
       ]
      },
      {
       "output_type": "stream",
       "stream": "stdout",
       "text": [
        "\r",
        "|###-------| 967/2433  39% [elapsed: 00:37 left: 00:56, 25.72 iters/sec]"
       ]
      },
      {
       "output_type": "stream",
       "stream": "stdout",
       "text": [
        "\r",
        "|####------| 980/2433  40% [elapsed: 00:38 left: 00:56, 25.69 iters/sec]"
       ]
      },
      {
       "output_type": "stream",
       "stream": "stdout",
       "text": [
        "\r",
        "|####------| 993/2433  40% [elapsed: 00:38 left: 00:56, 25.69 iters/sec]"
       ]
      },
      {
       "output_type": "stream",
       "stream": "stdout",
       "text": [
        "\r",
        "|####------| 1009/2433  41% [elapsed: 00:39 left: 00:55, 25.72 iters/sec]"
       ]
      },
      {
       "output_type": "stream",
       "stream": "stdout",
       "text": [
        "\r",
        "|####------| 1025/2433  42% [elapsed: 00:39 left: 00:54, 25.80 iters/sec]"
       ]
      },
      {
       "output_type": "stream",
       "stream": "stdout",
       "text": [
        "\r",
        "|####------| 1051/2433  43% [elapsed: 00:40 left: 00:52, 26.12 iters/sec]"
       ]
      },
      {
       "output_type": "stream",
       "stream": "stdout",
       "text": [
        "\r",
        "|####------| 1068/2433  43% [elapsed: 00:40 left: 00:52, 26.21 iters/sec]"
       ]
      },
      {
       "output_type": "stream",
       "stream": "stdout",
       "text": [
        "\r",
        "|####------| 1079/2433  44% [elapsed: 00:41 left: 00:51, 26.14 iters/sec]"
       ]
      },
      {
       "output_type": "stream",
       "stream": "stdout",
       "text": [
        "\r",
        "|####------| 1086/2433  44% [elapsed: 00:41 left: 00:51, 25.99 iters/sec]"
       ]
      },
      {
       "output_type": "stream",
       "stream": "stdout",
       "text": [
        "\r",
        "|####------| 1095/2433  45% [elapsed: 00:42 left: 00:51, 25.90 iters/sec]"
       ]
      },
      {
       "output_type": "stream",
       "stream": "stdout",
       "text": [
        "\r",
        "|####------| 1108/2433  45% [elapsed: 00:42 left: 00:51, 25.88 iters/sec]"
       ]
      },
      {
       "output_type": "stream",
       "stream": "stdout",
       "text": [
        "\r",
        "|####------| 1118/2433  45% [elapsed: 00:43 left: 00:50, 25.80 iters/sec]"
       ]
      },
      {
       "output_type": "stream",
       "stream": "stdout",
       "text": [
        "\r",
        "|####------| 1132/2433  46% [elapsed: 00:43 left: 00:50, 25.82 iters/sec]"
       ]
      },
      {
       "output_type": "stream",
       "stream": "stdout",
       "text": [
        "\r",
        "|####------| 1145/2433  47% [elapsed: 00:44 left: 00:49, 25.81 iters/sec]"
       ]
      },
      {
       "output_type": "stream",
       "stream": "stdout",
       "text": [
        "\r",
        "|####------| 1161/2433  47% [elapsed: 00:44 left: 00:49, 25.86 iters/sec]"
       ]
      },
      {
       "output_type": "stream",
       "stream": "stdout",
       "text": [
        "\r",
        "|####------| 1184/2433  48% [elapsed: 00:45 left: 00:47, 26.07 iters/sec]"
       ]
      },
      {
       "output_type": "stream",
       "stream": "stdout",
       "text": [
        "\r",
        "|####------| 1197/2433  49% [elapsed: 00:46 left: 00:47, 26.02 iters/sec]"
       ]
      },
      {
       "output_type": "stream",
       "stream": "stdout",
       "text": [
        "\r",
        "|####------| 1208/2433  49% [elapsed: 00:46 left: 00:47, 25.96 iters/sec]"
       ]
      },
      {
       "output_type": "stream",
       "stream": "stdout",
       "text": [
        "\r",
        "|#####-----| 1217/2433  50% [elapsed: 00:47 left: 00:47, 25.87 iters/sec]"
       ]
      },
      {
       "output_type": "stream",
       "stream": "stdout",
       "text": [
        "\r",
        "|#####-----| 1232/2433  50% [elapsed: 00:47 left: 00:46, 25.91 iters/sec]"
       ]
      },
      {
       "output_type": "stream",
       "stream": "stdout",
       "text": [
        "\r",
        "|#####-----| 1250/2433  51% [elapsed: 00:48 left: 00:45, 25.96 iters/sec]"
       ]
      },
      {
       "output_type": "stream",
       "stream": "stdout",
       "text": [
        "\r",
        "|#####-----| 1260/2433  51% [elapsed: 00:48 left: 00:45, 25.88 iters/sec]"
       ]
      },
      {
       "output_type": "stream",
       "stream": "stdout",
       "text": [
        "\r",
        "|#####-----| 1271/2433  52% [elapsed: 00:49 left: 00:44, 25.83 iters/sec]"
       ]
      },
      {
       "output_type": "stream",
       "stream": "stdout",
       "text": [
        "\r",
        "|#####-----| 1282/2433  52% [elapsed: 00:49 left: 00:44, 25.78 iters/sec]"
       ]
      },
      {
       "output_type": "stream",
       "stream": "stdout",
       "text": [
        "\r",
        "|#####-----| 1297/2433  53% [elapsed: 00:50 left: 00:44, 25.81 iters/sec]"
       ]
      },
      {
       "output_type": "stream",
       "stream": "stdout",
       "text": [
        "\r",
        "|#####-----| 1313/2433  53% [elapsed: 00:50 left: 00:43, 25.87 iters/sec]"
       ]
      },
      {
       "output_type": "stream",
       "stream": "stdout",
       "text": [
        "\r",
        "|#####-----| 1326/2433  54% [elapsed: 00:51 left: 00:42, 25.87 iters/sec]"
       ]
      },
      {
       "output_type": "stream",
       "stream": "stdout",
       "text": [
        "\r",
        "|#####-----| 1337/2433  54% [elapsed: 00:51 left: 00:42, 25.83 iters/sec]"
       ]
      },
      {
       "output_type": "stream",
       "stream": "stdout",
       "text": [
        "\r",
        "|#####-----| 1348/2433  55% [elapsed: 00:52 left: 00:42, 25.77 iters/sec]"
       ]
      },
      {
       "output_type": "stream",
       "stream": "stdout",
       "text": [
        "\r",
        "|#####-----| 1357/2433  55% [elapsed: 00:52 left: 00:41, 25.67 iters/sec]"
       ]
      },
      {
       "output_type": "stream",
       "stream": "stdout",
       "text": [
        "\r",
        "|#####-----| 1367/2433  56% [elapsed: 00:53 left: 00:41, 25.60 iters/sec]"
       ]
      },
      {
       "output_type": "stream",
       "stream": "stdout",
       "text": [
        "\r",
        "|#####-----| 1380/2433  56% [elapsed: 00:53 left: 00:41, 25.60 iters/sec]"
       ]
      },
      {
       "output_type": "stream",
       "stream": "stdout",
       "text": [
        "\r",
        "|#####-----| 1392/2433  57% [elapsed: 00:54 left: 00:40, 25.57 iters/sec]"
       ]
      },
      {
       "output_type": "stream",
       "stream": "stdout",
       "text": [
        "\r",
        "|#####-----| 1404/2433  57% [elapsed: 00:54 left: 00:40, 25.55 iters/sec]"
       ]
      },
      {
       "output_type": "stream",
       "stream": "stdout",
       "text": [
        "\r",
        "|#####-----| 1419/2433  58% [elapsed: 00:55 left: 00:39, 25.58 iters/sec]"
       ]
      },
      {
       "output_type": "stream",
       "stream": "stdout",
       "text": [
        "\r",
        "|#####-----| 1435/2433  58% [elapsed: 00:56 left: 00:38, 25.60 iters/sec]"
       ]
      },
      {
       "output_type": "stream",
       "stream": "stdout",
       "text": [
        "\r",
        "|#####-----| 1452/2433  59% [elapsed: 00:56 left: 00:38, 25.67 iters/sec]"
       ]
      },
      {
       "output_type": "stream",
       "stream": "stdout",
       "text": [
        "\r",
        "|######----| 1467/2433  60% [elapsed: 00:57 left: 00:37, 25.70 iters/sec]"
       ]
      },
      {
       "output_type": "stream",
       "stream": "stdout",
       "text": [
        "\r",
        "|######----| 1478/2433  60% [elapsed: 00:57 left: 00:37, 25.66 iters/sec]"
       ]
      },
      {
       "output_type": "stream",
       "stream": "stdout",
       "text": [
        "\r",
        "|######----| 1487/2433  61% [elapsed: 00:58 left: 00:36, 25.57 iters/sec]"
       ]
      },
      {
       "output_type": "stream",
       "stream": "stdout",
       "text": [
        "\r",
        "|######----| 1502/2433  61% [elapsed: 00:58 left: 00:36, 25.60 iters/sec]"
       ]
      },
      {
       "output_type": "stream",
       "stream": "stdout",
       "text": [
        "\r",
        "|######----| 1528/2433  62% [elapsed: 00:59 left: 00:35, 25.83 iters/sec]"
       ]
      },
      {
       "output_type": "stream",
       "stream": "stdout",
       "text": [
        "\r",
        "|######----| 1544/2433  63% [elapsed: 00:59 left: 00:34, 25.87 iters/sec]"
       ]
      },
      {
       "output_type": "stream",
       "stream": "stdout",
       "text": [
        "\r",
        "|######----| 1568/2433  64% [elapsed: 01:00 left: 00:33, 26.05 iters/sec]"
       ]
      },
      {
       "output_type": "stream",
       "stream": "stdout",
       "text": [
        "\r",
        "|######----| 1584/2433  65% [elapsed: 01:00 left: 00:32, 26.08 iters/sec]"
       ]
      },
      {
       "output_type": "stream",
       "stream": "stdout",
       "text": [
        "\r",
        "|######----| 1597/2433  65% [elapsed: 01:01 left: 00:32, 26.07 iters/sec]"
       ]
      },
      {
       "output_type": "stream",
       "stream": "stdout",
       "text": [
        "\r",
        "|######----| 1607/2433  66% [elapsed: 01:01 left: 00:31, 26.00 iters/sec]"
       ]
      },
      {
       "output_type": "stream",
       "stream": "stdout",
       "text": [
        "\r",
        "|######----| 1618/2433  66% [elapsed: 01:02 left: 00:31, 25.93 iters/sec]"
       ]
      },
      {
       "output_type": "stream",
       "stream": "stdout",
       "text": [
        "\r",
        "|######----| 1628/2433  66% [elapsed: 01:02 left: 00:31, 25.87 iters/sec]"
       ]
      },
      {
       "output_type": "stream",
       "stream": "stdout",
       "text": [
        "\r",
        "|######----| 1639/2433  67% [elapsed: 01:03 left: 00:30, 25.83 iters/sec]"
       ]
      },
      {
       "output_type": "stream",
       "stream": "stdout",
       "text": [
        "\r",
        "|######----| 1649/2433  67% [elapsed: 01:03 left: 00:30, 25.78 iters/sec]"
       ]
      },
      {
       "output_type": "stream",
       "stream": "stdout",
       "text": [
        "\r",
        "|######----| 1674/2433  68% [elapsed: 01:04 left: 00:29, 25.97 iters/sec]"
       ]
      },
      {
       "output_type": "stream",
       "stream": "stdout",
       "text": [
        "\r",
        "|######----| 1695/2433  69% [elapsed: 01:04 left: 00:28, 26.08 iters/sec]"
       ]
      },
      {
       "output_type": "stream",
       "stream": "stdout",
       "text": [
        "\r",
        "|#######---| 1710/2433  70% [elapsed: 01:05 left: 00:27, 26.09 iters/sec]"
       ]
      },
      {
       "output_type": "stream",
       "stream": "stdout",
       "text": [
        "\r",
        "|#######---| 1725/2433  70% [elapsed: 01:06 left: 00:27, 26.08 iters/sec]"
       ]
      },
      {
       "output_type": "stream",
       "stream": "stdout",
       "text": [
        "\r",
        "|#######---| 1736/2433  71% [elapsed: 01:06 left: 00:26, 26.03 iters/sec]"
       ]
      },
      {
       "output_type": "stream",
       "stream": "stdout",
       "text": [
        "\r",
        "|#######---| 1746/2433  71% [elapsed: 01:07 left: 00:26, 25.98 iters/sec]"
       ]
      },
      {
       "output_type": "stream",
       "stream": "stdout",
       "text": [
        "\r",
        "|#######---| 1760/2433  72% [elapsed: 01:07 left: 00:25, 25.99 iters/sec]"
       ]
      },
      {
       "output_type": "stream",
       "stream": "stdout",
       "text": [
        "\r",
        "|#######---| 1774/2433  72% [elapsed: 01:08 left: 00:25, 25.98 iters/sec]"
       ]
      },
      {
       "output_type": "stream",
       "stream": "stdout",
       "text": [
        "\r",
        "|#######---| 1785/2433  73% [elapsed: 01:08 left: 00:24, 25.94 iters/sec]"
       ]
      },
      {
       "output_type": "stream",
       "stream": "stdout",
       "text": [
        "\r",
        "|#######---| 1796/2433  73% [elapsed: 01:09 left: 00:24, 25.90 iters/sec]"
       ]
      },
      {
       "output_type": "stream",
       "stream": "stdout",
       "text": [
        "\r",
        "|#######---| 1808/2433  74% [elapsed: 01:09 left: 00:24, 25.88 iters/sec]"
       ]
      },
      {
       "output_type": "stream",
       "stream": "stdout",
       "text": [
        "\r",
        "|#######---| 1824/2433  74% [elapsed: 01:10 left: 00:23, 25.92 iters/sec]"
       ]
      },
      {
       "output_type": "stream",
       "stream": "stdout",
       "text": [
        "\r",
        "|#######---| 1840/2433  75% [elapsed: 01:10 left: 00:22, 25.96 iters/sec]"
       ]
      },
      {
       "output_type": "stream",
       "stream": "stdout",
       "text": [
        "\r",
        "|#######---| 1859/2433  76% [elapsed: 01:11 left: 00:22, 26.04 iters/sec]"
       ]
      },
      {
       "output_type": "stream",
       "stream": "stdout",
       "text": [
        "\r",
        "|#######---| 1874/2433  77% [elapsed: 01:11 left: 00:21, 26.06 iters/sec]"
       ]
      },
      {
       "output_type": "stream",
       "stream": "stdout",
       "text": [
        "\r",
        "|#######---| 1888/2433  77% [elapsed: 01:12 left: 00:20, 26.06 iters/sec]"
       ]
      },
      {
       "output_type": "stream",
       "stream": "stdout",
       "text": [
        "\r",
        "|#######---| 1901/2433  78% [elapsed: 01:12 left: 00:20, 26.05 iters/sec]"
       ]
      },
      {
       "output_type": "stream",
       "stream": "stdout",
       "text": [
        "\r",
        "|#######---| 1913/2433  78% [elapsed: 01:13 left: 00:19, 26.03 iters/sec]"
       ]
      },
      {
       "output_type": "stream",
       "stream": "stdout",
       "text": [
        "\r",
        "|#######---| 1935/2433  79% [elapsed: 01:14 left: 00:19, 26.15 iters/sec]"
       ]
      },
      {
       "output_type": "stream",
       "stream": "stdout",
       "text": [
        "\r",
        "|#######---| 1946/2433  79% [elapsed: 01:14 left: 00:18, 26.10 iters/sec]"
       ]
      },
      {
       "output_type": "stream",
       "stream": "stdout",
       "text": [
        "\r",
        "|########--| 1954/2433  80% [elapsed: 01:15 left: 00:18, 26.02 iters/sec]"
       ]
      },
      {
       "output_type": "stream",
       "stream": "stdout",
       "text": [
        "\r",
        "|########--| 1964/2433  80% [elapsed: 01:15 left: 00:18, 25.97 iters/sec]"
       ]
      },
      {
       "output_type": "stream",
       "stream": "stdout",
       "text": [
        "\r",
        "|########--| 1977/2433  81% [elapsed: 01:16 left: 00:17, 25.96 iters/sec]"
       ]
      },
      {
       "output_type": "stream",
       "stream": "stdout",
       "text": [
        "\r",
        "|########--| 1989/2433  81% [elapsed: 01:16 left: 00:17, 25.94 iters/sec]"
       ]
      },
      {
       "output_type": "stream",
       "stream": "stdout",
       "text": [
        "\r",
        "|########--| 2003/2433  82% [elapsed: 01:17 left: 00:16, 25.95 iters/sec]"
       ]
      },
      {
       "output_type": "stream",
       "stream": "stdout",
       "text": [
        "\r",
        "|########--| 2020/2433  83% [elapsed: 01:17 left: 00:15, 25.99 iters/sec]"
       ]
      },
      {
       "output_type": "stream",
       "stream": "stdout",
       "text": [
        "\r",
        "|########--| 2034/2433  83% [elapsed: 01:18 left: 00:15, 26.00 iters/sec]"
       ]
      },
      {
       "output_type": "stream",
       "stream": "stdout",
       "text": [
        "\r",
        "|########--| 2049/2433  84% [elapsed: 01:18 left: 00:14, 26.02 iters/sec]"
       ]
      },
      {
       "output_type": "stream",
       "stream": "stdout",
       "text": [
        "\r",
        "|########--| 2065/2433  84% [elapsed: 01:19 left: 00:14, 26.06 iters/sec]"
       ]
      },
      {
       "output_type": "stream",
       "stream": "stdout",
       "text": [
        "\r",
        "|########--| 2079/2433  85% [elapsed: 01:19 left: 00:13, 26.06 iters/sec]"
       ]
      },
      {
       "output_type": "stream",
       "stream": "stdout",
       "text": [
        "\r",
        "|########--| 2097/2433  86% [elapsed: 01:20 left: 00:12, 26.11 iters/sec]"
       ]
      },
      {
       "output_type": "stream",
       "stream": "stdout",
       "text": [
        "\r",
        "|########--| 2111/2433  86% [elapsed: 01:20 left: 00:12, 26.12 iters/sec]"
       ]
      },
      {
       "output_type": "stream",
       "stream": "stdout",
       "text": [
        "\r",
        "|########--| 2125/2433  87% [elapsed: 01:21 left: 00:11, 26.12 iters/sec]"
       ]
      },
      {
       "output_type": "stream",
       "stream": "stdout",
       "text": [
        "\r",
        "|########--| 2138/2433  87% [elapsed: 01:21 left: 00:11, 26.10 iters/sec]"
       ]
      },
      {
       "output_type": "stream",
       "stream": "stdout",
       "text": [
        "\r",
        "|########--| 2150/2433  88% [elapsed: 01:22 left: 00:10, 26.08 iters/sec]"
       ]
      },
      {
       "output_type": "stream",
       "stream": "stdout",
       "text": [
        "\r",
        "|########--| 2160/2433  88% [elapsed: 01:22 left: 00:10, 26.04 iters/sec]"
       ]
      },
      {
       "output_type": "stream",
       "stream": "stdout",
       "text": [
        "\r",
        "|########--| 2180/2433  89% [elapsed: 01:23 left: 00:09, 26.11 iters/sec]"
       ]
      },
      {
       "output_type": "stream",
       "stream": "stdout",
       "text": [
        "\r",
        "|#########-| 2198/2433  90% [elapsed: 01:24 left: 00:08, 26.17 iters/sec]"
       ]
      },
      {
       "output_type": "stream",
       "stream": "stdout",
       "text": [
        "\r",
        "|#########-| 2208/2433  90% [elapsed: 01:24 left: 00:08, 26.12 iters/sec]"
       ]
      },
      {
       "output_type": "stream",
       "stream": "stdout",
       "text": [
        "\r",
        "|#########-| 2218/2433  91% [elapsed: 01:25 left: 00:08, 26.07 iters/sec]"
       ]
      },
      {
       "output_type": "stream",
       "stream": "stdout",
       "text": [
        "\r",
        "|#########-| 2232/2433  91% [elapsed: 01:25 left: 00:07, 26.08 iters/sec]"
       ]
      },
      {
       "output_type": "stream",
       "stream": "stdout",
       "text": [
        "\r",
        "|#########-| 2250/2433  92% [elapsed: 01:26 left: 00:07, 26.14 iters/sec]"
       ]
      },
      {
       "output_type": "stream",
       "stream": "stdout",
       "text": [
        "\r",
        "|#########-| 2264/2433  93% [elapsed: 01:26 left: 00:06, 26.14 iters/sec]"
       ]
      },
      {
       "output_type": "stream",
       "stream": "stdout",
       "text": [
        "\r",
        "|#########-| 2279/2433  93% [elapsed: 01:27 left: 00:05, 26.16 iters/sec]"
       ]
      },
      {
       "output_type": "stream",
       "stream": "stdout",
       "text": [
        "\r",
        "|#########-| 2295/2433  94% [elapsed: 01:27 left: 00:05, 26.18 iters/sec]"
       ]
      },
      {
       "output_type": "stream",
       "stream": "stdout",
       "text": [
        "\r",
        "|#########-| 2311/2433  94% [elapsed: 01:28 left: 00:04, 26.21 iters/sec]"
       ]
      },
      {
       "output_type": "stream",
       "stream": "stdout",
       "text": [
        "\r",
        "|#########-| 2326/2433  95% [elapsed: 01:28 left: 00:04, 26.22 iters/sec]"
       ]
      },
      {
       "output_type": "stream",
       "stream": "stdout",
       "text": [
        "\r",
        "|#########-| 2340/2433  96% [elapsed: 01:29 left: 00:03, 26.21 iters/sec]"
       ]
      },
      {
       "output_type": "stream",
       "stream": "stdout",
       "text": [
        "\r",
        "|#########-| 2351/2433  96% [elapsed: 01:29 left: 00:03, 26.16 iters/sec]"
       ]
      },
      {
       "output_type": "stream",
       "stream": "stdout",
       "text": [
        "\r",
        "|#########-| 2372/2433  97% [elapsed: 01:30 left: 00:02, 26.25 iters/sec]"
       ]
      },
      {
       "output_type": "stream",
       "stream": "stdout",
       "text": [
        "\r",
        "|#########-| 2392/2433  98% [elapsed: 01:30 left: 00:01, 26.31 iters/sec]"
       ]
      },
      {
       "output_type": "stream",
       "stream": "stdout",
       "text": [
        "\r",
        "|#########-| 2406/2433  98% [elapsed: 01:31 left: 00:01, 26.31 iters/sec]"
       ]
      },
      {
       "output_type": "stream",
       "stream": "stdout",
       "text": [
        "\r",
        "|#########-| 2422/2433  99% [elapsed: 01:31 left: 00:00, 26.34 iters/sec]"
       ]
      },
      {
       "output_type": "stream",
       "stream": "stdout",
       "text": [
        "\r",
        "                                                                         "
       ]
      },
      {
       "output_type": "stream",
       "stream": "stdout",
       "text": [
        "\r",
        "[MoviePy] Done.\n"
       ]
      },
      {
       "output_type": "stream",
       "stream": "stdout",
       "text": [
        "[MoviePy] >>>> Video ready: preview.webm \n",
        "\n"
       ]
      }
     ],
     "prompt_number": 6
    },
    {
     "cell_type": "markdown",
     "metadata": {},
     "source": [
      "El [resultado](http://youtu.be/LU76nVlBqdE) me permiti\u00f3 hacer el tamizado"
     ]
    },
    {
     "cell_type": "code",
     "collapsed": false,
     "input": [
      "ignore = [2, 3, 8, 12, 17, 19, 25, 28, 32, 36, 38, 40, 41, 44, 49, 55, 56, 61, 62, 66, 73, 74]\n",
      "subclips_cleaned = [i for j, i in enumerate(gente) if j not in ignore]"
     ],
     "language": "python",
     "metadata": {},
     "outputs": [],
     "prompt_number": 7
    },
    {
     "cell_type": "markdown",
     "metadata": {},
     "source": [
      "Aunque no tengo idea de edici\u00f3n de videos, y porque de verdad creo que es un demamogo impresentable que no deber\u00eda presidir ni una junta vecinal, quer\u00eda darle un toque final, con una peque\u00f1a frase"
     ]
    },
    {
     "cell_type": "code",
     "collapsed": false,
     "input": [
      "import numpy as np\n",
      "from moviepy.video.tools.segmenting import findObjects\n",
      "\n",
      "def arrive(screenpos,i,nletters):\n",
      "    v = np.array([-1,0])\n",
      "    d = lambda t : max(0, 3-3*t)\n",
      "    return lambda t: screenpos-400*v*d(t-0.2*i)\n",
      "\n",
      "screensize = (640,360)\n",
      "txtClip = TextClip('Yn tragr ab rf obyhqn'.decode('rot13'), color='white', font=\"Amiri-Bold\", kerning=5, fontsize=50)\n",
      "cvc = CompositeVideoClip( [txtClip.set_pos('center')],\n",
      "                        size=screensize)\n",
      "\n",
      "letters = findObjects(cvc) # a list of ImageClips\n",
      "\n",
      "def moveLetters(letters, funcpos):\n",
      "    return [ letter.set_pos(funcpos(letter.screenpos,i,len(letters)))\n",
      "              for i,letter in enumerate(letters)]\n",
      "\n",
      "ending = CompositeVideoClip(moveLetters(letters, arrive), size=screensize).subclip(0, 10)\n",
      "\n"
     ],
     "language": "python",
     "metadata": {},
     "outputs": [],
     "prompt_number": 8
    },
    {
     "cell_type": "code",
     "collapsed": false,
     "input": [
      "# le damos una mezcladita m\u00e1s\n",
      "random.shuffle(subclips_cleaned)\n",
      "subclips_cleaned.append(ending)\n",
      "make_final(subclips_cleaned, 'massa_lagente_final.webm')"
     ],
     "language": "python",
     "metadata": {},
     "outputs": [
      {
       "output_type": "stream",
       "stream": "stdout",
       "text": [
        "[MoviePy] >>>> Building video massa_lagente_final.webm\n"
       ]
      },
      {
       "output_type": "stream",
       "stream": "stdout",
       "text": [
        "[MoviePy] Writing audio in massa_lagente_finalTEMP_MPY_wvf_snd.ogg\n"
       ]
      },
      {
       "output_type": "stream",
       "stream": "stdout",
       "text": [
        "\r",
        "|----------| 0/1581   0% [elapsed: 00:00 left: ?, ? iters/sec]"
       ]
      },
      {
       "output_type": "stream",
       "stream": "stdout",
       "text": [
        "\r",
        "|----------| 147/1581   9% [elapsed: 00:00 left: 00:04, 293.06 iters/sec]"
       ]
      },
      {
       "output_type": "stream",
       "stream": "stdout",
       "text": [
        "\r",
        "|##--------| 361/1581  22% [elapsed: 00:01 left: 00:03, 360.10 iters/sec]"
       ]
      },
      {
       "output_type": "stream",
       "stream": "stdout",
       "text": [
        "\r",
        "|###-------| 506/1581  32% [elapsed: 00:01 left: 00:03, 333.81 iters/sec]"
       ]
      },
      {
       "output_type": "stream",
       "stream": "stdout",
       "text": [
        "\r",
        "|####------| 686/1581  43% [elapsed: 00:02 left: 00:02, 337.09 iters/sec]"
       ]
      },
      {
       "output_type": "stream",
       "stream": "stdout",
       "text": [
        "\r",
        "|#####-----| 843/1581  53% [elapsed: 00:02 left: 00:02, 332.32 iters/sec]"
       ]
      },
      {
       "output_type": "stream",
       "stream": "stdout",
       "text": [
        "\r",
        "|######----| 1026/1581  64% [elapsed: 00:03 left: 00:01, 337.80 iters/sec]"
       ]
      },
      {
       "output_type": "stream",
       "stream": "stdout",
       "text": [
        "\r",
        "|#######---| 1182/1581  74% [elapsed: 00:03 left: 00:01, 334.14 iters/sec]"
       ]
      },
      {
       "output_type": "stream",
       "stream": "stdout",
       "text": [
        "\r",
        "|########--| 1345/1581  85% [elapsed: 00:04 left: 00:00, 332.64 iters/sec]"
       ]
      },
      {
       "output_type": "stream",
       "stream": "stdout",
       "text": [
        "\r",
        "                                                                          "
       ]
      },
      {
       "output_type": "stream",
       "stream": "stdout",
       "text": [
        "\r",
        "[MoviePy] Done.\n"
       ]
      },
      {
       "output_type": "stream",
       "stream": "stdout",
       "text": [
        "[MoviePy] Writing video massa_lagente_final.webm\n"
       ]
      },
      {
       "output_type": "stream",
       "stream": "stdout",
       "text": [
        "\r",
        "|----------| 0/1960   0% [elapsed: 00:00 left: ?, ? iters/sec]"
       ]
      },
      {
       "output_type": "stream",
       "stream": "stdout",
       "text": [
        "\r",
        "|----------| 28/1960   1% [elapsed: 00:00 left: 00:38, 50.46 iters/sec]"
       ]
      },
      {
       "output_type": "stream",
       "stream": "stdout",
       "text": [
        "\r",
        "|----------| 44/1960   2% [elapsed: 00:01 left: 00:46, 41.19 iters/sec]"
       ]
      },
      {
       "output_type": "stream",
       "stream": "stdout",
       "text": [
        "\r",
        "|----------| 53/1960   2% [elapsed: 00:01 left: 00:56, 33.56 iters/sec]"
       ]
      },
      {
       "output_type": "stream",
       "stream": "stdout",
       "text": [
        "\r",
        "|----------| 61/1960   3% [elapsed: 00:02 left: 01:04, 29.23 iters/sec]"
       ]
      },
      {
       "output_type": "stream",
       "stream": "stdout",
       "text": [
        "\r",
        "|----------| 71/1960   3% [elapsed: 00:02 left: 01:09, 27.16 iters/sec]"
       ]
      },
      {
       "output_type": "stream",
       "stream": "stdout",
       "text": [
        "\r",
        "|----------| 82/1960   4% [elapsed: 00:03 left: 01:11, 26.23 iters/sec]"
       ]
      },
      {
       "output_type": "stream",
       "stream": "stdout",
       "text": [
        "\r",
        "|----------| 91/1960   4% [elapsed: 00:03 left: 01:14, 25.08 iters/sec]"
       ]
      },
      {
       "output_type": "stream",
       "stream": "stdout",
       "text": [
        "\r",
        "|----------| 99/1960   5% [elapsed: 00:04 left: 01:17, 23.91 iters/sec]"
       ]
      },
      {
       "output_type": "stream",
       "stream": "stdout",
       "text": [
        "\r",
        "|----------| 107/1960   5% [elapsed: 00:04 left: 01:21, 22.80 iters/sec]"
       ]
      },
      {
       "output_type": "stream",
       "stream": "stdout",
       "text": [
        "\r",
        "|----------| 118/1960   6% [elapsed: 00:05 left: 01:22, 22.41 iters/sec]"
       ]
      },
      {
       "output_type": "stream",
       "stream": "stdout",
       "text": [
        "\r",
        "|----------| 127/1960   6% [elapsed: 00:05 left: 01:23, 21.87 iters/sec]"
       ]
      },
      {
       "output_type": "stream",
       "stream": "stdout",
       "text": [
        "\r",
        "|----------| 136/1960   6% [elapsed: 00:06 left: 01:24, 21.46 iters/sec]"
       ]
      },
      {
       "output_type": "stream",
       "stream": "stdout",
       "text": [
        "\r",
        "|----------| 146/1960   7% [elapsed: 00:06 left: 01:25, 21.23 iters/sec]"
       ]
      },
      {
       "output_type": "stream",
       "stream": "stdout",
       "text": [
        "\r",
        "|----------| 155/1960   7% [elapsed: 00:07 left: 01:26, 20.90 iters/sec]"
       ]
      },
      {
       "output_type": "stream",
       "stream": "stdout",
       "text": [
        "\r",
        "|----------| 163/1960   8% [elapsed: 00:07 left: 01:27, 20.58 iters/sec]"
       ]
      },
      {
       "output_type": "stream",
       "stream": "stdout",
       "text": [
        "\r",
        "|----------| 171/1960   8% [elapsed: 00:08 left: 01:28, 20.30 iters/sec]"
       ]
      },
      {
       "output_type": "stream",
       "stream": "stdout",
       "text": [
        "\r",
        "|----------| 178/1960   9% [elapsed: 00:08 left: 01:29, 19.84 iters/sec]"
       ]
      },
      {
       "output_type": "stream",
       "stream": "stdout",
       "text": [
        "\r",
        "|----------| 188/1960   9% [elapsed: 00:09 left: 01:29, 19.77 iters/sec]"
       ]
      },
      {
       "output_type": "stream",
       "stream": "stdout",
       "text": [
        "\r",
        "|#---------| 210/1960  10% [elapsed: 00:10 left: 01:23, 20.96 iters/sec]"
       ]
      },
      {
       "output_type": "stream",
       "stream": "stdout",
       "text": [
        "\r",
        "|#---------| 231/1960  11% [elapsed: 00:10 left: 01:18, 21.94 iters/sec]"
       ]
      },
      {
       "output_type": "stream",
       "stream": "stdout",
       "text": [
        "\r",
        "|#---------| 252/1960  12% [elapsed: 00:11 left: 01:14, 22.82 iters/sec]"
       ]
      },
      {
       "output_type": "stream",
       "stream": "stdout",
       "text": [
        "\r",
        "|#---------| 266/1960  13% [elapsed: 00:11 left: 01:13, 23.00 iters/sec]"
       ]
      },
      {
       "output_type": "stream",
       "stream": "stdout",
       "text": [
        "\r",
        "|#---------| 280/1960  14% [elapsed: 00:12 left: 01:12, 23.15 iters/sec]"
       ]
      },
      {
       "output_type": "stream",
       "stream": "stdout",
       "text": [
        "\r",
        "|#---------| 304/1960  15% [elapsed: 00:12 left: 01:08, 24.12 iters/sec]"
       ]
      },
      {
       "output_type": "stream",
       "stream": "stdout",
       "text": [
        "\r",
        "|#---------| 334/1960  17% [elapsed: 00:13 left: 01:03, 25.47 iters/sec]"
       ]
      },
      {
       "output_type": "stream",
       "stream": "stdout",
       "text": [
        "\r",
        "|#---------| 354/1960  18% [elapsed: 00:13 left: 01:01, 25.96 iters/sec]"
       ]
      },
      {
       "output_type": "stream",
       "stream": "stdout",
       "text": [
        "\r",
        "|#---------| 366/1960  18% [elapsed: 00:14 left: 01:01, 25.88 iters/sec]"
       ]
      },
      {
       "output_type": "stream",
       "stream": "stdout",
       "text": [
        "\r",
        "|#---------| 378/1960  19% [elapsed: 00:14 left: 01:01, 25.68 iters/sec]"
       ]
      },
      {
       "output_type": "stream",
       "stream": "stdout",
       "text": [
        "\r",
        "|##--------| 393/1960  20% [elapsed: 00:15 left: 01:00, 25.80 iters/sec]"
       ]
      },
      {
       "output_type": "stream",
       "stream": "stdout",
       "text": [
        "\r",
        "|##--------| 409/1960  20% [elapsed: 00:15 left: 00:59, 26.00 iters/sec]"
       ]
      },
      {
       "output_type": "stream",
       "stream": "stdout",
       "text": [
        "\r",
        "|##--------| 424/1960  21% [elapsed: 00:16 left: 00:58, 26.09 iters/sec]"
       ]
      },
      {
       "output_type": "stream",
       "stream": "stdout",
       "text": [
        "\r",
        "|##--------| 436/1960  22% [elapsed: 00:16 left: 00:58, 26.00 iters/sec]"
       ]
      },
      {
       "output_type": "stream",
       "stream": "stdout",
       "text": [
        "\r",
        "|##--------| 449/1960  22% [elapsed: 00:17 left: 00:58, 25.98 iters/sec]"
       ]
      },
      {
       "output_type": "stream",
       "stream": "stdout",
       "text": [
        "\r",
        "|##--------| 457/1960  23% [elapsed: 00:17 left: 00:58, 25.69 iters/sec]"
       ]
      },
      {
       "output_type": "stream",
       "stream": "stdout",
       "text": [
        "\r",
        "|##--------| 469/1960  23% [elapsed: 00:18 left: 00:58, 25.58 iters/sec]"
       ]
      },
      {
       "output_type": "stream",
       "stream": "stdout",
       "text": [
        "\r",
        "|##--------| 481/1960  24% [elapsed: 00:18 left: 00:58, 25.49 iters/sec]"
       ]
      },
      {
       "output_type": "stream",
       "stream": "stdout",
       "text": [
        "\r",
        "|##--------| 505/1960  25% [elapsed: 00:19 left: 00:55, 26.03 iters/sec]"
       ]
      },
      {
       "output_type": "stream",
       "stream": "stdout",
       "text": [
        "\r",
        "|##--------| 518/1960  26% [elapsed: 00:19 left: 00:55, 26.00 iters/sec]"
       ]
      },
      {
       "output_type": "stream",
       "stream": "stdout",
       "text": [
        "\r",
        "|##--------| 535/1960  27% [elapsed: 00:20 left: 00:54, 26.18 iters/sec]"
       ]
      },
      {
       "output_type": "stream",
       "stream": "stdout",
       "text": [
        "\r",
        "|##--------| 562/1960  28% [elapsed: 00:20 left: 00:52, 26.79 iters/sec]"
       ]
      },
      {
       "output_type": "stream",
       "stream": "stdout",
       "text": [
        "\r",
        "|##--------| 578/1960  29% [elapsed: 00:21 left: 00:51, 26.89 iters/sec]"
       ]
      },
      {
       "output_type": "stream",
       "stream": "stdout",
       "text": [
        "\r",
        "|###-------| 601/1960  30% [elapsed: 00:22 left: 00:49, 27.31 iters/sec]"
       ]
      },
      {
       "output_type": "stream",
       "stream": "stdout",
       "text": [
        "\r",
        "|###-------| 614/1960  31% [elapsed: 00:22 left: 00:49, 27.24 iters/sec]"
       ]
      },
      {
       "output_type": "stream",
       "stream": "stdout",
       "text": [
        "\r",
        "|###-------| 625/1960  31% [elapsed: 00:23 left: 00:49, 27.09 iters/sec]"
       ]
      },
      {
       "output_type": "stream",
       "stream": "stdout",
       "text": [
        "\r",
        "|###-------| 639/1960  32% [elapsed: 00:23 left: 00:48, 27.11 iters/sec]"
       ]
      },
      {
       "output_type": "stream",
       "stream": "stdout",
       "text": [
        "\r",
        "|###-------| 668/1960  34% [elapsed: 00:24 left: 00:46, 27.73 iters/sec]"
       ]
      },
      {
       "output_type": "stream",
       "stream": "stdout",
       "text": [
        "\r",
        "|###-------| 676/1960  34% [elapsed: 00:24 left: 00:46, 27.44 iters/sec]"
       ]
      },
      {
       "output_type": "stream",
       "stream": "stdout",
       "text": [
        "\r",
        "|###-------| 683/1960  34% [elapsed: 00:25 left: 00:47, 27.08 iters/sec]"
       ]
      },
      {
       "output_type": "stream",
       "stream": "stdout",
       "text": [
        "\r",
        "|###-------| 691/1960  35% [elapsed: 00:25 left: 00:47, 26.83 iters/sec]"
       ]
      },
      {
       "output_type": "stream",
       "stream": "stdout",
       "text": [
        "\r",
        "|###-------| 699/1960  35% [elapsed: 00:26 left: 00:47, 26.60 iters/sec]"
       ]
      },
      {
       "output_type": "stream",
       "stream": "stdout",
       "text": [
        "\r",
        "|###-------| 710/1960  36% [elapsed: 00:26 left: 00:47, 26.46 iters/sec]"
       ]
      },
      {
       "output_type": "stream",
       "stream": "stdout",
       "text": [
        "\r",
        "|###-------| 719/1960  36% [elapsed: 00:27 left: 00:47, 26.26 iters/sec]"
       ]
      },
      {
       "output_type": "stream",
       "stream": "stdout",
       "text": [
        "\r",
        "|###-------| 730/1960  37% [elapsed: 00:27 left: 00:46, 26.18 iters/sec]"
       ]
      },
      {
       "output_type": "stream",
       "stream": "stdout",
       "text": [
        "\r",
        "|###-------| 760/1960  38% [elapsed: 00:28 left: 00:44, 26.73 iters/sec]"
       ]
      },
      {
       "output_type": "stream",
       "stream": "stdout",
       "text": [
        "\r",
        "|###-------| 781/1960  39% [elapsed: 00:28 left: 00:43, 26.98 iters/sec]"
       ]
      },
      {
       "output_type": "stream",
       "stream": "stdout",
       "text": [
        "\r",
        "|####------| 796/1960  40% [elapsed: 00:29 left: 00:43, 26.96 iters/sec]"
       ]
      },
      {
       "output_type": "stream",
       "stream": "stdout",
       "text": [
        "\r",
        "|####------| 808/1960  41% [elapsed: 00:30 left: 00:42, 26.90 iters/sec]"
       ]
      },
      {
       "output_type": "stream",
       "stream": "stdout",
       "text": [
        "\r",
        "|####------| 822/1960  41% [elapsed: 00:30 left: 00:42, 26.82 iters/sec]"
       ]
      },
      {
       "output_type": "stream",
       "stream": "stdout",
       "text": [
        "\r",
        "|####------| 830/1960  42% [elapsed: 00:31 left: 00:42, 26.62 iters/sec]"
       ]
      },
      {
       "output_type": "stream",
       "stream": "stdout",
       "text": [
        "\r",
        "|####------| 840/1960  42% [elapsed: 00:31 left: 00:42, 26.47 iters/sec]"
       ]
      },
      {
       "output_type": "stream",
       "stream": "stdout",
       "text": [
        "\r",
        "|####------| 850/1960  43% [elapsed: 00:32 left: 00:42, 26.35 iters/sec]"
       ]
      },
      {
       "output_type": "stream",
       "stream": "stdout",
       "text": [
        "\r",
        "|####------| 860/1960  43% [elapsed: 00:32 left: 00:41, 26.24 iters/sec]"
       ]
      },
      {
       "output_type": "stream",
       "stream": "stdout",
       "text": [
        "\r",
        "|####------| 868/1960  44% [elapsed: 00:33 left: 00:41, 26.08 iters/sec]"
       ]
      },
      {
       "output_type": "stream",
       "stream": "stdout",
       "text": [
        "\r",
        "|####------| 878/1960  44% [elapsed: 00:33 left: 00:41, 25.97 iters/sec]"
       ]
      },
      {
       "output_type": "stream",
       "stream": "stdout",
       "text": [
        "\r",
        "|####------| 889/1960  45% [elapsed: 00:34 left: 00:41, 25.91 iters/sec]"
       ]
      },
      {
       "output_type": "stream",
       "stream": "stdout",
       "text": [
        "\r",
        "|####------| 901/1960  45% [elapsed: 00:34 left: 00:40, 25.88 iters/sec]"
       ]
      },
      {
       "output_type": "stream",
       "stream": "stdout",
       "text": [
        "\r",
        "|####------| 915/1960  46% [elapsed: 00:35 left: 00:40, 25.85 iters/sec]"
       ]
      },
      {
       "output_type": "stream",
       "stream": "stdout",
       "text": [
        "\r",
        "|####------| 929/1960  47% [elapsed: 00:35 left: 00:39, 25.88 iters/sec]"
       ]
      },
      {
       "output_type": "stream",
       "stream": "stdout",
       "text": [
        "\r",
        "|####------| 944/1960  48% [elapsed: 00:36 left: 00:39, 25.89 iters/sec]"
       ]
      },
      {
       "output_type": "stream",
       "stream": "stdout",
       "text": [
        "\r",
        "|####------| 955/1960  48% [elapsed: 00:36 left: 00:38, 25.82 iters/sec]"
       ]
      },
      {
       "output_type": "stream",
       "stream": "stdout",
       "text": [
        "\r",
        "|####------| 965/1960  49% [elapsed: 00:37 left: 00:38, 25.68 iters/sec]"
       ]
      },
      {
       "output_type": "stream",
       "stream": "stdout",
       "text": [
        "\r",
        "|####------| 974/1960  49% [elapsed: 00:38 left: 00:38, 25.56 iters/sec]"
       ]
      },
      {
       "output_type": "stream",
       "stream": "stdout",
       "text": [
        "\r",
        "|#####-----| 993/1960  50% [elapsed: 00:38 left: 00:37, 25.67 iters/sec]"
       ]
      },
      {
       "output_type": "stream",
       "stream": "stdout",
       "text": [
        "\r",
        "|#####-----| 1006/1960  51% [elapsed: 00:39 left: 00:37, 25.67 iters/sec]"
       ]
      },
      {
       "output_type": "stream",
       "stream": "stdout",
       "text": [
        "\r",
        "|#####-----| 1019/1960  51% [elapsed: 00:39 left: 00:36, 25.63 iters/sec]"
       ]
      },
      {
       "output_type": "stream",
       "stream": "stdout",
       "text": [
        "\r",
        "|#####-----| 1032/1960  52% [elapsed: 00:40 left: 00:36, 25.63 iters/sec]"
       ]
      },
      {
       "output_type": "stream",
       "stream": "stdout",
       "text": [
        "\r",
        "|#####-----| 1042/1960  53% [elapsed: 00:40 left: 00:35, 25.54 iters/sec]"
       ]
      },
      {
       "output_type": "stream",
       "stream": "stdout",
       "text": [
        "\r",
        "|#####-----| 1053/1960  53% [elapsed: 00:41 left: 00:35, 25.48 iters/sec]"
       ]
      },
      {
       "output_type": "stream",
       "stream": "stdout",
       "text": [
        "\r",
        "|#####-----| 1066/1960  54% [elapsed: 00:41 left: 00:35, 25.46 iters/sec]"
       ]
      },
      {
       "output_type": "stream",
       "stream": "stdout",
       "text": [
        "\r",
        "|#####-----| 1077/1960  54% [elapsed: 00:42 left: 00:34, 25.41 iters/sec]"
       ]
      },
      {
       "output_type": "stream",
       "stream": "stdout",
       "text": [
        "\r",
        "|#####-----| 1093/1960  55% [elapsed: 00:42 left: 00:34, 25.46 iters/sec]"
       ]
      },
      {
       "output_type": "stream",
       "stream": "stdout",
       "text": [
        "\r",
        "|#####-----| 1106/1960  56% [elapsed: 00:43 left: 00:33, 25.46 iters/sec]"
       ]
      },
      {
       "output_type": "stream",
       "stream": "stdout",
       "text": [
        "\r",
        "|#####-----| 1120/1960  57% [elapsed: 00:43 left: 00:32, 25.48 iters/sec]"
       ]
      },
      {
       "output_type": "stream",
       "stream": "stdout",
       "text": [
        "\r",
        "|#####-----| 1133/1960  57% [elapsed: 00:44 left: 00:32, 25.42 iters/sec]"
       ]
      },
      {
       "output_type": "stream",
       "stream": "stdout",
       "text": [
        "\r",
        "|#####-----| 1150/1960  58% [elapsed: 00:45 left: 00:31, 25.48 iters/sec]"
       ]
      },
      {
       "output_type": "stream",
       "stream": "stdout",
       "text": [
        "\r",
        "|#####-----| 1166/1960  59% [elapsed: 00:45 left: 00:31, 25.54 iters/sec]"
       ]
      },
      {
       "output_type": "stream",
       "stream": "stdout",
       "text": [
        "\r",
        "|#####-----| 1175/1960  59% [elapsed: 00:46 left: 00:30, 25.45 iters/sec]"
       ]
      },
      {
       "output_type": "stream",
       "stream": "stdout",
       "text": [
        "\r",
        "|######----| 1190/1960  60% [elapsed: 00:46 left: 00:30, 25.46 iters/sec]"
       ]
      },
      {
       "output_type": "stream",
       "stream": "stdout",
       "text": [
        "\r",
        "|######----| 1204/1960  61% [elapsed: 00:47 left: 00:29, 25.49 iters/sec]"
       ]
      },
      {
       "output_type": "stream",
       "stream": "stdout",
       "text": [
        "\r",
        "|######----| 1214/1960  61% [elapsed: 00:47 left: 00:29, 25.43 iters/sec]"
       ]
      },
      {
       "output_type": "stream",
       "stream": "stdout",
       "text": [
        "\r",
        "|######----| 1225/1960  62% [elapsed: 00:48 left: 00:28, 25.39 iters/sec]"
       ]
      },
      {
       "output_type": "stream",
       "stream": "stdout",
       "text": [
        "\r",
        "|######----| 1236/1960  63% [elapsed: 00:48 left: 00:28, 25.35 iters/sec]"
       ]
      },
      {
       "output_type": "stream",
       "stream": "stdout",
       "text": [
        "\r",
        "|######----| 1255/1960  64% [elapsed: 00:49 left: 00:27, 25.48 iters/sec]"
       ]
      },
      {
       "output_type": "stream",
       "stream": "stdout",
       "text": [
        "\r",
        "|######----| 1269/1960  64% [elapsed: 00:49 left: 00:27, 25.48 iters/sec]"
       ]
      },
      {
       "output_type": "stream",
       "stream": "stdout",
       "text": [
        "\r",
        "|######----| 1286/1960  65% [elapsed: 00:50 left: 00:26, 25.55 iters/sec]"
       ]
      },
      {
       "output_type": "stream",
       "stream": "stdout",
       "text": [
        "\r",
        "|######----| 1298/1960  66% [elapsed: 00:50 left: 00:25, 25.52 iters/sec]"
       ]
      },
      {
       "output_type": "stream",
       "stream": "stdout",
       "text": [
        "\r",
        "|######----| 1313/1960  66% [elapsed: 00:51 left: 00:25, 25.55 iters/sec]"
       ]
      },
      {
       "output_type": "stream",
       "stream": "stdout",
       "text": [
        "\r",
        "|######----| 1325/1960  67% [elapsed: 00:51 left: 00:24, 25.52 iters/sec]"
       ]
      },
      {
       "output_type": "stream",
       "stream": "stdout",
       "text": [
        "\r",
        "|######----| 1338/1960  68% [elapsed: 00:52 left: 00:24, 25.51 iters/sec]"
       ]
      },
      {
       "output_type": "stream",
       "stream": "stdout",
       "text": [
        "\r",
        "|######----| 1352/1960  68% [elapsed: 00:52 left: 00:23, 25.52 iters/sec]"
       ]
      },
      {
       "output_type": "stream",
       "stream": "stdout",
       "text": [
        "\r",
        "|######----| 1364/1960  69% [elapsed: 00:53 left: 00:23, 25.50 iters/sec]"
       ]
      },
      {
       "output_type": "stream",
       "stream": "stdout",
       "text": [
        "\r",
        "|#######---| 1374/1960  70% [elapsed: 00:54 left: 00:23, 25.44 iters/sec]"
       ]
      },
      {
       "output_type": "stream",
       "stream": "stdout",
       "text": [
        "\r",
        "|#######---| 1385/1960  70% [elapsed: 00:54 left: 00:22, 25.40 iters/sec]"
       ]
      },
      {
       "output_type": "stream",
       "stream": "stdout",
       "text": [
        "\r",
        "|#######---| 1395/1960  71% [elapsed: 00:55 left: 00:22, 25.32 iters/sec]"
       ]
      },
      {
       "output_type": "stream",
       "stream": "stdout",
       "text": [
        "\r",
        "|#######---| 1402/1960  71% [elapsed: 00:55 left: 00:22, 25.21 iters/sec]"
       ]
      },
      {
       "output_type": "stream",
       "stream": "stdout",
       "text": [
        "\r",
        "|#######---| 1416/1960  72% [elapsed: 00:56 left: 00:21, 25.22 iters/sec]"
       ]
      },
      {
       "output_type": "stream",
       "stream": "stdout",
       "text": [
        "\r",
        "|#######---| 1426/1960  72% [elapsed: 00:56 left: 00:21, 25.17 iters/sec]"
       ]
      },
      {
       "output_type": "stream",
       "stream": "stdout",
       "text": [
        "\r",
        "|#######---| 1439/1960  73% [elapsed: 00:57 left: 00:20, 25.17 iters/sec]"
       ]
      },
      {
       "output_type": "stream",
       "stream": "stdout",
       "text": [
        "\r",
        "|#######---| 1456/1960  74% [elapsed: 00:57 left: 00:19, 25.24 iters/sec]"
       ]
      },
      {
       "output_type": "stream",
       "stream": "stdout",
       "text": [
        "\r",
        "|#######---| 1480/1960  75% [elapsed: 00:58 left: 00:18, 25.43 iters/sec]"
       ]
      },
      {
       "output_type": "stream",
       "stream": "stdout",
       "text": [
        "\r",
        "|#######---| 1504/1960  76% [elapsed: 00:58 left: 00:17, 25.62 iters/sec]"
       ]
      },
      {
       "output_type": "stream",
       "stream": "stdout",
       "text": [
        "\r",
        "|#######---| 1517/1960  77% [elapsed: 00:59 left: 00:17, 25.62 iters/sec]"
       ]
      },
      {
       "output_type": "stream",
       "stream": "stdout",
       "text": [
        "\r",
        "|#######---| 1531/1960  78% [elapsed: 00:59 left: 00:16, 25.63 iters/sec]"
       ]
      },
      {
       "output_type": "stream",
       "stream": "stdout",
       "text": [
        "\r",
        "|#######---| 1543/1960  78% [elapsed: 01:00 left: 00:16, 25.61 iters/sec]"
       ]
      },
      {
       "output_type": "stream",
       "stream": "stdout",
       "text": [
        "\r",
        "|#######---| 1559/1960  79% [elapsed: 01:00 left: 00:15, 25.65 iters/sec]"
       ]
      },
      {
       "output_type": "stream",
       "stream": "stdout",
       "text": [
        "\r",
        "|########--| 1573/1960  80% [elapsed: 01:01 left: 00:15, 25.66 iters/sec]"
       ]
      },
      {
       "output_type": "stream",
       "stream": "stdout",
       "text": [
        "\r",
        "|########--| 1586/1960  80% [elapsed: 01:01 left: 00:14, 25.65 iters/sec]"
       ]
      },
      {
       "output_type": "stream",
       "stream": "stdout",
       "text": [
        "\r",
        "|########--| 1597/1960  81% [elapsed: 01:02 left: 00:14, 25.62 iters/sec]"
       ]
      },
      {
       "output_type": "stream",
       "stream": "stdout",
       "text": [
        "\r",
        "|########--| 1610/1960  82% [elapsed: 01:02 left: 00:13, 25.61 iters/sec]"
       ]
      },
      {
       "output_type": "stream",
       "stream": "stdout",
       "text": [
        "\r",
        "|########--| 1623/1960  82% [elapsed: 01:03 left: 00:13, 25.61 iters/sec]"
       ]
      },
      {
       "output_type": "stream",
       "stream": "stdout",
       "text": [
        "\r",
        "|########--| 1636/1960  83% [elapsed: 01:03 left: 00:12, 25.61 iters/sec]"
       ]
      },
      {
       "output_type": "stream",
       "stream": "stdout",
       "text": [
        "\r",
        "|########--| 1647/1960  84% [elapsed: 01:04 left: 00:12, 25.56 iters/sec]"
       ]
      },
      {
       "output_type": "stream",
       "stream": "stdout",
       "text": [
        "\r",
        "|########--| 1663/1960  84% [elapsed: 01:04 left: 00:11, 25.61 iters/sec]"
       ]
      },
      {
       "output_type": "stream",
       "stream": "stdout",
       "text": [
        "\r",
        "|########--| 1674/1960  85% [elapsed: 01:05 left: 00:11, 25.57 iters/sec]"
       ]
      },
      {
       "output_type": "stream",
       "stream": "stdout",
       "text": [
        "\r",
        "|########--| 1683/1960  85% [elapsed: 01:05 left: 00:10, 25.51 iters/sec]"
       ]
      },
      {
       "output_type": "stream",
       "stream": "stdout",
       "text": [
        "\r",
        "|########--| 1693/1960  86% [elapsed: 01:06 left: 00:10, 25.46 iters/sec]"
       ]
      },
      {
       "output_type": "stream",
       "stream": "stdout",
       "text": [
        "\r",
        "|########--| 1711/1960  87% [elapsed: 01:07 left: 00:09, 25.54 iters/sec]"
       ]
      },
      {
       "output_type": "stream",
       "stream": "stdout",
       "text": [
        "\r",
        "|########--| 1728/1960  88% [elapsed: 01:07 left: 00:09, 25.58 iters/sec]"
       ]
      },
      {
       "output_type": "stream",
       "stream": "stdout",
       "text": [
        "\r",
        "|########--| 1742/1960  88% [elapsed: 01:08 left: 00:08, 25.59 iters/sec]"
       ]
      },
      {
       "output_type": "stream",
       "stream": "stdout",
       "text": [
        "\r",
        "|########--| 1755/1960  89% [elapsed: 01:08 left: 00:08, 25.58 iters/sec]"
       ]
      },
      {
       "output_type": "stream",
       "stream": "stdout",
       "text": [
        "\r",
        "|#########-| 1768/1960  90% [elapsed: 01:09 left: 00:07, 25.57 iters/sec]"
       ]
      },
      {
       "output_type": "stream",
       "stream": "stdout",
       "text": [
        "\r",
        "|#########-| 1781/1960  90% [elapsed: 01:09 left: 00:07, 25.57 iters/sec]"
       ]
      },
      {
       "output_type": "stream",
       "stream": "stdout",
       "text": [
        "\r",
        "|#########-| 1793/1960  91% [elapsed: 01:10 left: 00:06, 25.56 iters/sec]"
       ]
      },
      {
       "output_type": "stream",
       "stream": "stdout",
       "text": [
        "\r",
        "|#########-| 1804/1960  92% [elapsed: 01:10 left: 00:06, 25.52 iters/sec]"
       ]
      },
      {
       "output_type": "stream",
       "stream": "stdout",
       "text": [
        "\r",
        "|#########-| 1816/1960  92% [elapsed: 01:11 left: 00:05, 25.50 iters/sec]"
       ]
      },
      {
       "output_type": "stream",
       "stream": "stdout",
       "text": [
        "\r",
        "|#########-| 1828/1960  93% [elapsed: 01:11 left: 00:05, 25.48 iters/sec]"
       ]
      },
      {
       "output_type": "stream",
       "stream": "stdout",
       "text": [
        "\r",
        "|#########-| 1839/1960  93% [elapsed: 01:12 left: 00:04, 25.46 iters/sec]"
       ]
      },
      {
       "output_type": "stream",
       "stream": "stdout",
       "text": [
        "\r",
        "|#########-| 1851/1960  94% [elapsed: 01:12 left: 00:04, 25.43 iters/sec]"
       ]
      },
      {
       "output_type": "stream",
       "stream": "stdout",
       "text": [
        "\r",
        "|#########-| 1862/1960  95% [elapsed: 01:13 left: 00:03, 25.41 iters/sec]"
       ]
      },
      {
       "output_type": "stream",
       "stream": "stdout",
       "text": [
        "\r",
        "|#########-| 1874/1960  95% [elapsed: 01:13 left: 00:03, 25.39 iters/sec]"
       ]
      },
      {
       "output_type": "stream",
       "stream": "stdout",
       "text": [
        "\r",
        "|#########-| 1885/1960  96% [elapsed: 01:14 left: 00:02, 25.37 iters/sec]"
       ]
      },
      {
       "output_type": "stream",
       "stream": "stdout",
       "text": [
        "\r",
        "|#########-| 1896/1960  96% [elapsed: 01:14 left: 00:02, 25.34 iters/sec]"
       ]
      },
      {
       "output_type": "stream",
       "stream": "stdout",
       "text": [
        "\r",
        "|#########-| 1907/1960  97% [elapsed: 01:15 left: 00:02, 25.32 iters/sec]"
       ]
      },
      {
       "output_type": "stream",
       "stream": "stdout",
       "text": [
        "\r",
        "|#########-| 1919/1960  97% [elapsed: 01:15 left: 00:01, 25.30 iters/sec]"
       ]
      },
      {
       "output_type": "stream",
       "stream": "stdout",
       "text": [
        "\r",
        "|#########-| 1930/1960  98% [elapsed: 01:16 left: 00:01, 25.28 iters/sec]"
       ]
      },
      {
       "output_type": "stream",
       "stream": "stdout",
       "text": [
        "\r",
        "|#########-| 1942/1960  99% [elapsed: 01:16 left: 00:00, 25.26 iters/sec]"
       ]
      },
      {
       "output_type": "stream",
       "stream": "stdout",
       "text": [
        "\r",
        "|#########-| 1954/1960  99% [elapsed: 01:17 left: 00:00, 25.24 iters/sec]"
       ]
      },
      {
       "output_type": "stream",
       "stream": "stdout",
       "text": [
        "\r",
        "                                                                         "
       ]
      },
      {
       "output_type": "stream",
       "stream": "stdout",
       "text": [
        "\r",
        "[MoviePy] Done.\n"
       ]
      },
      {
       "output_type": "stream",
       "stream": "stdout",
       "text": [
        "[MoviePy] >>>> Video ready: massa_lagente_final.webm \n",
        "\n"
       ]
      }
     ],
     "prompt_number": 9
    },
    {
     "cell_type": "markdown",
     "metadata": {},
     "source": [
      "Y este es el resultado:\n",
      "\n",
      "<iframe width=\"560\" height=\"315\" src=\"https://www.youtube.com/embed/ssXSLUVNz8o\" frameborder=\"0\" allowfullscreen></iframe>"
     ]
    },
    {
     "cell_type": "code",
     "collapsed": false,
     "input": [],
     "language": "python",
     "metadata": {},
     "outputs": []
    }
   ],
   "metadata": {}
  }
 ]
}