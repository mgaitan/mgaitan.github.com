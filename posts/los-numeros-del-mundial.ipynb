{
 "metadata": {
  "celltoolbar": "Raw Cell Format",
  "name": "",
  "signature": "sha256:d88870bc6e51d83f02669fe0d787d65e377773250db070fd008dc3af82f75240"
 },
 "nbformat": 3,
 "nbformat_minor": 0,
 "worksheets": [
  {
   "cells": [
    {
     "cell_type": "markdown",
     "metadata": {},
     "source": [
      "Un amigo me dijo ayer que la fiebre del mundial ya no es lo que era. Cuando era chico, dec\u00eda, la ansiedad por la navidad, los reyes y sobre todo, los mundiales, no me dejaba dormir. \n",
      "\n",
      "A m\u00ed Pap\u00e1 Noel y los Reyes me ten\u00edan bastante sin cuidado (que s\u00f3lo ocasionalmente ven\u00edan a mi casa, sobre todo cuando le hac\u00edamos caso a mi hermano mayor, que nos instru\u00eda que a Baltazar hab\u00eda que dejarle una cerveza negra bien fr\u00eda, para pasar el calor de las madrugadas de enero). Pero me sigue pasando lo mismo con el mundial de f\u00fatbol: no hay acontecimiento que ans\u00ede m\u00e1s que ese. \n",
      "\n",
      "En el 86 yo ya caminaba solito, pero mis recuerdos mundialistas arrancan reci\u00e9n en el '90 con el [gol de Camer\u00fan](https://www.youtube.com/watch?feature=player_detailpage&v=ldss7IDQhQ0#t=44) a Pumpido (que todavia ten\u00eda todos los dedos, aunque no se notaba). Tan poco futbolera era mi casa pero tanto yo, que tengo la im\u00e1gen n\u00edtida: cuando fue el gol del Canni a Brasil yo estaba en la rotiseria de de Don Duca, a 3 cuadras de mi casa, esperando que me entregaran un pollo asado que me hab\u00edan mandado a comprar. Al escuchar el griter\u00edo del barrio alguien me dej\u00f3 pasar, y pude ver el gol en la repetici\u00f3n en un televisorcito diminuto que ten\u00edan sobre una mesada mugrienta. Volv\u00ed llorando, emocionado, con un olor a pollo que no olvidar\u00e9 m\u00e1s. \n",
      "\n",
      "Y ahora, por fin, est\u00e1 llegando ese olorcito de nuevo. En el inter\u00edn me empapo de nombres y jugadores, estad\u00edsticas e historias de color. La fiebre no me deja dormir. \n",
      "\n",
      "En esa procrastinaci\u00f3n encontr\u00e9 el [art\u00edculo de Wikipedia con la lista de todas las selecciones](http://en.wikipedia.org/wiki/2014_FIFA_World_Cup_squads) y, como una ducha de agua fria, intent\u00e9 sacarle alguna informaci\u00f3n. \n",
      "\n",
      "\n",
      "### En tu cabeza hay un (scrapper de) gol\n",
      "\n",
      "Us\u00e9 la misma t\u00e9cnica que en el [an\u00e1lisis de las elecciones de C\u00f3rdoba](https://mgaitan.github.io/posts/no-al-fraude-en-cordoba-ayudanos.html): la [extensi\u00f3n de IPython para usar el orm de Django](https://github.com/mgaitan/django-orm-magic) que hice y [PyQuery](http://pyquery.readthedocs.org/) para scrappear. \n"
     ]
    },
    {
     "cell_type": "code",
     "collapsed": false,
     "input": [
      "%load_ext django_orm_magic"
     ],
     "language": "python",
     "metadata": {},
     "outputs": [
      {
       "output_type": "stream",
       "stream": "stdout",
       "text": [
        "The django_orm_magic extension is already loaded. To reload it, use:\n",
        "  %reload_ext django_orm_magic\n"
       ]
      }
     ],
     "prompt_number": 79
    },
    {
     "cell_type": "markdown",
     "metadata": {},
     "source": [
      "Los modelos me quedaron as\u00ed"
     ]
    },
    {
     "cell_type": "code",
     "collapsed": false,
     "input": [
      "%%django_orm\n",
      "\n",
      "from django.db import models\n",
      "\n",
      "class Country(models.Model):\n",
      "    name = models.CharField(max_length=\"100\")\n",
      "    \n",
      "    def __unicode__(self):\n",
      "        return self.name\n",
      "    \n",
      "class City(models.Model):\n",
      "    country = models.ForeignKey('Country')\n",
      "    name = models.CharField(max_length=\"100\")\n",
      "\n",
      "    def __unicode__(self):\n",
      "        return \"{0}, {1}\".format(self.name, self.country) \n",
      "    \n",
      "class Team(models.Model):\n",
      "    country = models.ForeignKey('Country')\n",
      "    group = models.CharField(max_length=\"100\")\n",
      "    \n",
      "    def __unicode__(self):\n",
      "        return unicode(self.country)\n",
      "\n",
      "class Club(models.Model):\n",
      "    name = models.CharField(max_length=\"100\")\n",
      "    country = models.ForeignKey('Country')\n",
      "\n",
      "    def __unicode__(self):\n",
      "        return self.name\n",
      "    \n",
      "class Player(models.Model):\n",
      "\n",
      "    full_name = models.CharField(max_length=100)\n",
      "    date_of_birth = models.DateField(null=True, blank=True)    \n",
      "    team = models.ForeignKey('Team')\n",
      "    url = models.URLField(max_length=200, null=True, blank=True)\n",
      "    \n",
      "    place_of_birth = models.ForeignKey('City', null=True, blank=True)\n",
      "    height = models.FloatField(null=True, blank=True)\n",
      "    position = models.CharField(max_length=2)\n",
      "    current_club = models.ForeignKey('Club')\n",
      "    last_season_apps = models.IntegerField(null=True, blank=True)\n",
      "    last_season_goals = models.IntegerField(null=True, blank=True)\n",
      "    national_team_apps = models.IntegerField(null=True, blank=True)\n",
      "    national_team_goals = models.IntegerField(null=True, blank=True)\n",
      "        \n",
      "    def __unicode__(self):\n",
      "        return self.full_name\n"
     ],
     "language": "python",
     "metadata": {},
     "outputs": [],
     "prompt_number": 2
    },
    {
     "cell_type": "markdown",
     "metadata": {},
     "source": [
      "Lo que necesit\u00e9 es parsear cada una de las tablas asociadas a una selecci\u00f3n. Por ejemplo, la de Brasil"
     ]
    },
    {
     "cell_type": "code",
     "collapsed": false,
     "input": [
      "from pyquery import PyQuery\n",
      "from IPython.display import HTML, Image\n",
      "pq = PyQuery('http://en.wikipedia.org/wiki/2014_FIFA_World_Cup_squads')\n",
      "pq.make_links_absolute()"
     ],
     "language": "python",
     "metadata": {},
     "outputs": [],
     "prompt_number": 4
    },
    {
     "cell_type": "code",
     "collapsed": false,
     "input": [
      "brazil = pq('table:first').html()\n",
      "HTML(brazil)"
     ],
     "language": "python",
     "metadata": {},
     "outputs": [
      {
       "html": [
        "<tr><td bgcolor=\"#FFFFFF\" valign=\"top\" width=\"90%\">\n",
        "<table class=\"sortable\" border=\"0\" cellspacing=\"2\" cellpadding=\"2\" width=\"100%\"><tr bgcolor=\"#AAD0FF\"><th width=\"6%\">No.</th>\n",
        "<th width=\"6%\">Pos.</th>\n",
        "<th width=\"30%\">Player</th>\n",
        "<th width=\"22%\">DoB/Age</th>\n",
        "<th width=\"6%\">Caps</th>\n",
        "<th width=\"30%\">Club</th>\n",
        "</tr><tr><td style=\"text-align: right;\">\u2013</td>\n",
        "<td style=\"text-align: center;\"><span style=\"display:none\">1</span><a href=\"http://en.wikipedia.org/wiki/Goalkeeper_(association_football)\" title=\"Goalkeeper (association football)\">GK</a></td>\n",
        "<td><a href=\"http://en.wikipedia.org/wiki/J%C3%BAlio_C%C3%A9sar_Soares_Esp%C3%ADndola\" title=\"J\u00falio C\u00e9sar Soares Esp\u00edndola\">J\u00falio C\u00e9sar</a></td>\n",
        "<td><span style=\"display:none\">(<span class=\"bday\">1979-09-03</span>)</span>3 September 1979 (aged 34)</td>\n",
        "<td style=\"text-align: center;\">78</td>\n",
        "<td><span class=\"flagicon\"><a href=\"http://en.wikipedia.org/wiki/Canada\" title=\"Canada\"><img alt=\"Canada\" src=\"//upload.wikimedia.org/wikipedia/en/thumb/c/cf/Flag_of_Canada.svg/23px-Flag_of_Canada.svg.png\" width=\"23\" height=\"12\" class=\"thumbborder\" srcset=\"//upload.wikimedia.org/wikipedia/en/thumb/c/cf/Flag_of_Canada.svg/35px-Flag_of_Canada.svg.png 1.5x, //upload.wikimedia.org/wikipedia/en/thumb/c/cf/Flag_of_Canada.svg/46px-Flag_of_Canada.svg.png 2x\" data-file-width=\"1000\" data-file-height=\"500\"/></a></span> <a href=\"http://en.wikipedia.org/wiki/Toronto_FC\" title=\"Toronto FC\">Toronto FC</a></td>\n",
        "</tr><tr><td style=\"text-align: right;\">\u2013</td>\n",
        "<td style=\"text-align: center;\"><span style=\"display:none\">1</span><a href=\"http://en.wikipedia.org/wiki/Goalkeeper_(association_football)\" title=\"Goalkeeper (association football)\">GK</a></td>\n",
        "<td><a href=\"http://en.wikipedia.org/wiki/Jefferson_de_Oliveira_Galv%C3%A3o\" title=\"Jefferson de Oliveira Galv\u00e3o\">Jefferson</a></td>\n",
        "<td><span style=\"display:none\">(<span class=\"bday\">1983-01-02</span>)</span>2 January 1983 (aged 31)</td>\n",
        "<td style=\"text-align: center;\">9</td>\n",
        "<td><span class=\"flagicon\"><a href=\"http://en.wikipedia.org/wiki/Brazil\" title=\"Brazil\"><img alt=\"Brazil\" src=\"//upload.wikimedia.org/wikipedia/en/thumb/0/05/Flag_of_Brazil.svg/22px-Flag_of_Brazil.svg.png\" width=\"22\" height=\"15\" class=\"thumbborder\" srcset=\"//upload.wikimedia.org/wikipedia/en/thumb/0/05/Flag_of_Brazil.svg/33px-Flag_of_Brazil.svg.png 1.5x, //upload.wikimedia.org/wikipedia/en/thumb/0/05/Flag_of_Brazil.svg/43px-Flag_of_Brazil.svg.png 2x\" data-file-width=\"720\" data-file-height=\"504\"/></a></span> <a href=\"http://en.wikipedia.org/wiki/Botafogo_de_Futebol_e_Regatas\" title=\"Botafogo de Futebol e Regatas\">Botafogo</a></td>\n",
        "</tr><tr><td style=\"text-align: right;\">\u2013</td>\n",
        "<td style=\"text-align: center;\"><span style=\"display:none\">1</span><a href=\"http://en.wikipedia.org/wiki/Goalkeeper_(association_football)\" title=\"Goalkeeper (association football)\">GK</a></td>\n",
        "<td><a href=\"http://en.wikipedia.org/wiki/Victor_Leandro_Bagy\" title=\"Victor Leandro Bagy\">Victor</a></td>\n",
        "<td><span style=\"display:none\">(<span class=\"bday\">1983-01-21</span>)</span>21 January 1983 (aged 31)</td>\n",
        "<td style=\"text-align: center;\">6</td>\n",
        "<td><span class=\"flagicon\"><a href=\"http://en.wikipedia.org/wiki/Brazil\" title=\"Brazil\"><img alt=\"Brazil\" src=\"//upload.wikimedia.org/wikipedia/en/thumb/0/05/Flag_of_Brazil.svg/22px-Flag_of_Brazil.svg.png\" width=\"22\" height=\"15\" class=\"thumbborder\" srcset=\"//upload.wikimedia.org/wikipedia/en/thumb/0/05/Flag_of_Brazil.svg/33px-Flag_of_Brazil.svg.png 1.5x, //upload.wikimedia.org/wikipedia/en/thumb/0/05/Flag_of_Brazil.svg/43px-Flag_of_Brazil.svg.png 2x\" data-file-width=\"720\" data-file-height=\"504\"/></a></span> <a href=\"http://en.wikipedia.org/wiki/Clube_Atl%C3%A9tico_Mineiro\" title=\"Clube Atl\u00e9tico Mineiro\">Atl\u00e9tico Mineiro</a></td>\n",
        "</tr><tr><td style=\"text-align: right;\">\u2013</td>\n",
        "<td style=\"text-align: center;\"><span style=\"display:none\">2</span><a href=\"http://en.wikipedia.org/wiki/Defender_(association_football)\" title=\"Defender (association football)\">DF</a></td>\n",
        "<td><a href=\"http://en.wikipedia.org/wiki/Daniel_Alves\" title=\"Daniel Alves\" class=\"mw-redirect\">Daniel Alves</a></td>\n",
        "<td><span style=\"display:none\">(<span class=\"bday\">1983-05-06</span>)</span>6 May 1983 (aged 31)</td>\n",
        "<td style=\"text-align: center;\">73</td>\n",
        "<td><span class=\"flagicon\"><a href=\"http://en.wikipedia.org/wiki/Spain\" title=\"Spain\"><img alt=\"Spain\" src=\"//upload.wikimedia.org/wikipedia/en/thumb/9/9a/Flag_of_Spain.svg/23px-Flag_of_Spain.svg.png\" width=\"23\" height=\"15\" class=\"thumbborder\" srcset=\"//upload.wikimedia.org/wikipedia/en/thumb/9/9a/Flag_of_Spain.svg/35px-Flag_of_Spain.svg.png 1.5x, //upload.wikimedia.org/wikipedia/en/thumb/9/9a/Flag_of_Spain.svg/45px-Flag_of_Spain.svg.png 2x\" data-file-width=\"750\" data-file-height=\"500\"/></a></span> <a href=\"http://en.wikipedia.org/wiki/FC_Barcelona\" title=\"FC Barcelona\">Barcelona</a></td>\n",
        "</tr><tr><td style=\"text-align: right;\">\u2013</td>\n",
        "<td style=\"text-align: center;\"><span style=\"display:none\">2</span><a href=\"http://en.wikipedia.org/wiki/Defender_(association_football)\" title=\"Defender (association football)\">DF</a></td>\n",
        "<td><a href=\"http://en.wikipedia.org/wiki/Maicon_Sisenando\" title=\"Maicon Sisenando\">Maicon</a></td>\n",
        "<td><span style=\"display:none\">(<span class=\"bday\">1981-07-26</span>)</span>26 July 1981 (aged 32)</td>\n",
        "<td style=\"text-align: center;\">70</td>\n",
        "<td><span class=\"flagicon\"><a href=\"http://en.wikipedia.org/wiki/Italy\" title=\"Italy\"><img alt=\"Italy\" src=\"//upload.wikimedia.org/wikipedia/en/thumb/0/03/Flag_of_Italy.svg/23px-Flag_of_Italy.svg.png\" width=\"23\" height=\"15\" class=\"thumbborder\" srcset=\"//upload.wikimedia.org/wikipedia/en/thumb/0/03/Flag_of_Italy.svg/35px-Flag_of_Italy.svg.png 1.5x, //upload.wikimedia.org/wikipedia/en/thumb/0/03/Flag_of_Italy.svg/45px-Flag_of_Italy.svg.png 2x\" data-file-width=\"1500\" data-file-height=\"1000\"/></a></span> <a href=\"http://en.wikipedia.org/wiki/A.S._Roma\" title=\"A.S. Roma\">Roma</a></td>\n",
        "</tr><tr><td style=\"text-align: right;\">\u2013</td>\n",
        "<td style=\"text-align: center;\"><span style=\"display:none\">2</span><a href=\"http://en.wikipedia.org/wiki/Defender_(association_football)\" title=\"Defender (association football)\">DF</a></td>\n",
        "<td><a href=\"http://en.wikipedia.org/wiki/Thiago_Silva\" title=\"Thiago Silva\">Thiago Silva</a> <i>(<a href=\"http://en.wikipedia.org/wiki/Captain_(association_football)\" title=\"Captain (association football)\">captain</a>)</i></td>\n",
        "<td><span style=\"display:none\">(<span class=\"bday\">1984-09-22</span>)</span>22 September 1984 (aged 29)</td>\n",
        "<td style=\"text-align: center;\">45</td>\n",
        "<td><span class=\"flagicon\"><a href=\"http://en.wikipedia.org/wiki/France\" title=\"France\"><img alt=\"France\" src=\"//upload.wikimedia.org/wikipedia/en/thumb/c/c3/Flag_of_France.svg/23px-Flag_of_France.svg.png\" width=\"23\" height=\"15\" class=\"thumbborder\" srcset=\"//upload.wikimedia.org/wikipedia/en/thumb/c/c3/Flag_of_France.svg/35px-Flag_of_France.svg.png 1.5x, //upload.wikimedia.org/wikipedia/en/thumb/c/c3/Flag_of_France.svg/45px-Flag_of_France.svg.png 2x\" data-file-width=\"900\" data-file-height=\"600\"/></a></span> <a href=\"http://en.wikipedia.org/wiki/Paris_Saint-Germain_F.C.\" title=\"Paris Saint-Germain F.C.\">Paris Saint-Germain</a></td>\n",
        "</tr><tr><td style=\"text-align: right;\">\u2013</td>\n",
        "<td style=\"text-align: center;\"><span style=\"display:none\">2</span><a href=\"http://en.wikipedia.org/wiki/Defender_(association_football)\" title=\"Defender (association football)\">DF</a></td>\n",
        "<td><a href=\"http://en.wikipedia.org/wiki/David_Luiz\" title=\"David Luiz\">David Luiz</a></td>\n",
        "<td><span style=\"display:none\">(<span class=\"bday\">1987-04-22</span>)</span>22 April 1987 (aged 27)</td>\n",
        "<td style=\"text-align: center;\">34</td>\n",
        "<td><span class=\"flagicon\"><a href=\"http://en.wikipedia.org/wiki/England\" title=\"England\"><img alt=\"England\" src=\"//upload.wikimedia.org/wikipedia/en/thumb/b/be/Flag_of_England.svg/23px-Flag_of_England.svg.png\" width=\"23\" height=\"14\" class=\"thumbborder\" srcset=\"//upload.wikimedia.org/wikipedia/en/thumb/b/be/Flag_of_England.svg/35px-Flag_of_England.svg.png 1.5x, //upload.wikimedia.org/wikipedia/en/thumb/b/be/Flag_of_England.svg/46px-Flag_of_England.svg.png 2x\" data-file-width=\"800\" data-file-height=\"480\"/></a></span> <a href=\"http://en.wikipedia.org/wiki/Chelsea_F.C.\" title=\"Chelsea F.C.\">Chelsea</a></td>\n",
        "</tr><tr><td style=\"text-align: right;\">\u2013</td>\n",
        "<td style=\"text-align: center;\"><span style=\"display:none\">2</span><a href=\"http://en.wikipedia.org/wiki/Defender_(association_football)\" title=\"Defender (association football)\">DF</a></td>\n",
        "<td><a href=\"http://en.wikipedia.org/wiki/Marcelo_Vieira\" title=\"Marcelo Vieira\">Marcelo</a></td>\n",
        "<td><span style=\"display:none\">(<span class=\"bday\">1988-05-12</span>)</span>12 May 1988 (aged 26)</td>\n",
        "<td style=\"text-align: center;\">29</td>\n",
        "<td><span class=\"flagicon\"><a href=\"http://en.wikipedia.org/wiki/Spain\" title=\"Spain\"><img alt=\"Spain\" src=\"//upload.wikimedia.org/wikipedia/en/thumb/9/9a/Flag_of_Spain.svg/23px-Flag_of_Spain.svg.png\" width=\"23\" height=\"15\" class=\"thumbborder\" srcset=\"//upload.wikimedia.org/wikipedia/en/thumb/9/9a/Flag_of_Spain.svg/35px-Flag_of_Spain.svg.png 1.5x, //upload.wikimedia.org/wikipedia/en/thumb/9/9a/Flag_of_Spain.svg/45px-Flag_of_Spain.svg.png 2x\" data-file-width=\"750\" data-file-height=\"500\"/></a></span> <a href=\"http://en.wikipedia.org/wiki/Real_Madrid_C.F.\" title=\"Real Madrid C.F.\">Real Madrid</a></td>\n",
        "</tr><tr><td style=\"text-align: right;\">\u2013</td>\n",
        "<td style=\"text-align: center;\"><span style=\"display:none\">2</span><a href=\"http://en.wikipedia.org/wiki/Defender_(association_football)\" title=\"Defender (association football)\">DF</a></td>\n",
        "<td><a href=\"http://en.wikipedia.org/wiki/Dante_(footballer)\" title=\"Dante (footballer)\">Dante</a></td>\n",
        "<td><span style=\"display:none\">(<span class=\"bday\">1983-10-18</span>)</span>18 October 1983 (aged 30)</td>\n",
        "<td style=\"text-align: center;\">11</td>\n",
        "<td><span class=\"flagicon\"><a href=\"http://en.wikipedia.org/wiki/Germany\" title=\"Germany\"><img alt=\"Germany\" src=\"//upload.wikimedia.org/wikipedia/en/thumb/b/ba/Flag_of_Germany.svg/23px-Flag_of_Germany.svg.png\" width=\"23\" height=\"14\" class=\"thumbborder\" srcset=\"//upload.wikimedia.org/wikipedia/en/thumb/b/ba/Flag_of_Germany.svg/35px-Flag_of_Germany.svg.png 1.5x, //upload.wikimedia.org/wikipedia/en/thumb/b/ba/Flag_of_Germany.svg/46px-Flag_of_Germany.svg.png 2x\" data-file-width=\"1000\" data-file-height=\"600\"/></a></span> <a href=\"http://en.wikipedia.org/wiki/FC_Bayern_Munich\" title=\"FC Bayern Munich\">Bayern Munich</a></td>\n",
        "</tr><tr><td style=\"text-align: right;\">\u2013</td>\n",
        "<td style=\"text-align: center;\"><span style=\"display:none\">2</span><a href=\"http://en.wikipedia.org/wiki/Defender_(association_football)\" title=\"Defender (association football)\">DF</a></td>\n",
        "<td><a href=\"http://en.wikipedia.org/wiki/Maxwell_Cabelino_Andrade\" title=\"Maxwell Cabelino Andrade\">Maxwell</a></td>\n",
        "<td><span style=\"display:none\">(<span class=\"bday\">1981-08-27</span>)</span>27 August 1981 (aged 32)</td>\n",
        "<td style=\"text-align: center;\">7</td>\n",
        "<td><span class=\"flagicon\"><a href=\"http://en.wikipedia.org/wiki/France\" title=\"France\"><img alt=\"France\" src=\"//upload.wikimedia.org/wikipedia/en/thumb/c/c3/Flag_of_France.svg/23px-Flag_of_France.svg.png\" width=\"23\" height=\"15\" class=\"thumbborder\" srcset=\"//upload.wikimedia.org/wikipedia/en/thumb/c/c3/Flag_of_France.svg/35px-Flag_of_France.svg.png 1.5x, //upload.wikimedia.org/wikipedia/en/thumb/c/c3/Flag_of_France.svg/45px-Flag_of_France.svg.png 2x\" data-file-width=\"900\" data-file-height=\"600\"/></a></span> <a href=\"http://en.wikipedia.org/wiki/Paris_Saint-Germain_F.C.\" title=\"Paris Saint-Germain F.C.\">Paris Saint-Germain</a></td>\n",
        "</tr><tr><td style=\"text-align: right;\">\u2013</td>\n",
        "<td style=\"text-align: center;\"><span style=\"display:none\">2</span><a href=\"http://en.wikipedia.org/wiki/Defender_(association_football)\" title=\"Defender (association football)\">DF</a></td>\n",
        "<td><a href=\"http://en.wikipedia.org/wiki/Henrique_Adriano_Buss\" title=\"Henrique Adriano Buss\">Henrique</a></td>\n",
        "<td><span style=\"display:none\">(<span class=\"bday\">1986-10-14</span>)</span>14 October 1986 (aged 27)</td>\n",
        "<td style=\"text-align: center;\">4</td>\n",
        "<td><span class=\"flagicon\"><a href=\"http://en.wikipedia.org/wiki/Italy\" title=\"Italy\"><img alt=\"Italy\" src=\"//upload.wikimedia.org/wikipedia/en/thumb/0/03/Flag_of_Italy.svg/23px-Flag_of_Italy.svg.png\" width=\"23\" height=\"15\" class=\"thumbborder\" srcset=\"//upload.wikimedia.org/wikipedia/en/thumb/0/03/Flag_of_Italy.svg/35px-Flag_of_Italy.svg.png 1.5x, //upload.wikimedia.org/wikipedia/en/thumb/0/03/Flag_of_Italy.svg/45px-Flag_of_Italy.svg.png 2x\" data-file-width=\"1500\" data-file-height=\"1000\"/></a></span> <a href=\"http://en.wikipedia.org/wiki/S.S.C._Napoli\" title=\"S.S.C. Napoli\">Napoli</a></td>\n",
        "</tr><tr><td style=\"text-align: right;\">\u2013</td>\n",
        "<td style=\"text-align: center;\"><span style=\"display:none\">3</span><a href=\"http://en.wikipedia.org/wiki/Midfielder\" title=\"Midfielder\">MF</a></td>\n",
        "<td><a href=\"http://en.wikipedia.org/wiki/Ramires\" title=\"Ramires\">Ramires</a></td>\n",
        "<td><span style=\"display:none\">(<span class=\"bday\">1987-03-24</span>)</span>24 March 1987 (aged 27)</td>\n",
        "<td style=\"text-align: center;\">41</td>\n",
        "<td><span class=\"flagicon\"><a href=\"http://en.wikipedia.org/wiki/England\" title=\"England\"><img alt=\"England\" src=\"//upload.wikimedia.org/wikipedia/en/thumb/b/be/Flag_of_England.svg/23px-Flag_of_England.svg.png\" width=\"23\" height=\"14\" class=\"thumbborder\" srcset=\"//upload.wikimedia.org/wikipedia/en/thumb/b/be/Flag_of_England.svg/35px-Flag_of_England.svg.png 1.5x, //upload.wikimedia.org/wikipedia/en/thumb/b/be/Flag_of_England.svg/46px-Flag_of_England.svg.png 2x\" data-file-width=\"800\" data-file-height=\"480\"/></a></span> <a href=\"http://en.wikipedia.org/wiki/Chelsea_F.C.\" title=\"Chelsea F.C.\">Chelsea</a></td>\n",
        "</tr><tr><td style=\"text-align: right;\">\u2013</td>\n",
        "<td style=\"text-align: center;\"><span style=\"display:none\">3</span><a href=\"http://en.wikipedia.org/wiki/Midfielder\" title=\"Midfielder\">MF</a></td>\n",
        "<td><a href=\"http://en.wikipedia.org/wiki/Oscar_(footballer_born_1991)\" title=\"Oscar (footballer born 1991)\" class=\"mw-redirect\">Oscar</a></td>\n",
        "<td><span style=\"display:none\">(<span class=\"bday\">1991-09-09</span>)</span>9 September 1991 (aged 22)</td>\n",
        "<td style=\"text-align: center;\">29</td>\n",
        "<td><span class=\"flagicon\"><a href=\"http://en.wikipedia.org/wiki/England\" title=\"England\"><img alt=\"England\" src=\"//upload.wikimedia.org/wikipedia/en/thumb/b/be/Flag_of_England.svg/23px-Flag_of_England.svg.png\" width=\"23\" height=\"14\" class=\"thumbborder\" srcset=\"//upload.wikimedia.org/wikipedia/en/thumb/b/be/Flag_of_England.svg/35px-Flag_of_England.svg.png 1.5x, //upload.wikimedia.org/wikipedia/en/thumb/b/be/Flag_of_England.svg/46px-Flag_of_England.svg.png 2x\" data-file-width=\"800\" data-file-height=\"480\"/></a></span> <a href=\"http://en.wikipedia.org/wiki/Chelsea_F.C.\" title=\"Chelsea F.C.\">Chelsea</a></td>\n",
        "</tr><tr><td style=\"text-align: right;\">\u2013</td>\n",
        "<td style=\"text-align: center;\"><span style=\"display:none\">3</span><a href=\"http://en.wikipedia.org/wiki/Midfielder\" title=\"Midfielder\">MF</a></td>\n",
        "<td><a href=\"http://en.wikipedia.org/wiki/Paulinho_(footballer)\" title=\"Paulinho (footballer)\">Paulinho</a></td>\n",
        "<td><span style=\"display:none\">(<span class=\"bday\">1988-07-25</span>)</span>25 July 1988 (aged 25)</td>\n",
        "<td style=\"text-align: center;\">25</td>\n",
        "<td><span class=\"flagicon\"><a href=\"http://en.wikipedia.org/wiki/England\" title=\"England\"><img alt=\"England\" src=\"//upload.wikimedia.org/wikipedia/en/thumb/b/be/Flag_of_England.svg/23px-Flag_of_England.svg.png\" width=\"23\" height=\"14\" class=\"thumbborder\" srcset=\"//upload.wikimedia.org/wikipedia/en/thumb/b/be/Flag_of_England.svg/35px-Flag_of_England.svg.png 1.5x, //upload.wikimedia.org/wikipedia/en/thumb/b/be/Flag_of_England.svg/46px-Flag_of_England.svg.png 2x\" data-file-width=\"800\" data-file-height=\"480\"/></a></span> <a href=\"http://en.wikipedia.org/wiki/Tottenham_Hotspur_F.C.\" title=\"Tottenham Hotspur F.C.\">Tottenham Hotspur</a></td>\n",
        "</tr><tr><td style=\"text-align: right;\">\u2013</td>\n",
        "<td style=\"text-align: center;\"><span style=\"display:none\">3</span><a href=\"http://en.wikipedia.org/wiki/Midfielder\" title=\"Midfielder\">MF</a></td>\n",
        "<td><a href=\"http://en.wikipedia.org/wiki/Hernanes\" title=\"Hernanes\">Hernanes</a></td>\n",
        "<td><span style=\"display:none\">(<span class=\"bday\">1985-05-29</span>)</span>29 May 1985 (aged 29)</td>\n",
        "<td style=\"text-align: center;\">23</td>\n",
        "<td><span class=\"flagicon\"><a href=\"http://en.wikipedia.org/wiki/Italy\" title=\"Italy\"><img alt=\"Italy\" src=\"//upload.wikimedia.org/wikipedia/en/thumb/0/03/Flag_of_Italy.svg/23px-Flag_of_Italy.svg.png\" width=\"23\" height=\"15\" class=\"thumbborder\" srcset=\"//upload.wikimedia.org/wikipedia/en/thumb/0/03/Flag_of_Italy.svg/35px-Flag_of_Italy.svg.png 1.5x, //upload.wikimedia.org/wikipedia/en/thumb/0/03/Flag_of_Italy.svg/45px-Flag_of_Italy.svg.png 2x\" data-file-width=\"1500\" data-file-height=\"1000\"/></a></span> <a href=\"http://en.wikipedia.org/wiki/Inter_Milan\" title=\"Inter Milan\">Internazionale</a></td>\n",
        "</tr><tr><td style=\"text-align: right;\">\u2013</td>\n",
        "<td style=\"text-align: center;\"><span style=\"display:none\">3</span><a href=\"http://en.wikipedia.org/wiki/Midfielder\" title=\"Midfielder\">MF</a></td>\n",
        "<td><a href=\"http://en.wikipedia.org/wiki/Luiz_Gustavo\" title=\"Luiz Gustavo\">Luiz Gustavo</a></td>\n",
        "<td><span style=\"display:none\">(<span class=\"bday\">1987-07-23</span>)</span>23 July 1987 (aged 26)</td>\n",
        "<td style=\"text-align: center;\">17</td>\n",
        "<td><span class=\"flagicon\"><a href=\"http://en.wikipedia.org/wiki/Germany\" title=\"Germany\"><img alt=\"Germany\" src=\"//upload.wikimedia.org/wikipedia/en/thumb/b/ba/Flag_of_Germany.svg/23px-Flag_of_Germany.svg.png\" width=\"23\" height=\"14\" class=\"thumbborder\" srcset=\"//upload.wikimedia.org/wikipedia/en/thumb/b/ba/Flag_of_Germany.svg/35px-Flag_of_Germany.svg.png 1.5x, //upload.wikimedia.org/wikipedia/en/thumb/b/ba/Flag_of_Germany.svg/46px-Flag_of_Germany.svg.png 2x\" data-file-width=\"1000\" data-file-height=\"600\"/></a></span> <a href=\"http://en.wikipedia.org/wiki/VfL_Wolfsburg\" title=\"VfL Wolfsburg\">VfL Wolfsburg</a></td>\n",
        "</tr><tr><td style=\"text-align: right;\">\u2013</td>\n",
        "<td style=\"text-align: center;\"><span style=\"display:none\">3</span><a href=\"http://en.wikipedia.org/wiki/Midfielder\" title=\"Midfielder\">MF</a></td>\n",
        "<td><a href=\"http://en.wikipedia.org/wiki/Bernard_(footballer)\" title=\"Bernard (footballer)\">Bernard</a></td>\n",
        "<td><span style=\"display:none\">(<span class=\"bday\">1992-09-08</span>)</span>8 September 1992 (aged 21)</td>\n",
        "<td style=\"text-align: center;\">10</td>\n",
        "<td><span class=\"flagicon\"><a href=\"http://en.wikipedia.org/wiki/Ukraine\" title=\"Ukraine\"><img alt=\"Ukraine\" src=\"//upload.wikimedia.org/wikipedia/commons/thumb/4/49/Flag_of_Ukraine.svg/23px-Flag_of_Ukraine.svg.png\" width=\"23\" height=\"15\" class=\"thumbborder\" srcset=\"//upload.wikimedia.org/wikipedia/commons/thumb/4/49/Flag_of_Ukraine.svg/35px-Flag_of_Ukraine.svg.png 1.5x, //upload.wikimedia.org/wikipedia/commons/thumb/4/49/Flag_of_Ukraine.svg/45px-Flag_of_Ukraine.svg.png 2x\" data-file-width=\"1200\" data-file-height=\"800\"/></a></span> <a href=\"http://en.wikipedia.org/wiki/FC_Shakhtar_Donetsk\" title=\"FC Shakhtar Donetsk\">Shakhtar Donetsk</a></td>\n",
        "</tr><tr><td style=\"text-align: right;\">\u2013</td>\n",
        "<td style=\"text-align: center;\"><span style=\"display:none\">3</span><a href=\"http://en.wikipedia.org/wiki/Midfielder\" title=\"Midfielder\">MF</a></td>\n",
        "<td><a href=\"http://en.wikipedia.org/wiki/Fernando_Luiz_Roza\" title=\"Fernando Luiz Roza\">Fernandinho</a></td>\n",
        "<td><span style=\"display:none\">(<span class=\"bday\">1985-05-04</span>)</span>4 May 1985 (aged 29)</td>\n",
        "<td style=\"text-align: center;\">6</td>\n",
        "<td><span class=\"flagicon\"><a href=\"http://en.wikipedia.org/wiki/England\" title=\"England\"><img alt=\"England\" src=\"//upload.wikimedia.org/wikipedia/en/thumb/b/be/Flag_of_England.svg/23px-Flag_of_England.svg.png\" width=\"23\" height=\"14\" class=\"thumbborder\" srcset=\"//upload.wikimedia.org/wikipedia/en/thumb/b/be/Flag_of_England.svg/35px-Flag_of_England.svg.png 1.5x, //upload.wikimedia.org/wikipedia/en/thumb/b/be/Flag_of_England.svg/46px-Flag_of_England.svg.png 2x\" data-file-width=\"800\" data-file-height=\"480\"/></a></span> <a href=\"http://en.wikipedia.org/wiki/Manchester_City_F.C.\" title=\"Manchester City F.C.\">Manchester City</a></td>\n",
        "</tr><tr><td style=\"text-align: right;\">\u2013</td>\n",
        "<td style=\"text-align: center;\"><span style=\"display:none\">3</span><a href=\"http://en.wikipedia.org/wiki/Midfielder\" title=\"Midfielder\">MF</a></td>\n",
        "<td><a href=\"http://en.wikipedia.org/wiki/Willian_Borges_da_Silva\" title=\"Willian Borges da Silva\">Willian</a></td>\n",
        "<td><span style=\"display:none\">(<span class=\"bday\">1988-08-09</span>)</span>9 August 1988 (aged 25)</td>\n",
        "<td style=\"text-align: center;\">5</td>\n",
        "<td><span class=\"flagicon\"><a href=\"http://en.wikipedia.org/wiki/England\" title=\"England\"><img alt=\"England\" src=\"//upload.wikimedia.org/wikipedia/en/thumb/b/be/Flag_of_England.svg/23px-Flag_of_England.svg.png\" width=\"23\" height=\"14\" class=\"thumbborder\" srcset=\"//upload.wikimedia.org/wikipedia/en/thumb/b/be/Flag_of_England.svg/35px-Flag_of_England.svg.png 1.5x, //upload.wikimedia.org/wikipedia/en/thumb/b/be/Flag_of_England.svg/46px-Flag_of_England.svg.png 2x\" data-file-width=\"800\" data-file-height=\"480\"/></a></span> <a href=\"http://en.wikipedia.org/wiki/Chelsea_F.C.\" title=\"Chelsea F.C.\">Chelsea</a></td>\n",
        "</tr><tr><td style=\"text-align: right;\">\u2013</td>\n",
        "<td style=\"text-align: center;\"><span style=\"display:none\">4</span><a href=\"http://en.wikipedia.org/wiki/Forward_(association_football)\" title=\"Forward (association football)\">FW</a></td>\n",
        "<td><a href=\"http://en.wikipedia.org/wiki/Neymar\" title=\"Neymar\">Neymar</a></td>\n",
        "<td><span style=\"display:none\">(<span class=\"bday\">1992-02-05</span>)</span>5 February 1992 (aged 22)</td>\n",
        "<td style=\"text-align: center;\">47</td>\n",
        "<td><span class=\"flagicon\"><a href=\"http://en.wikipedia.org/wiki/Spain\" title=\"Spain\"><img alt=\"Spain\" src=\"//upload.wikimedia.org/wikipedia/en/thumb/9/9a/Flag_of_Spain.svg/23px-Flag_of_Spain.svg.png\" width=\"23\" height=\"15\" class=\"thumbborder\" srcset=\"//upload.wikimedia.org/wikipedia/en/thumb/9/9a/Flag_of_Spain.svg/35px-Flag_of_Spain.svg.png 1.5x, //upload.wikimedia.org/wikipedia/en/thumb/9/9a/Flag_of_Spain.svg/45px-Flag_of_Spain.svg.png 2x\" data-file-width=\"750\" data-file-height=\"500\"/></a></span> <a href=\"http://en.wikipedia.org/wiki/FC_Barcelona\" title=\"FC Barcelona\">Barcelona</a></td>\n",
        "</tr><tr><td style=\"text-align: right;\">\u2013</td>\n",
        "<td style=\"text-align: center;\"><span style=\"display:none\">4</span><a href=\"http://en.wikipedia.org/wiki/Forward_(association_football)\" title=\"Forward (association football)\">FW</a></td>\n",
        "<td><a href=\"http://en.wikipedia.org/wiki/Hulk_(footballer)\" title=\"Hulk (footballer)\">Hulk</a></td>\n",
        "<td><span style=\"display:none\">(<span class=\"bday\">1986-07-25</span>)</span>25 July 1986 (aged 27)</td>\n",
        "<td style=\"text-align: center;\">33</td>\n",
        "<td><span class=\"flagicon\"><a href=\"http://en.wikipedia.org/wiki/Russia\" title=\"Russia\"><img alt=\"Russia\" src=\"//upload.wikimedia.org/wikipedia/en/thumb/f/f3/Flag_of_Russia.svg/23px-Flag_of_Russia.svg.png\" width=\"23\" height=\"15\" class=\"thumbborder\" srcset=\"//upload.wikimedia.org/wikipedia/en/thumb/f/f3/Flag_of_Russia.svg/35px-Flag_of_Russia.svg.png 1.5x, //upload.wikimedia.org/wikipedia/en/thumb/f/f3/Flag_of_Russia.svg/45px-Flag_of_Russia.svg.png 2x\" data-file-width=\"900\" data-file-height=\"600\"/></a></span> <a href=\"http://en.wikipedia.org/wiki/FC_Zenit_Saint_Petersburg\" title=\"FC Zenit Saint Petersburg\">Zenit Saint Petersburg</a></td>\n",
        "</tr><tr><td style=\"text-align: right;\">\u2013</td>\n",
        "<td style=\"text-align: center;\"><span style=\"display:none\">4</span><a href=\"http://en.wikipedia.org/wiki/Forward_(association_football)\" title=\"Forward (association football)\">FW</a></td>\n",
        "<td><a href=\"http://en.wikipedia.org/wiki/Fred_(footballer)\" title=\"Fred (footballer)\">Fred</a></td>\n",
        "<td><span style=\"display:none\">(<span class=\"bday\">1983-10-03</span>)</span>3 October 1983 (aged 30)</td>\n",
        "<td style=\"text-align: center;\">31</td>\n",
        "<td><span class=\"flagicon\"><a href=\"http://en.wikipedia.org/wiki/Brazil\" title=\"Brazil\"><img alt=\"Brazil\" src=\"//upload.wikimedia.org/wikipedia/en/thumb/0/05/Flag_of_Brazil.svg/22px-Flag_of_Brazil.svg.png\" width=\"22\" height=\"15\" class=\"thumbborder\" srcset=\"//upload.wikimedia.org/wikipedia/en/thumb/0/05/Flag_of_Brazil.svg/33px-Flag_of_Brazil.svg.png 1.5x, //upload.wikimedia.org/wikipedia/en/thumb/0/05/Flag_of_Brazil.svg/43px-Flag_of_Brazil.svg.png 2x\" data-file-width=\"720\" data-file-height=\"504\"/></a></span> <a href=\"http://en.wikipedia.org/wiki/Fluminense_Football_Club\" title=\"Fluminense Football Club\" class=\"mw-redirect\">Fluminense</a></td>\n",
        "</tr><tr><td style=\"text-align: right;\">\u2013</td>\n",
        "<td style=\"text-align: center;\"><span style=\"display:none\">4</span><a href=\"http://en.wikipedia.org/wiki/Forward_(association_football)\" title=\"Forward (association football)\">FW</a></td>\n",
        "<td><a href=\"http://en.wikipedia.org/wiki/Jo%C3%A3o_Alves_de_Assis_Silva\" title=\"Jo\u00e3o Alves de Assis Silva\" class=\"mw-redirect\">J\u00f4</a></td>\n",
        "<td><span style=\"display:none\">(<span class=\"bday\">1987-03-20</span>)</span>20 March 1987 (aged 27)</td>\n",
        "<td style=\"text-align: center;\">15</td>\n",
        "<td><span class=\"flagicon\"><a href=\"http://en.wikipedia.org/wiki/Brazil\" title=\"Brazil\"><img alt=\"Brazil\" src=\"//upload.wikimedia.org/wikipedia/en/thumb/0/05/Flag_of_Brazil.svg/22px-Flag_of_Brazil.svg.png\" width=\"22\" height=\"15\" class=\"thumbborder\" srcset=\"//upload.wikimedia.org/wikipedia/en/thumb/0/05/Flag_of_Brazil.svg/33px-Flag_of_Brazil.svg.png 1.5x, //upload.wikimedia.org/wikipedia/en/thumb/0/05/Flag_of_Brazil.svg/43px-Flag_of_Brazil.svg.png 2x\" data-file-width=\"720\" data-file-height=\"504\"/></a></span> <a href=\"http://en.wikipedia.org/wiki/Atl%C3%A9tico_Mineiro\" title=\"Atl\u00e9tico Mineiro\" class=\"mw-redirect\">Atl\u00e9tico Mineiro</a></td>\n",
        "</tr></table></td>\n",
        "</tr>"
       ],
       "metadata": {},
       "output_type": "pyout",
       "prompt_number": 6,
       "text": [
        "<IPython.core.display.HTML at 0x4cb5fd0>"
       ]
      }
     ],
     "prompt_number": 6
    },
    {
     "cell_type": "markdown",
     "metadata": {},
     "source": [
      "Entonces hice esta funcioncita para guardar todos esos datos en mis modelos"
     ]
    },
    {
     "cell_type": "code",
     "collapsed": false,
     "input": [
      "def parse_squad(squad, group):\n",
      "    country, _ = Country.objects.get_or_create(name=pq(squad).prev().prev().prev().text())\n",
      "    print \"Parsing\", country\n",
      "    team, _ = Team.objects.get_or_create(country=country, group=group)\n",
      "\n",
      "    for row in pq('tr', squad)[2:]:\n",
      "        \n",
      "        position = pq('td:eq(1)', row).text()[-2:]\n",
      "        full_name = pq('td:eq(2)', row).text()\n",
      "        print full_name\n",
      "        url = pq('td:eq(2) a', row).attr('href')\n",
      "        \n",
      "        club_country, _ = Country.objects.get_or_create(name=pq('td:eq(5) span.flagicon a', pq('tr', squad)[6]).attr('title'))\n",
      "        club, _ = Club.objects.get_or_create(name=pq('td:eq(5)', pq('tr', squad)[6]).text(), country=club_country)\n",
      "        print club\n",
      "        Player.objects.create(full_name=full_name, url=url, position=position, team=team, current_club=club)\n",
      "    \n",
      "        "
     ],
     "language": "python",
     "metadata": {},
     "outputs": [],
     "prompt_number": 75
    },
    {
     "cell_type": "code",
     "collapsed": false,
     "input": [
      "for i, squad in enumerate(pq('table:not(.sortable)')[:32]):\n",
      "    parse_squad(squad, \"ABCDEFGH\"[i / 4])"
     ],
     "language": "python",
     "metadata": {},
     "outputs": [
      {
       "output_type": "stream",
       "stream": "stdout",
       "text": [
        "Parsing Brazil\n",
        "Parsing"
       ]
      },
      {
       "output_type": "stream",
       "stream": "stdout",
       "text": [
        " Cameroon\n",
        "Parsing"
       ]
      },
      {
       "output_type": "stream",
       "stream": "stdout",
       "text": [
        " Croatia\n",
        "Parsing"
       ]
      },
      {
       "output_type": "stream",
       "stream": "stdout",
       "text": [
        " Mexico\n",
        "Parsing"
       ]
      },
      {
       "output_type": "stream",
       "stream": "stdout",
       "text": [
        " Australia\n",
        "Parsing"
       ]
      },
      {
       "output_type": "stream",
       "stream": "stdout",
       "text": [
        " Chile\n",
        "Parsing"
       ]
      },
      {
       "output_type": "stream",
       "stream": "stdout",
       "text": [
        " Netherlands\n",
        "Parsing"
       ]
      },
      {
       "output_type": "stream",
       "stream": "stdout",
       "text": [
        " Spain\n",
        "Parsing"
       ]
      },
      {
       "output_type": "stream",
       "stream": "stdout",
       "text": [
        " Colombia\n",
        "Parsing"
       ]
      },
      {
       "output_type": "stream",
       "stream": "stdout",
       "text": [
        " C\u00f4te d'Ivoire\n",
        "Parsing"
       ]
      },
      {
       "output_type": "stream",
       "stream": "stdout",
       "text": [
        " Greece\n",
        "Parsing"
       ]
      },
      {
       "output_type": "stream",
       "stream": "stdout",
       "text": [
        " Japan\n",
        "Parsing"
       ]
      },
      {
       "output_type": "stream",
       "stream": "stdout",
       "text": [
        " Costa Rica\n",
        "Parsing"
       ]
      },
      {
       "output_type": "stream",
       "stream": "stdout",
       "text": [
        " England\n",
        "Parsing"
       ]
      },
      {
       "output_type": "stream",
       "stream": "stdout",
       "text": [
        " Italy\n",
        "Parsing"
       ]
      },
      {
       "output_type": "stream",
       "stream": "stdout",
       "text": [
        " Uruguay\n",
        "Parsing"
       ]
      },
      {
       "output_type": "stream",
       "stream": "stdout",
       "text": [
        " Ecuador\n",
        "Parsing"
       ]
      },
      {
       "output_type": "stream",
       "stream": "stdout",
       "text": [
        " France\n",
        "Parsing"
       ]
      },
      {
       "output_type": "stream",
       "stream": "stdout",
       "text": [
        " Honduras\n",
        "Parsing"
       ]
      },
      {
       "output_type": "stream",
       "stream": "stdout",
       "text": [
        " Switzerland\n",
        "Parsing"
       ]
      },
      {
       "output_type": "stream",
       "stream": "stdout",
       "text": [
        " Argentina\n",
        "Parsing"
       ]
      },
      {
       "output_type": "stream",
       "stream": "stdout",
       "text": [
        " Bosnia and Herzegovina\n",
        "Parsing"
       ]
      },
      {
       "output_type": "stream",
       "stream": "stdout",
       "text": [
        " Iran\n",
        "Parsing"
       ]
      },
      {
       "output_type": "stream",
       "stream": "stdout",
       "text": [
        " Nigeria\n",
        "Parsing"
       ]
      },
      {
       "output_type": "stream",
       "stream": "stdout",
       "text": [
        " Germany\n",
        "Parsing"
       ]
      },
      {
       "output_type": "stream",
       "stream": "stdout",
       "text": [
        " Ghana\n",
        "Parsing"
       ]
      },
      {
       "output_type": "stream",
       "stream": "stdout",
       "text": [
        " Portugal\n",
        "Parsing"
       ]
      },
      {
       "output_type": "stream",
       "stream": "stdout",
       "text": [
        " United States\n",
        "Parsing"
       ]
      },
      {
       "output_type": "stream",
       "stream": "stdout",
       "text": [
        " Algeria\n",
        "Parsing"
       ]
      },
      {
       "output_type": "stream",
       "stream": "stdout",
       "text": [
        " Belgium\n",
        "Parsing"
       ]
      },
      {
       "output_type": "stream",
       "stream": "stdout",
       "text": [
        " Russia\n",
        "Parsing"
       ]
      },
      {
       "output_type": "stream",
       "stream": "stdout",
       "text": [
        " South Korea\n"
       ]
      }
     ],
     "prompt_number": 8
    },
    {
     "cell_type": "code",
     "collapsed": false,
     "input": [
      "Player.objects.all()"
     ],
     "language": "python",
     "metadata": {},
     "outputs": [
      {
       "metadata": {},
       "output_type": "pyout",
       "prompt_number": 9,
       "text": [
        "[<Player: J\u00falio C\u00e9sar>, <Player: Jefferson>, <Player: Victor>, <Player: Daniel Alves>, <Player: Maicon>, <Player: Thiago Silva ( captain )>, <Player: David Luiz>, <Player: Marcelo>, <Player: Dante>, <Player: Maxwell>, <Player: Henrique>, <Player: Ramires>, <Player: Oscar>, <Player: Paulinho>, <Player: Hernanes>, <Player: Luiz Gustavo>, <Player: Bernard>, <Player: Fernandinho>, <Player: Willian>, <Player: Neymar>, '...(remaining elements truncated)...']"
       ]
      }
     ],
     "prompt_number": 9
    },
    {
     "cell_type": "markdown",
     "metadata": {},
     "source": [
      "Por suerte Wikipedia reune a muchos enfermitos como yo, y cada jugador tiene su propio art\u00edculo con una ficha m\u00e1s o menos estandarizada que tambi\u00e9n es f\u00e1cil obtener. Por ejemplo, la del mejor jugador del planeta:"
     ]
    },
    {
     "cell_type": "code",
     "collapsed": false,
     "input": [
      "messi = PyQuery(Player.objects.get(full_name__contains='Messi').url)\n",
      "messi.make_links_absolute()\n",
      "HTML(messi('table.infobox').html())\n"
     ],
     "language": "python",
     "metadata": {},
     "outputs": [
      {
       "html": [
        "<caption class=\"fn\" style=\"font-size: 125%; font-weight: bold; line-height: 1.5em\">Lionel Messi</caption>\n",
        "<tr class=\"\"><td colspan=\"4\" class=\"\" style=\"text-align:center;\"><a href=\"http://en.wikipedia.org/wiki/File:Lionel_Messi_Player_of_the_Year_2011.jpg\" class=\"image\"><img alt=\"Lionel Messi Player of the Year 2011.jpg\" src=\"//upload.wikimedia.org/wikipedia/commons/thumb/d/d2/Lionel_Messi_Player_of_the_Year_2011.jpg/220px-Lionel_Messi_Player_of_the_Year_2011.jpg\" width=\"220\" height=\"272\" srcset=\"//upload.wikimedia.org/wikipedia/commons/thumb/d/d2/Lionel_Messi_Player_of_the_Year_2011.jpg/330px-Lionel_Messi_Player_of_the_Year_2011.jpg 1.5x, //upload.wikimedia.org/wikipedia/commons/thumb/d/d2/Lionel_Messi_Player_of_the_Year_2011.jpg/440px-Lionel_Messi_Player_of_the_Year_2011.jpg 2x\" data-file-width=\"3273\" data-file-height=\"4045\"/></a><br/><span style=\"\">Messi playing for <a href=\"http://en.wikipedia.org/wiki/FC_Barcelona\" title=\"FC Barcelona\">Barcelona</a> at the <a href=\"http://en.wikipedia.org/wiki/2011_FIFA_Club_World_Cup\" title=\"2011 FIFA Club World Cup\">2011 FIFA Club World Cup</a></span></td>\n",
        "</tr><tr class=\"\"><th colspan=\"4\" style=\"text-align:center; background-color: #b0c4de; line-height: 1.5em\">Personal information</th>\n",
        "</tr><tr class=\"\"><th style=\"white-space: nowrap; vertical-align: baseline; text-align: left\">Full name</th>\n",
        "<td colspan=\"3\" class=\"nickname\" style=\"white-space: nowrap; vertical-align: baseline\">Lionel Andr\u00e9s Messi<sup id=\"cite_ref-barca_1-0\" class=\"reference\"><a href=\"http://en.wikipedia.org/wiki/Lionel_Messi#cite_note-barca-1\"><span>[</span>1<span>]</span></a></sup></td>\n",
        "</tr><tr class=\"\"><th style=\"white-space: nowrap; vertical-align: baseline; text-align: left\">Date of birth</th>\n",
        "<td colspan=\"3\" class=\"\" style=\"white-space: nowrap; vertical-align: baseline\"><span style=\"display:none\">(<span class=\"bday\">1987-06-24</span>)</span> 24 June 1987 <span class=\"noprint ForceAgeToShow\">(age\u00a026)</span><sup id=\"cite_ref-barca_1-1\" class=\"reference\"><a href=\"http://en.wikipedia.org/wiki/Lionel_Messi#cite_note-barca-1\"><span>[</span>1<span>]</span></a></sup></td>\n",
        "</tr><tr class=\"\"><th style=\"white-space: nowrap; vertical-align: baseline; text-align: left\">Place of birth</th>\n",
        "<td colspan=\"3\" class=\"birthplace\" style=\"white-space: nowrap; vertical-align: baseline\"><a href=\"http://en.wikipedia.org/wiki/Rosario,_Santa_Fe\" title=\"Rosario, Santa Fe\">Rosario</a>, Argentina<sup id=\"cite_ref-barca_1-2\" class=\"reference\"><a href=\"http://en.wikipedia.org/wiki/Lionel_Messi#cite_note-barca-1\"><span>[</span>1<span>]</span></a></sup></td>\n",
        "</tr><tr class=\"\"><th style=\"white-space: nowrap; vertical-align: baseline; text-align: left\">Height</th>\n",
        "<td colspan=\"3\" class=\"\" style=\"white-space: nowrap; vertical-align: baseline\">1.69\u00a0m (5\u00a0ft 7\u00a0in)<sup id=\"cite_ref-barca_1-3\" class=\"reference\"><a href=\"http://en.wikipedia.org/wiki/Lionel_Messi#cite_note-barca-1\"><span>[</span>1<span>]</span></a></sup></td>\n",
        "</tr><tr class=\"\"><th style=\"white-space: nowrap; vertical-align: baseline; text-align: left\">Playing position</th>\n",
        "<td colspan=\"3\" class=\"role\" style=\"white-space: nowrap; vertical-align: baseline\"><a href=\"http://en.wikipedia.org/wiki/Forward_(association_football)\" title=\"Forward (association football)\">Forward</a></td>\n",
        "</tr><tr class=\"\"><th colspan=\"4\" style=\"text-align:center; background-color: #b0c4de; line-height: 1.5em\">Club information</th>\n",
        "</tr><tr class=\"\"><th style=\"white-space: nowrap; vertical-align: baseline; text-align: left\">Current club</th>\n",
        "<td colspan=\"3\" class=\"org\" style=\"white-space: nowrap; vertical-align: baseline\"><a href=\"http://en.wikipedia.org/wiki/FC_Barcelona\" title=\"FC Barcelona\">Barcelona</a></td>\n",
        "</tr><tr class=\"\"><th style=\"white-space: nowrap; vertical-align: baseline; text-align: left\">Number</th>\n",
        "<td colspan=\"3\" class=\"\" style=\"white-space: nowrap; vertical-align: baseline\">10</td>\n",
        "</tr><tr class=\"\"><th colspan=\"4\" style=\"text-align:center; background-color: #b0c4de; line-height: 1.5em\">Youth career</th>\n",
        "</tr><tr class=\"\"><th style=\"white-space: nowrap; vertical-align: baseline; text-align: left\"><span style=\"font-weight:normal\">1995\u20132000</span></th>\n",
        "<td colspan=\"3\" class=\"\" style=\"white-space: nowrap; vertical-align: baseline\"><a href=\"http://en.wikipedia.org/wiki/Newell%27s_Old_Boys\" title=\"Newell's Old Boys\">Newell's Old Boys</a></td>\n",
        "</tr><tr class=\"\"><th style=\"white-space: nowrap; vertical-align: baseline; text-align: left\"><span style=\"font-weight:normal\">2000\u20132003</span></th>\n",
        "<td colspan=\"3\" class=\"\" style=\"white-space: nowrap; vertical-align: baseline\"><a href=\"http://en.wikipedia.org/wiki/FC_Barcelona\" title=\"FC Barcelona\">Barcelona</a></td>\n",
        "</tr><tr class=\"\"><th colspan=\"4\" style=\"text-align:center; background-color: #b0c4de; line-height: 1.5em\">Senior career*</th>\n",
        "</tr><tr class=\"\" style=\"white-space: nowrap; vertical-align: baseline\"><th style=\"white-space: nowrap; vertical-align: baseline; text-align: left\">Years</th>\n",
        "<td class=\"\" style=\"white-space: nowrap; vertical-align: baseline\"><b>Team</b></td>\n",
        "<td class=\"\" style=\"white-space: nowrap; vertical-align: baseline;text-align: right\"><b>Apps<sup>\u2020</sup></b></td>\n",
        "<td class=\"\" style=\"white-space: nowrap; vertical-align: baseline; text-align: right\"><b>(Gls)<sup>\u2020</sup></b></td>\n",
        "</tr><tr class=\"\" style=\"white-space: nowrap; vertical-align: baseline\"><th style=\"white-space: nowrap; vertical-align: baseline; text-align: left\"><span style=\"font-weight:normal\">2003\u20132004</span></th>\n",
        "<td class=\"\" style=\"white-space: nowrap; vertical-align: baseline\"><a href=\"http://en.wikipedia.org/wiki/FC_Barcelona_C\" title=\"FC Barcelona C\">Barcelona C</a></td>\n",
        "<td class=\"\" style=\"white-space: nowrap; vertical-align: baseline;text-align: right\">10</td>\n",
        "<td class=\"\" style=\"white-space: nowrap; vertical-align: baseline; text-align: right\">(5)</td>\n",
        "</tr><tr class=\"\" style=\"white-space: nowrap; vertical-align: baseline\"><th style=\"white-space: nowrap; vertical-align: baseline; text-align: left\"><span style=\"font-weight:normal\">2004\u20132005</span></th>\n",
        "<td class=\"\" style=\"white-space: nowrap; vertical-align: baseline\"><a href=\"http://en.wikipedia.org/wiki/FC_Barcelona_B\" title=\"FC Barcelona B\">Barcelona B</a></td>\n",
        "<td class=\"\" style=\"white-space: nowrap; vertical-align: baseline;text-align: right\">22</td>\n",
        "<td class=\"\" style=\"white-space: nowrap; vertical-align: baseline; text-align: right\">(6)</td>\n",
        "</tr><tr class=\"\" style=\"white-space: nowrap; vertical-align: baseline\"><th style=\"white-space: nowrap; vertical-align: baseline; text-align: left\"><span style=\"font-weight:normal\">2004\u2013</span></th>\n",
        "<td class=\"\" style=\"white-space: nowrap; vertical-align: baseline\"><a href=\"http://en.wikipedia.org/wiki/FC_Barcelona\" title=\"FC Barcelona\">Barcelona</a></td>\n",
        "<td class=\"\" style=\"white-space: nowrap; vertical-align: baseline;text-align: right\">276</td>\n",
        "<td class=\"\" style=\"white-space: nowrap; vertical-align: baseline; text-align: right\">(243)</td>\n",
        "</tr><tr class=\"\"><th colspan=\"4\" style=\"text-align:center; background-color: #b0c4de; line-height: 1.5em\">National team<sup>\u2021</sup></th>\n",
        "</tr><tr class=\"\" style=\"white-space: nowrap; vertical-align: baseline\"><th style=\"white-space: nowrap; vertical-align: baseline; text-align: left\"><span style=\"font-weight:normal\">2004\u20132005</span></th>\n",
        "<td class=\"\" style=\"white-space: nowrap; vertical-align: baseline\"><a href=\"http://en.wikipedia.org/wiki/Argentina_national_under-20_football_team\" title=\"Argentina national under-20 football team\">Argentina U20</a></td>\n",
        "<td class=\"\" style=\"white-space: nowrap; vertical-align: baseline;text-align: right\">18</td>\n",
        "<td class=\"\" style=\"white-space: nowrap; vertical-align: baseline; text-align: right\">(14)</td>\n",
        "</tr><tr class=\"\" style=\"white-space: nowrap; vertical-align: baseline\"><th style=\"white-space: nowrap; vertical-align: baseline; text-align: left\"><span style=\"font-weight:normal\">2007\u20132008</span></th>\n",
        "<td class=\"\" style=\"white-space: nowrap; vertical-align: baseline\"><a href=\"http://en.wikipedia.org/wiki/Argentina_national_under-23_football_team\" title=\"Argentina national under-23 football team\">Argentina U23</a></td>\n",
        "<td class=\"\" style=\"white-space: nowrap; vertical-align: baseline;text-align: right\">5</td>\n",
        "<td class=\"\" style=\"white-space: nowrap; vertical-align: baseline; text-align: right\">(2)</td>\n",
        "</tr><tr class=\"\" style=\"white-space: nowrap; vertical-align: baseline\"><th style=\"white-space: nowrap; vertical-align: baseline; text-align: left\"><span style=\"font-weight:normal\">2005\u2013</span></th>\n",
        "<td class=\"\" style=\"white-space: nowrap; vertical-align: baseline\"><a href=\"http://en.wikipedia.org/wiki/Argentina_national_football_team\" title=\"Argentina national football team\">Argentina</a></td>\n",
        "<td class=\"\" style=\"white-space: nowrap; vertical-align: baseline;text-align: right\">83</td>\n",
        "<td class=\"\" style=\"white-space: nowrap; vertical-align: baseline; text-align: right\">(37)</td>\n",
        "</tr><tr class=\"\"><th colspan=\"4\" style=\"text-align:center; background-color: #b0c4de; line-height: 1.5em\">\n",
        "<div class=\"NavFrame collapsed\" style=\"border: none; padding: 0;\">\n",
        "<div class=\"NavHead\" style=\"font-size:105%; text-align: center; background-color: transparent;\">Honours</div>\n",
        "<div class=\"NavContent\" style=\"font-size:105%; font-weight: normal; width: 100%;\">\n",
        "<table style=\"width:100%; background-color: #f9f9f9; color: #000000;\"><tr bgcolor=\"#EEEEEE\" class=\"adr\" align=\"center\"><th colspan=\"3\"><b>Competitor for <span class=\"country-name\"><span class=\"flagicon\"><img alt=\"\" src=\"//upload.wikimedia.org/wikipedia/commons/thumb/1/1a/Flag_of_Argentina.svg/23px-Flag_of_Argentina.svg.png\" width=\"23\" height=\"14\" class=\"thumbborder\" srcset=\"//upload.wikimedia.org/wikipedia/commons/thumb/1/1a/Flag_of_Argentina.svg/35px-Flag_of_Argentina.svg.png 1.5x, //upload.wikimedia.org/wikipedia/commons/thumb/1/1a/Flag_of_Argentina.svg/46px-Flag_of_Argentina.svg.png 2x\" data-file-width=\"800\" data-file-height=\"500\"/>\u00a0</span><a href=\"http://en.wikipedia.org/wiki/Argentina\" title=\"Argentina\">Argentina</a></span></b></th>\n",
        "</tr><tr bgcolor=\"#EEEEEE\" align=\"center\"><th colspan=\"3\">Men's <a href=\"http://en.wikipedia.org/wiki/Football\" title=\"Football\">Football</a></th>\n",
        "</tr><tr bgcolor=\"#CCCCCC\" align=\"center\"><th colspan=\"3\"><a href=\"http://en.wikipedia.org/wiki/Football_at_the_Summer_Olympics\" title=\"Football at the Summer Olympics\">Olympic Games</a></th>\n",
        "</tr><tr align=\"center\" bgcolor=\"white\" valign=\"middle\"><td bgcolor=\"gold\"><b>Gold</b></td>\n",
        "<td><a href=\"http://en.wikipedia.org/wiki/Football_at_the_2008_Summer_Olympics_%E2%80%93_Men%27s_tournament\" title=\"Football at the 2008 Summer Olympics \u2013 Men's tournament\">2008 Beijing</a></td>\n",
        "<td><a href=\"http://en.wikipedia.org/wiki/Argentina_national_under-23_football_team\" title=\"Argentina national under-23 football team\">Olympic Team</a></td>\n",
        "</tr><tr bgcolor=\"#CCCCCC\" align=\"center\"><th colspan=\"3\"><a href=\"http://en.wikipedia.org/wiki/Copa_Am%C3%A9rica\" title=\"Copa Am\u00e9rica\">Copa Am\u00e9rica</a></th>\n",
        "</tr><tr align=\"center\" valign=\"middle\" bgcolor=\"white\"><td bgcolor=\"silver\"><b>Runner-up</b></td>\n",
        "<td><span class=\"nowrap\"><a href=\"http://en.wikipedia.org/wiki/2007_Copa_Am%C3%A9rica\" title=\"2007 Copa Am\u00e9rica\">2007 Venezuela</a></span></td>\n",
        "<td><a href=\"http://en.wikipedia.org/wiki/Argentina_national_football_team\" title=\"Argentina national football team\">Team</a></td>\n",
        "</tr><tr bgcolor=\"#CCCCCC\" align=\"center\"><th colspan=\"3\"><a href=\"http://en.wikipedia.org/wiki/FIFA_U-20_World_Cup\" title=\"FIFA U-20 World Cup\">FIFA U-20 World Cup</a></th>\n",
        "</tr><tr align=\"center\" valign=\"middle\" bgcolor=\"white\"><td bgcolor=\"gold\"><b>Winner</b></td>\n",
        "<td><span class=\"nowrap\"><a href=\"http://en.wikipedia.org/wiki/2005_FIFA_World_Youth_Championship\" title=\"2005 FIFA World Youth Championship\">2005 Netherlands</a></span></td>\n",
        "<td><a href=\"http://en.wikipedia.org/wiki/Argentina_national_under-20_football_team\" title=\"Argentina national under-20 football team\">U-20 Team</a></td>\n",
        "</tr><tr bgcolor=\"#CCCCCC\" align=\"center\"><th colspan=\"3\"><a href=\"http://en.wikipedia.org/wiki/U-20_South_American_Championship\" title=\"U-20 South American Championship\" class=\"mw-redirect\">U-20 South American Championship</a></th>\n",
        "</tr><tr align=\"center\" valign=\"middle\" bgcolor=\"white\"><td bgcolor=\"#CC9966\"><b>Third</b></td>\n",
        "<td><span class=\"nowrap\"><a href=\"http://en.wikipedia.org/wiki/U-20_South_American_Championship\" title=\"U-20 South American Championship\" class=\"mw-redirect\">2005 Colombia</a></span></td>\n",
        "<td><a href=\"http://en.wikipedia.org/wiki/Argentina_national_under-20_football_team\" title=\"Argentina national under-20 football team\">U-20 Team</a></td>\n",
        "</tr></table></div>\n",
        "</div>\n",
        "</th>\n",
        "</tr><tr class=\"\"><td colspan=\"4\" class=\"\" style=\"text-align:center; color:darkslategray; font-size:95%\">* Senior club appearances and goals counted for the domestic league only and correct as of 01:38, 17 May 2014 (UTC).<br/><p>\u2020 Appearances (Goals).<br/></p>\n",
        "\u2021 National team caps and goals correct as of 11 September 2013</td>\n",
        "</tr>"
       ],
       "metadata": {},
       "output_type": "pyout",
       "prompt_number": 6,
       "text": [
        "<IPython.core.display.HTML at 0x382a850>"
       ]
      }
     ],
     "prompt_number": 6
    },
    {
     "cell_type": "code",
     "collapsed": false,
     "input": [
      "messi('table.infobox').text()"
     ],
     "language": "python",
     "metadata": {},
     "outputs": [
      {
       "metadata": {},
       "output_type": "pyout",
       "prompt_number": 21,
       "text": [
        "u\"Lionel Messi Messi playing for Barcelona at the 2011 FIFA Club World Cup Personal information Full name Lionel Andr\\xe9s Messi [ 1 ] Date of birth ( 1987-06-24 ) 24 June 1987 (age\\xa026) [ 1 ] Place of birth Rosario , Argentina [ 1 ] Height 1.69\\xa0m (5\\xa0ft 7\\xa0in) [ 1 ] Playing position Forward Club information Current club Barcelona Number 10 Youth career 1995\\u20132000 Newell's Old Boys 2000\\u20132003 Barcelona Senior career* Years Team Apps \\u2020 (Gls) \\u2020 2003\\u20132004 Barcelona C 10 (5) 2004\\u20132005 Barcelona B 22 (6) 2004\\u2013 Barcelona 276 (243) National team \\u2021 2004\\u20132005 Argentina U20 18 (14) 2007\\u20132008 Argentina U23 5 (2) 2005\\u2013 Argentina 83 (37) Honours Competitor for Argentina Men's Football Olympic Games Gold 2008 Beijing Olympic Team Copa Am\\xe9rica Runner-up 2007 Venezuela Team FIFA U-20 World Cup Winner 2005 Netherlands U-20 Team U-20 South American Championship Third 2005 Colombia U-20 Team * Senior club appearances and goals counted for the domestic league only and correct as of 01:38, 17 May 2014 (UTC). \\u2020 Appearances (Goals). \\u2021 National team caps and goals correct as of 11 September 2013 Lionel Messi Born Lionel Andr\\xe9s Messi ( 1987-06-24 ) 24 June 1987 (age\\xa026) Rosario , Santa Fe , Argentina Residence Barcelona , Catalonia , Spain Nationality Argentinian Ethnicity Argentinian & Italian Occupation Association Footballer Salary \\u20ac 16\\xa0million Religion Roman Catholic Spouse(s) Antonella Roccuzzo Children Thiago Messi Parents Jorge Horacio Messi (father) Celia Maria Cuccittini (mother) Relatives Maxi Biancucchi (cousin) Emanuel Biancucchi (cousin) Website Official Website\""
       ]
      }
     ],
     "prompt_number": 21
    },
    {
     "cell_type": "code",
     "collapsed": false,
     "input": [
      "fecha = re.findall(r'\\d{4}\\-\\d{2}\\-\\d{2}', messi('table.infobox').text())[0]\n",
      "fecha"
     ],
     "language": "python",
     "metadata": {},
     "outputs": [
      {
       "metadata": {},
       "output_type": "pyout",
       "prompt_number": 14,
       "text": [
        "u'1987-06-24'"
       ]
      }
     ],
     "prompt_number": 14
    },
    {
     "cell_type": "markdown",
     "metadata": {},
     "source": [
      "Luego de un poquito de experimentaci\u00f3n con expresiones regulares (no hagan esto en su casa, amigos), llegu\u00e9 a otra funcioncita para extraer esas fichas y completar datos de los jugadores"
     ]
    },
    {
     "cell_type": "code",
     "collapsed": false,
     "input": [
      "import re\n",
      "from datetime import datetime\n",
      "\n",
      "def fill_player(player):\n",
      "    # print 'Retriving data for %s (%d)' % (player, player.id)\n",
      "    pq = PyQuery(player.url)\n",
      "    pq.make_links_absolute()\n",
      "    info = pq('table.infobox').text()\n",
      "    player.date_of_birth = datetime.strptime(re.findall(r'\\d{4}\\-\\d{2}\\-\\d{2}', info)[0], \"%Y-%m-%d\").date()\n",
      "    try:\n",
      "        player.height = re.findall(r'(\\d{1}\\.\\d{2})', info)[0]\n",
      "    except IndexError:\n",
      "        player.height = float(re.findall(r'Height (\\d{3})', info)[0])/100\n",
      "    \n",
      "    try:\n",
      "        player.last_season_apps, player.last_season_goals = re.findall(r'(\\d+) \\((\\d+)\\) National team', info)[0]\n",
      "    except:\n",
      "        pass\n",
      "    try: \n",
      "        player.national_team_apps, player.national_team_goals =  re.findall(r'(\\d+) \\((\\d+)\\)', info)[-1]\n",
      "    except:\n",
      "        pass\n",
      "    player.save()"
     ],
     "language": "python",
     "metadata": {},
     "outputs": [],
     "prompt_number": 12
    },
    {
     "cell_type": "code",
     "collapsed": false,
     "input": [
      "for player in Player.objects.exclude(url__contains='edit'):\n",
      "    fill_player(player)"
     ],
     "language": "python",
     "metadata": {},
     "outputs": [
      {
       "output_type": "stream",
       "stream": "stdout",
       "text": [
        "Retriving data for Kunle Odunlami (622)\n",
        "Retriving data for John Obi Mikel (623)"
       ]
      },
      {
       "output_type": "stream",
       "stream": "stdout",
       "text": [
        "\n",
        "Retriving data for Ahmed Musa (624)"
       ]
      },
      {
       "output_type": "stream",
       "stream": "stdout",
       "text": [
        "\n",
        "Retriving data for Sunday Mba (625)"
       ]
      },
      {
       "output_type": "stream",
       "stream": "stdout",
       "text": [
        "\n",
        "Retriving data for Ejike Uzoenyi (626)"
       ]
      },
      {
       "output_type": "stream",
       "stream": "stdout",
       "text": [
        "\n",
        "Retriving data for Ogenyi Onazi (627)"
       ]
      },
      {
       "output_type": "stream",
       "stream": "stdout",
       "text": [
        "\n",
        "Retriving data for Victor Moses (628)"
       ]
      },
      {
       "output_type": "stream",
       "stream": "stdout",
       "text": [
        "\n",
        "Retriving data for Nnamdi Oduamadi (629)"
       ]
      },
      {
       "output_type": "stream",
       "stream": "stdout",
       "text": [
        "\n",
        "Retriving data for Joel Obi (630)"
       ]
      },
      {
       "output_type": "stream",
       "stream": "stdout",
       "text": [
        "\n",
        "Retriving data for Nosa Igiebor (631)"
       ]
      },
      {
       "output_type": "stream",
       "stream": "stdout",
       "text": [
        "\n",
        "Retriving data for Reuben Gabriel (632)"
       ]
      },
      {
       "output_type": "stream",
       "stream": "stdout",
       "text": [
        "\n",
        "Retriving data for Ramon Azeez (633)"
       ]
      },
      {
       "output_type": "stream",
       "stream": "stdout",
       "text": [
        "\n",
        "Retriving data for Peter Odemwingie (634)"
       ]
      },
      {
       "output_type": "stream",
       "stream": "stdout",
       "text": [
        "\n",
        "Retriving data for Victor Obinna (635)"
       ]
      },
      {
       "output_type": "stream",
       "stream": "stdout",
       "text": [
        "\n",
        "Retriving data for Emmanuel Emenike (636)"
       ]
      },
      {
       "output_type": "stream",
       "stream": "stdout",
       "text": [
        "\n",
        "Retriving data for Shola Ameobi (637)"
       ]
      },
      {
       "output_type": "stream",
       "stream": "stdout",
       "text": [
        "\n",
        "Retriving data for Uche Nwofor (638)"
       ]
      },
      {
       "output_type": "stream",
       "stream": "stdout",
       "text": [
        "\n",
        "Retriving data for Michel Babatunde (639)"
       ]
      },
      {
       "output_type": "stream",
       "stream": "stdout",
       "text": [
        "\n",
        "Retriving data for Michael Uchebo (640)"
       ]
      },
      {
       "output_type": "stream",
       "stream": "stdout",
       "text": [
        "\n",
        "Retriving data for Manuel Neuer (641)"
       ]
      },
      {
       "output_type": "stream",
       "stream": "stdout",
       "text": [
        "\n",
        "Retriving data for Ron-Robert Zieler (642)"
       ]
      },
      {
       "output_type": "stream",
       "stream": "stdout",
       "text": [
        "\n",
        "Retriving data for Roman Weidenfeller (643)"
       ]
      },
      {
       "output_type": "stream",
       "stream": "stdout",
       "text": [
        "\n",
        "Retriving data for Philipp Lahm (644)"
       ]
      },
      {
       "output_type": "stream",
       "stream": "stdout",
       "text": [
        "\n",
        "Retriving data for Per Mertesacker (645)"
       ]
      },
      {
       "output_type": "stream",
       "stream": "stdout",
       "text": [
        "\n",
        "Retriving data for J\u00e9r\u00f4me Boateng (646)"
       ]
      },
      {
       "output_type": "stream",
       "stream": "stdout",
       "text": [
        "\n",
        "Retriving data for Mats Hummels (647)"
       ]
      },
      {
       "output_type": "stream",
       "stream": "stdout",
       "text": [
        "\n",
        "Retriving data for Benedikt H\u00f6wedes (648)"
       ]
      },
      {
       "output_type": "stream",
       "stream": "stdout",
       "text": [
        "\n",
        "Retriving data for Marcel Schmelzer (649)"
       ]
      },
      {
       "output_type": "stream",
       "stream": "stdout",
       "text": [
        "\n",
        "Retriving data for Kevin Gro\u00dfkreutz (650)"
       ]
      },
      {
       "output_type": "stream",
       "stream": "stdout",
       "text": [
        "\n",
        "Retriving data for Matthias Ginter (651)"
       ]
      },
      {
       "output_type": "stream",
       "stream": "stdout",
       "text": [
        "\n",
        "Retriving data for Shkodran Mustafi (652)"
       ]
      },
      {
       "output_type": "stream",
       "stream": "stdout",
       "text": [
        "\n",
        "Retriving data for Erik Durm (653)"
       ]
      },
      {
       "output_type": "stream",
       "stream": "stdout",
       "text": [
        "\n",
        "Retriving data for Bastian Schweinsteiger (654)"
       ]
      },
      {
       "output_type": "stream",
       "stream": "stdout",
       "text": [
        "\n",
        "Retriving data for Mesut \u00d6zil (655)"
       ]
      },
      {
       "output_type": "stream",
       "stream": "stdout",
       "text": [
        "\n",
        "Retriving data for Sami Khedira (656)"
       ]
      },
      {
       "output_type": "stream",
       "stream": "stdout",
       "text": [
        "\n",
        "Retriving data for Toni Kroos (657)"
       ]
      },
      {
       "output_type": "stream",
       "stream": "stdout",
       "text": [
        "\n",
        "Retriving data for Mario G\u00f6tze (658)"
       ]
      },
      {
       "output_type": "stream",
       "stream": "stdout",
       "text": [
        "\n",
        "Retriving data for Julian Draxler (659)"
       ]
      },
      {
       "output_type": "stream",
       "stream": "stdout",
       "text": [
        "\n",
        "Retriving data for Christoph Kramer (660)"
       ]
      },
      {
       "output_type": "stream",
       "stream": "stdout",
       "text": [
        "\n",
        "Retriving data for Miroslav Klose (661)"
       ]
      },
      {
       "output_type": "stream",
       "stream": "stdout",
       "text": [
        "\n",
        "Retriving data for Lukas Podolski (662)"
       ]
      },
      {
       "output_type": "stream",
       "stream": "stdout",
       "text": [
        "\n",
        "Retriving data for Andr\u00e9 Sch\u00fcrrle (663)"
       ]
      },
      {
       "output_type": "stream",
       "stream": "stdout",
       "text": [
        "\n",
        "Retriving data for Marco Reus (664)"
       ]
      },
      {
       "output_type": "stream",
       "stream": "stdout",
       "text": [
        "\n",
        "Retriving data for Thomas M\u00fcller (665)"
       ]
      },
      {
       "output_type": "stream",
       "stream": "stdout",
       "text": [
        "\n",
        "Retriving data for Kevin Volland (666)"
       ]
      },
      {
       "output_type": "stream",
       "stream": "stdout",
       "text": [
        "\n",
        "Retriving data for Adam Kwarasey (667)"
       ]
      },
      {
       "output_type": "stream",
       "stream": "stdout",
       "text": [
        "\n",
        "Retriving data for Fatau Dauda (668)"
       ]
      },
      {
       "output_type": "stream",
       "stream": "stdout",
       "text": [
        "\n",
        "Retriving data for Steven Adams (669)"
       ]
      },
      {
       "output_type": "stream",
       "stream": "stdout",
       "text": [
        "\n",
        "Retriving data for Samuel Inkoom (670)"
       ]
      },
      {
       "output_type": "stream",
       "stream": "stdout",
       "text": [
        "\n",
        "Retriving data for Harrison Afful (671)"
       ]
      },
      {
       "output_type": "stream",
       "stream": "stdout",
       "text": [
        "\n",
        "Retriving data for John Boye (672)"
       ]
      },
      {
       "output_type": "stream",
       "stream": "stdout",
       "text": [
        "\n",
        "Retriving data for Jonathan Mensah (673)"
       ]
      },
      {
       "output_type": "stream",
       "stream": "stdout",
       "text": [
        "\n",
        "Retriving data for Daniel Opare (674)"
       ]
      },
      {
       "output_type": "stream",
       "stream": "stdout",
       "text": [
        "\n",
        "Retriving data for Jerry Akaminko (675)"
       ]
      },
      {
       "output_type": "stream",
       "stream": "stdout",
       "text": [
        "\n",
        "Retriving data for Rashid Sumaila (676)"
       ]
      },
      {
       "output_type": "stream",
       "stream": "stdout",
       "text": [
        "\n",
        "Retriving data for Jeff Schlupp (677)"
       ]
      },
      {
       "output_type": "stream",
       "stream": "stdout",
       "text": [
        "\n",
        "Retriving data for Sulley Muntari (678)"
       ]
      },
      {
       "output_type": "stream",
       "stream": "stdout",
       "text": [
        "\n",
        "Retriving data for Kwadwo Asamoah (679)"
       ]
      },
      {
       "output_type": "stream",
       "stream": "stdout",
       "text": [
        "\n",
        "Retriving data for Michael Essien (680)"
       ]
      },
      {
       "output_type": "stream",
       "stream": "stdout",
       "text": [
        "\n",
        "Retriving data for Emmanuel Agyemang-Badu (681)"
       ]
      },
      {
       "output_type": "stream",
       "stream": "stdout",
       "text": [
        "\n",
        "Retriving data for Andr\u00e9 Ayew (682)"
       ]
      },
      {
       "output_type": "stream",
       "stream": "stdout",
       "text": [
        "\n",
        "Retriving data for Christian Atsu (683)"
       ]
      },
      {
       "output_type": "stream",
       "stream": "stdout",
       "text": [
        "\n",
        "Retriving data for Wakaso Mubarak (684)"
       ]
      },
      {
       "output_type": "stream",
       "stream": "stdout",
       "text": [
        "\n",
        "Retriving data for Mohammed Rabiu (685)"
       ]
      },
      {
       "output_type": "stream",
       "stream": "stdout",
       "text": [
        "\n",
        "Retriving data for Albert Adomah (686)"
       ]
      },
      {
       "output_type": "stream",
       "stream": "stdout",
       "text": [
        "\n",
        "Retriving data for Kevin-Prince Boateng (687)"
       ]
      },
      {
       "output_type": "stream",
       "stream": "stdout",
       "text": [
        "\n",
        "Retriving data for Afriyie Acquah (688)"
       ]
      },
      {
       "output_type": "stream",
       "stream": "stdout",
       "text": [
        "\n",
        "Retriving data for Asamoah Gyan (689)"
       ]
      },
      {
       "output_type": "stream",
       "stream": "stdout",
       "text": [
        "\n",
        "Retriving data for Majeed Waris (690)"
       ]
      },
      {
       "output_type": "stream",
       "stream": "stdout",
       "text": [
        "\n",
        "Retriving data for Jordan Ayew (691)"
       ]
      },
      {
       "output_type": "stream",
       "stream": "stdout",
       "text": [
        "\n",
        "Retriving data for David Accam (692)"
       ]
      },
      {
       "output_type": "stream",
       "stream": "stdout",
       "text": [
        "\n",
        "Retriving data for Eduardo (693)"
       ]
      },
      {
       "output_type": "stream",
       "stream": "stdout",
       "text": [
        "\n",
        "Retriving data for Rui Patr\u00edcio (694)"
       ]
      },
      {
       "output_type": "stream",
       "stream": "stdout",
       "text": [
        "\n",
        "Retriving data for Beto (695)"
       ]
      },
      {
       "output_type": "stream",
       "stream": "stdout",
       "text": [
        "\n",
        "Retriving data for Bruno Alves (696)"
       ]
      },
      {
       "output_type": "stream",
       "stream": "stdout",
       "text": [
        "\n",
        "Retriving data for Pepe (697)"
       ]
      },
      {
       "output_type": "stream",
       "stream": "stdout",
       "text": [
        "\n",
        "Retriving data for F\u00e1bio Coentr\u00e3o (698)"
       ]
      },
      {
       "output_type": "stream",
       "stream": "stdout",
       "text": [
        "\n",
        "Retriving data for Jo\u00e3o Pereira (699)"
       ]
      },
      {
       "output_type": "stream",
       "stream": "stdout",
       "text": [
        "\n",
        "Retriving data for Ricardo Costa (700)"
       ]
      },
      {
       "output_type": "stream",
       "stream": "stdout",
       "text": [
        "\n",
        "Retriving data for Lu\u00eds Neto (701)"
       ]
      },
      {
       "output_type": "stream",
       "stream": "stdout",
       "text": [
        "\n",
        "Retriving data for Andr\u00e9 Almeida (702)"
       ]
      },
      {
       "output_type": "stream",
       "stream": "stdout",
       "text": [
        "\n",
        "Retriving data for Raul Meireles (703)"
       ]
      },
      {
       "output_type": "stream",
       "stream": "stdout",
       "text": [
        "\n",
        "Retriving data for Nani (704)"
       ]
      },
      {
       "output_type": "stream",
       "stream": "stdout",
       "text": [
        "\n",
        "Retriving data for Jo\u00e3o Moutinho (705)"
       ]
      },
      {
       "output_type": "stream",
       "stream": "stdout",
       "text": [
        "\n",
        "Retriving data for Miguel Veloso (706)"
       ]
      },
      {
       "output_type": "stream",
       "stream": "stdout",
       "text": [
        "\n",
        "Retriving data for Silvestre Varela (707)"
       ]
      },
      {
       "output_type": "stream",
       "stream": "stdout",
       "text": [
        "\n",
        "Retriving data for R\u00faben Amorim (708)"
       ]
      },
      {
       "output_type": "stream",
       "stream": "stdout",
       "text": [
        "\n",
        "Retriving data for Vieirinha (709)"
       ]
      },
      {
       "output_type": "stream",
       "stream": "stdout",
       "text": [
        "\n",
        "Retriving data for William Carvalho (710)"
       ]
      },
      {
       "output_type": "stream",
       "stream": "stdout",
       "text": [
        "\n",
        "Retriving data for Rafa Silva (711)"
       ]
      },
      {
       "output_type": "stream",
       "stream": "stdout",
       "text": [
        "\n",
        "Retriving data for Cristiano Ronaldo ( captain ) (712)"
       ]
      },
      {
       "output_type": "stream",
       "stream": "stdout",
       "text": [
        "\n",
        "Retriving data for H\u00e9lder Postiga (713)"
       ]
      },
      {
       "output_type": "stream",
       "stream": "stdout",
       "text": [
        "\n",
        "Retriving data for Hugo Almeida (714)"
       ]
      },
      {
       "output_type": "stream",
       "stream": "stdout",
       "text": [
        "\n",
        "Retriving data for \u00c9der (715)"
       ]
      },
      {
       "output_type": "stream",
       "stream": "stdout",
       "text": [
        "\n",
        "Retriving data for Tim Howard (716)"
       ]
      },
      {
       "output_type": "stream",
       "stream": "stdout",
       "text": [
        "\n",
        "Retriving data for Brad Guzan (717)"
       ]
      },
      {
       "output_type": "stream",
       "stream": "stdout",
       "text": [
        "\n",
        "Retriving data for Nick Rimando (718)"
       ]
      },
      {
       "output_type": "stream",
       "stream": "stdout",
       "text": [
        "\n",
        "Retriving data for DaMarcus Beasley (719)"
       ]
      },
      {
       "output_type": "stream",
       "stream": "stdout",
       "text": [
        "\n",
        "Retriving data for Geoff Cameron (720)"
       ]
      },
      {
       "output_type": "stream",
       "stream": "stdout",
       "text": [
        "\n",
        "Retriving data for Fabian Johnson (721)"
       ]
      },
      {
       "output_type": "stream",
       "stream": "stdout",
       "text": [
        "\n",
        "Retriving data for Omar Gonzalez (722)"
       ]
      },
      {
       "output_type": "stream",
       "stream": "stdout",
       "text": [
        "\n",
        "Retriving data for Matt Besler (723)"
       ]
      },
      {
       "output_type": "stream",
       "stream": "stdout",
       "text": [
        "\n",
        "Retriving data for Timothy Chandler (724)"
       ]
      },
      {
       "output_type": "stream",
       "stream": "stdout",
       "text": [
        "\n",
        "Retriving data for John Brooks (725)"
       ]
      },
      {
       "output_type": "stream",
       "stream": "stdout",
       "text": [
        "\n",
        "Retriving data for DeAndre Yedlin (726)"
       ]
      },
      {
       "output_type": "stream",
       "stream": "stdout",
       "text": [
        "\n",
        "Retriving data for Michael Bradley (727)"
       ]
      },
      {
       "output_type": "stream",
       "stream": "stdout",
       "text": [
        "\n",
        "Retriving data for Jermaine Jones (728)"
       ]
      },
      {
       "output_type": "stream",
       "stream": "stdout",
       "text": [
        "\n",
        "Retriving data for Kyle Beckerman (729)"
       ]
      },
      {
       "output_type": "stream",
       "stream": "stdout",
       "text": [
        "\n",
        "Retriving data for Alejandro Bedoya (730)"
       ]
      },
      {
       "output_type": "stream",
       "stream": "stdout",
       "text": [
        "\n",
        "Retriving data for Graham Zusi (731)"
       ]
      },
      {
       "output_type": "stream",
       "stream": "stdout",
       "text": [
        "\n",
        "Retriving data for Mikkel Diskerud (732)"
       ]
      },
      {
       "output_type": "stream",
       "stream": "stdout",
       "text": [
        "\n",
        "Retriving data for Brad Davis (733)"
       ]
      },
      {
       "output_type": "stream",
       "stream": "stdout",
       "text": [
        "\n",
        "Retriving data for Julian Green (734)"
       ]
      },
      {
       "output_type": "stream",
       "stream": "stdout",
       "text": [
        "\n",
        "Retriving data for Clint Dempsey (735)"
       ]
      },
      {
       "output_type": "stream",
       "stream": "stdout",
       "text": [
        "\n",
        "Retriving data for Jozy Altidore (736)"
       ]
      },
      {
       "output_type": "stream",
       "stream": "stdout",
       "text": [
        "\n",
        "Retriving data for Chris Wondolowski (737)"
       ]
      },
      {
       "output_type": "stream",
       "stream": "stdout",
       "text": [
        "\n",
        "Retriving data for Aron J\u00f3hannsson (738)"
       ]
      },
      {
       "output_type": "stream",
       "stream": "stdout",
       "text": [
        "\n",
        "Retriving data for Ra\u00efs M'Bolhi (739)"
       ]
      },
      {
       "output_type": "stream",
       "stream": "stdout",
       "text": [
        "\n",
        "Retriving data for Mohamed Zemmamouche (740)"
       ]
      },
      {
       "output_type": "stream",
       "stream": "stdout",
       "text": [
        "\n",
        "Retriving data for Azzedine Doukha (741)"
       ]
      },
      {
       "output_type": "stream",
       "stream": "stdout",
       "text": [
        "\n",
        "Retriving data for C\u00e9dric Si Mohamed (742)"
       ]
      },
      {
       "output_type": "stream",
       "stream": "stdout",
       "text": [
        "\n",
        "Retriving data for Madjid Bougherra (743)"
       ]
      },
      {
       "output_type": "stream",
       "stream": "stdout",
       "text": [
        "\n",
        "Retriving data for Rafik Halliche (744)"
       ]
      },
      {
       "output_type": "stream",
       "stream": "stdout",
       "text": [
        "\n",
        "Retriving data for Djamel Mesbah (745)"
       ]
      },
      {
       "output_type": "stream",
       "stream": "stdout",
       "text": [
        "\n",
        "Retriving data for Carl Medjani (746)"
       ]
      },
      {
       "output_type": "stream",
       "stream": "stdout",
       "text": [
        "\n",
        "Retriving data for Essa\u00efd Belkalem (747)"
       ]
      },
      {
       "output_type": "stream",
       "stream": "stdout",
       "text": [
        "\n",
        "Retriving data for Liassine Cadamuro-Benta\u00efba (748)"
       ]
      },
      {
       "output_type": "stream",
       "stream": "stdout",
       "text": [
        "\n",
        "Retriving data for Faouzi Ghoulam (749)"
       ]
      },
      {
       "output_type": "stream",
       "stream": "stdout",
       "text": [
        "\n",
        "Retriving data for Nacereddine Khoualed (750)"
       ]
      },
      {
       "output_type": "stream",
       "stream": "stdout",
       "text": [
        "\n",
        "Retriving data for A\u00efssa Mandi (751)"
       ]
      },
      {
       "output_type": "stream",
       "stream": "stdout",
       "text": [
        "\n",
        "Retriving data for Medhi Lacen (752)"
       ]
      },
      {
       "output_type": "stream",
       "stream": "stdout",
       "text": [
        "\n",
        "Retriving data for Adl\u00e8ne Guedioura (753)"
       ]
      },
      {
       "output_type": "stream",
       "stream": "stdout",
       "text": [
        "\n",
        "Retriving data for Hassan Yebda (754)"
       ]
      },
      {
       "output_type": "stream",
       "stream": "stdout",
       "text": [
        "\n",
        "Retriving data for Foued Kadir (755)"
       ]
      },
      {
       "output_type": "stream",
       "stream": "stdout",
       "text": [
        "\n",
        "Retriving data for Mehdi Mostefa (756)"
       ]
      },
      {
       "output_type": "stream",
       "stream": "stdout",
       "text": [
        "\n",
        "Retriving data for Sofiane Feghouli (757)"
       ]
      },
      {
       "output_type": "stream",
       "stream": "stdout",
       "text": [
        "\n",
        "Retriving data for Ryad Boudebouz (758)"
       ]
      },
      {
       "output_type": "stream",
       "stream": "stdout",
       "text": [
        "\n",
        "Retriving data for Saphir Ta\u00efder (759)"
       ]
      },
      {
       "output_type": "stream",
       "stream": "stdout",
       "text": [
        "\n",
        "Retriving data for Abdelmoumene Djabou (760)"
       ]
      },
      {
       "output_type": "stream",
       "stream": "stdout",
       "text": [
        "\n",
        "Retriving data for Yacine Brahimi (761)"
       ]
      },
      {
       "output_type": "stream",
       "stream": "stdout",
       "text": [
        "\n",
        "Retriving data for Nabil Bentaleb (762)"
       ]
      },
      {
       "output_type": "stream",
       "stream": "stdout",
       "text": [
        "\n",
        "Retriving data for Amir Karaoui (763)"
       ]
      },
      {
       "output_type": "stream",
       "stream": "stdout",
       "text": [
        "\n",
        "Retriving data for Riyad Mahrez (764)"
       ]
      },
      {
       "output_type": "stream",
       "stream": "stdout",
       "text": [
        "\n",
        "Retriving data for Rafik Djebbour (765)"
       ]
      },
      {
       "output_type": "stream",
       "stream": "stdout",
       "text": [
        "\n",
        "Retriving data for El Arbi Hillel Soudani (766)"
       ]
      },
      {
       "output_type": "stream",
       "stream": "stdout",
       "text": [
        "\n",
        "Retriving data for Islam Slimani (767)"
       ]
      },
      {
       "output_type": "stream",
       "stream": "stdout",
       "text": [
        "\n",
        "Retriving data for Nabil Ghilas (768)"
       ]
      },
      {
       "output_type": "stream",
       "stream": "stdout",
       "text": [
        "\n",
        "Retriving data for Thibaut Courtois (769)"
       ]
      },
      {
       "output_type": "stream",
       "stream": "stdout",
       "text": [
        "\n",
        "Retriving data for Simon Mignolet (770)"
       ]
      },
      {
       "output_type": "stream",
       "stream": "stdout",
       "text": [
        "\n",
        "Retriving data for Sammy Bossut [ 52 ] (771)"
       ]
      },
      {
       "output_type": "stream",
       "stream": "stdout",
       "text": [
        "\n",
        "Retriving data for Koen Casteels (772)"
       ]
      },
      {
       "output_type": "stream",
       "stream": "stdout",
       "text": [
        "\n",
        "Retriving data for Daniel Van Buyten (773)"
       ]
      },
      {
       "output_type": "stream",
       "stream": "stdout",
       "text": [
        "\n",
        "Retriving data for Vincent Kompany (774)"
       ]
      },
      {
       "output_type": "stream",
       "stream": "stdout",
       "text": [
        "\n",
        "Retriving data for Jan Vertonghen (775)"
       ]
      },
      {
       "output_type": "stream",
       "stream": "stdout",
       "text": [
        "\n",
        "Retriving data for Thomas Vermaelen (776)"
       ]
      },
      {
       "output_type": "stream",
       "stream": "stdout",
       "text": [
        "\n",
        "Retriving data for Toby Alderweireld (777)"
       ]
      },
      {
       "output_type": "stream",
       "stream": "stdout",
       "text": [
        "\n",
        "Retriving data for Nicolas Lombaerts (778)"
       ]
      },
      {
       "output_type": "stream",
       "stream": "stdout",
       "text": [
        "\n",
        "Retriving data for Anthony Vanden Borre (779)"
       ]
      },
      {
       "output_type": "stream",
       "stream": "stdout",
       "text": [
        "\n",
        "Retriving data for Laurent Ciman (780)"
       ]
      },
      {
       "output_type": "stream",
       "stream": "stdout",
       "text": [
        "\n",
        "Retriving data for Mousa Demb\u00e9l\u00e9 (781)"
       ]
      },
      {
       "output_type": "stream",
       "stream": "stdout",
       "text": [
        "\n",
        "Retriving data for Marouane Fellaini (782)"
       ]
      },
      {
       "output_type": "stream",
       "stream": "stdout",
       "text": [
        "\n",
        "Retriving data for Axel Witsel (783)"
       ]
      },
      {
       "output_type": "stream",
       "stream": "stdout",
       "text": [
        "\n",
        "Retriving data for Kevin Mirallas (784)"
       ]
      },
      {
       "output_type": "stream",
       "stream": "stdout",
       "text": [
        "\n",
        "Retriving data for Eden Hazard (785)"
       ]
      },
      {
       "output_type": "stream",
       "stream": "stdout",
       "text": [
        "\n",
        "Retriving data for Steven Defour (786)"
       ]
      },
      {
       "output_type": "stream",
       "stream": "stdout",
       "text": [
        "\n",
        "Retriving data for Kevin De Bruyne (787)"
       ]
      },
      {
       "output_type": "stream",
       "stream": "stdout",
       "text": [
        "\n",
        "Retriving data for Nacer Chadli (788)"
       ]
      },
      {
       "output_type": "stream",
       "stream": "stdout",
       "text": [
        "\n",
        "Retriving data for Adnan Januzaj (789)"
       ]
      },
      {
       "output_type": "stream",
       "stream": "stdout",
       "text": [
        "\n",
        "Retriving data for Romelu Lukaku (790)"
       ]
      },
      {
       "output_type": "stream",
       "stream": "stdout",
       "text": [
        "\n",
        "Retriving data for Dries Mertens (791)"
       ]
      },
      {
       "output_type": "stream",
       "stream": "stdout",
       "text": [
        "\n",
        "Retriving data for Divock Origi (792)"
       ]
      },
      {
       "output_type": "stream",
       "stream": "stdout",
       "text": [
        "\n",
        "Retriving data for Igor Akinfeev (793)"
       ]
      },
      {
       "output_type": "stream",
       "stream": "stdout",
       "text": [
        "\n",
        "Retriving data for Yuri Lodygin (794)"
       ]
      },
      {
       "output_type": "stream",
       "stream": "stdout",
       "text": [
        "\n",
        "Retriving data for Sergey Ryzhikov (795)"
       ]
      },
      {
       "output_type": "stream",
       "stream": "stdout",
       "text": [
        "\n",
        "Retriving data for Sergei Ignashevich (796)"
       ]
      },
      {
       "output_type": "stream",
       "stream": "stdout",
       "text": [
        "\n",
        "Retriving data for Vasili Berezutski (797)"
       ]
      },
      {
       "output_type": "stream",
       "stream": "stdout",
       "text": [
        "\n",
        "Retriving data for Dmitri Kombarov (798)"
       ]
      },
      {
       "output_type": "stream",
       "stream": "stdout",
       "text": [
        "\n",
        "Retriving data for Andrey Yeshchenko (799)"
       ]
      },
      {
       "output_type": "stream",
       "stream": "stdout",
       "text": [
        "\n",
        "Retriving data for Aleksei Kozlov (800)"
       ]
      },
      {
       "output_type": "stream",
       "stream": "stdout",
       "text": [
        "\n",
        "Retriving data for Vladimir Granat (801)"
       ]
      },
      {
       "output_type": "stream",
       "stream": "stdout",
       "text": [
        "\n",
        "Retriving data for Georgi Shchennikov (802)"
       ]
      },
      {
       "output_type": "stream",
       "stream": "stdout",
       "text": [
        "\n",
        "Retriving data for Andrei Semyonov (803)"
       ]
      },
      {
       "output_type": "stream",
       "stream": "stdout",
       "text": [
        "\n",
        "Retriving data for Igor Denisov (804)"
       ]
      },
      {
       "output_type": "stream",
       "stream": "stdout",
       "text": [
        "\n",
        "Retriving data for Aleksei Ionov (805)"
       ]
      },
      {
       "output_type": "stream",
       "stream": "stdout",
       "text": [
        "\n",
        "Retriving data for Yuri Zhirkov (806)"
       ]
      },
      {
       "output_type": "stream",
       "stream": "stdout",
       "text": [
        "\n",
        "Retriving data for Roman Shirokov (807)"
       ]
      },
      {
       "output_type": "stream",
       "stream": "stdout",
       "text": [
        "\n",
        "Retriving data for Alan Dzagoev (808)"
       ]
      },
      {
       "output_type": "stream",
       "stream": "stdout",
       "text": [
        "\n",
        "Retriving data for Denis Glushakov (809)"
       ]
      },
      {
       "output_type": "stream",
       "stream": "stdout",
       "text": [
        "\n",
        "Retriving data for Viktor Fayzulin (810)"
       ]
      },
      {
       "output_type": "stream",
       "stream": "stdout",
       "text": [
        "\n",
        "Retriving data for Aleksandr Samedov (811)"
       ]
      },
      {
       "output_type": "stream",
       "stream": "stdout",
       "text": [
        "\n",
        "Retriving data for Oleg Shatov (812)"
       ]
      },
      {
       "output_type": "stream",
       "stream": "stdout",
       "text": [
        "\n",
        "Retriving data for Pavel Mogilevets (813)"
       ]
      },
      {
       "output_type": "stream",
       "stream": "stdout",
       "text": [
        "\n",
        "Retriving data for Aleksandr Kerzhakov (814)"
       ]
      },
      {
       "output_type": "stream",
       "stream": "stdout",
       "text": [
        "\n",
        "Retriving data for Aleksandr Kokorin (815)"
       ]
      },
      {
       "output_type": "stream",
       "stream": "stdout",
       "text": [
        "\n",
        "Retriving data for Maksim Kanunnikov (816)"
       ]
      },
      {
       "output_type": "stream",
       "stream": "stdout",
       "text": [
        "\n",
        "Retriving data for Jung Sung-Ryong (817)"
       ]
      },
      {
       "output_type": "stream",
       "stream": "stdout",
       "text": [
        "\n",
        "Retriving data for Kim Chang-Soo (818)"
       ]
      },
      {
       "output_type": "stream",
       "stream": "stdout",
       "text": [
        "\n",
        "Retriving data for Yun Suk-Young (819)"
       ]
      },
      {
       "output_type": "stream",
       "stream": "stdout",
       "text": [
        "\n",
        "Retriving data for Kwak Tae-Hwi (820)"
       ]
      },
      {
       "output_type": "stream",
       "stream": "stdout",
       "text": [
        "\n",
        "Retriving data for Kim Young-Gwon (821)"
       ]
      },
      {
       "output_type": "stream",
       "stream": "stdout",
       "text": [
        "\n",
        "Retriving data for Hwang Seok-Ho (822)"
       ]
      },
      {
       "output_type": "stream",
       "stream": "stdout",
       "text": [
        "\n",
        "Retriving data for Kim Bo-Kyung (823)"
       ]
      },
      {
       "output_type": "stream",
       "stream": "stdout",
       "text": [
        "\n",
        "Retriving data for Ha Dae-Sung (824)"
       ]
      },
      {
       "output_type": "stream",
       "stream": "stdout",
       "text": [
        "\n",
        "Retriving data for Son Heung-Min (825)"
       ]
      },
      {
       "output_type": "stream",
       "stream": "stdout",
       "text": [
        "\n",
        "Retriving data for Park Chu-Young (826)"
       ]
      },
      {
       "output_type": "stream",
       "stream": "stdout",
       "text": [
        "\n",
        "Retriving data for Lee Keun-Ho (827)"
       ]
      },
      {
       "output_type": "stream",
       "stream": "stdout",
       "text": [
        "\n",
        "Retriving data for Lee Yong (828)"
       ]
      },
      {
       "output_type": "stream",
       "stream": "stdout",
       "text": [
        "\n",
        "Retriving data for Koo Ja-Cheol ( captain ) (829)"
       ]
      },
      {
       "output_type": "stream",
       "stream": "stdout",
       "text": [
        "\n",
        "Retriving data for Han Kook-Young (830)"
       ]
      },
      {
       "output_type": "stream",
       "stream": "stdout",
       "text": [
        "\n",
        "Retriving data for Park Jong-Woo (831)"
       ]
      },
      {
       "output_type": "stream",
       "stream": "stdout",
       "text": [
        "\n",
        "Retriving data for Ki Sung-Yueng (832)"
       ]
      },
      {
       "output_type": "stream",
       "stream": "stdout",
       "text": [
        "\n",
        "Retriving data for Lee Chung-Yong (833)"
       ]
      },
      {
       "output_type": "stream",
       "stream": "stdout",
       "text": [
        "\n",
        "Retriving data for Kim Shin-Wook (834)"
       ]
      },
      {
       "output_type": "stream",
       "stream": "stdout",
       "text": [
        "\n",
        "Retriving data for Ji Dong-Won (835)"
       ]
      },
      {
       "output_type": "stream",
       "stream": "stdout",
       "text": [
        "\n",
        "Retriving data for Hong Jeong-Ho (836)"
       ]
      },
      {
       "output_type": "stream",
       "stream": "stdout",
       "text": [
        "\n",
        "Retriving data for Kim Seung-Gyu (837)"
       ]
      },
      {
       "output_type": "stream",
       "stream": "stdout",
       "text": [
        "\n",
        "Retriving data for Kim Jin-Su (838)"
       ]
      },
      {
       "output_type": "stream",
       "stream": "stdout",
       "text": [
        "\n",
        "Retriving data for Lee Bum-Young (839)"
       ]
      },
      {
       "output_type": "stream",
       "stream": "stdout",
       "text": [
        "\n"
       ]
      }
     ],
     "prompt_number": 17
    },
    {
     "cell_type": "markdown",
     "metadata": {},
     "source": [
      "Y ahora s\u00ed, podemos escarbar algunos n\u00fameros\n",
      "\n",
      "\n",
      "### Cuesti\u00f3n de a\u00f1os\n",
      "\n",
      "\u00bfQui\u00e9n es el jugador m\u00e1s viejo de Brasil 2014? \u00bfQui\u00e9n el m\u00e1s j\u00f3ven?"
     ]
    },
    {
     "cell_type": "code",
     "collapsed": false,
     "input": [
      "from datetime import date\n",
      "viejo = Player.objects.filter(date_of_birth__isnull=False).order_by('date_of_birth')[0]\n",
      "joven = Player.objects.filter(date_of_birth__isnull=False).order_by('-date_of_birth')[0]"
     ],
     "language": "python",
     "metadata": {},
     "outputs": [],
     "prompt_number": 3
    },
    {
     "cell_type": "code",
     "collapsed": false,
     "input": [
      "today = date.today()\n",
      "age = lambda player: (today - player.date_of_birth).days / 365.25 \n",
      "print((viejo.full_name, viejo.team, viejo.date_of_birth, age(viejo)))\n",
      "print((joven.full_name, joven.team, joven.date_of_birth, age(joven)))"
     ],
     "language": "python",
     "metadata": {},
     "outputs": [
      {
       "output_type": "stream",
       "stream": "stdout",
       "text": [
        "(u'Faryd Mondrag\\xf3n', <Team: Colombia>, datetime.date(1971, 6, 21), 42.954140999315534)\n",
        "(u'Fabrice Olinga', <Team: Cameroon>, datetime.date(1996, 5, 12), 18.06160164271047)\n"
       ]
      }
     ],
     "prompt_number": 4
    },
    {
     "cell_type": "markdown",
     "metadata": {},
     "source": [
      "El veterano arquero colombiano Faryd Mondrag\u00f3n, con casi 43 pirulos, es el jugador m\u00e1s viejo del mundial. Por su parte, Olinga, delantero de Camer\u00fan, es el m\u00e1s j\u00f3ven con 18 a\u00f1os reci\u00e9n cumplidos. \n",
      "\n",
      "Tambi\u00e9n podemos hacer un grafico de las edades de las selecciones. La edad promedio, y la desviaci\u00f3n entre el m\u00e1s pibe y el m\u00e1s jovato de cada equipo"
     ]
    },
    {
     "cell_type": "code",
     "collapsed": false,
     "input": [
      "%matplotlib inline\n",
      "\n",
      "import numpy as np\n",
      "import matplotlib.pyplot as plt\n",
      "plt.xkcd()\n",
      "\n",
      "def team_age(team):\n",
      "    players = team.player_set.filter(date_of_birth__isnull=False)\n",
      "    media = sum(map(age, players)) / players.count()\n",
      "    younger = age(players.order_by('-date_of_birth')[0])\n",
      "    older = age(players.order_by('date_of_birth')[0])\n",
      "    return np.array([media, younger, older])\n",
      "\n",
      "\n",
      "teams = map(unicode, Team.objects.all())\n",
      "y_pos = np.arange(len(teams)) \n",
      "data = np.vstack(map(team_age, Team.objects.all())).T\n",
      "plt.figure(figsize=(5,10))\n",
      "plt.xlim([16, 45])\n",
      "plt.barh(y_pos, data[0], xerr=[data[0] - data[1], data[2] - data[0]], align='center', alpha=0.3)\n",
      "plt.yticks(y_pos, teams)\n",
      "plt.show()"
     ],
     "language": "python",
     "metadata": {},
     "outputs": [
      {
       "metadata": {},
       "output_type": "display_data",
       "png": "[encoded data removed]",
       "text": [
        "<matplotlib.figure.Figure at 0x28f2a10>"
       ]
      }
     ],
     "prompt_number": 5
    },
    {
     "cell_type": "markdown",
     "metadata": {},
     "source": [
      "Otra para la prensa cholula: **\u00bfQu\u00e9 judadores cumplen a\u00f1os durante el mundial?**"
     ]
    },
    {
     "cell_type": "code",
     "collapsed": false,
     "input": [
      "from django.db.models import Q\n",
      "\n",
      "mundial = Q()\n",
      "for i in xrange(12,31):\n",
      "    mundial = mundial | Q(date_of_birth__day=i, date_of_birth__month=6)\n",
      "for i in xrange(1,14):\n",
      "    mundial = mundial | Q(date_of_birth__day=i, date_of_birth__month=7)\n",
      "    \n",
      "for p in Player.objects.filter(mundial):\n",
      "    print \"%s de %s cumple el %d/%d\" % (p, p.team, p.date_of_birth.day, p.date_of_birth.month)"
     ],
     "language": "python",
     "metadata": {},
     "outputs": [
      {
       "output_type": "stream",
       "stream": "stdout",
       "text": [
        "Aur\u00e9lien Chedjou de Cameroon cumple el 20/6\n",
        "Jean-Armel Kana-Biyik de Cameroon cumple el 3/7\n",
        "Dejan Lovren de Croatia cumple el 5/7\n",
        "Guillermo Ochoa de Mexico cumple el 13/7\n",
        "Miguel Lay\u00fan de Mexico cumple el 25/6\n",
        "Eugene Galekovi\u0107 de Australia cumple el 12/6\n",
        "Matthew \u0160piranovi\u0107 de Australia cumple el 27/6\n",
        "Jason Davidson de Australia cumple el 29/6\n",
        "James Troisi de Australia cumple el 3/7\n",
        "Ben Halloran de Australia cumple el 14/6\n",
        "Cristopher Toselli de Chile cumple el 15/6\n",
        "Mauricio Isla de Chile cumple el 12/6\n",
        "Jos\u00e9 Rojas de Chile cumple el 23/6\n",
        "Jordy Clasie de Netherlands cumple el 27/6\n",
        "Alberto Moreno de Spain cumple el 5/7\n",
        "Faryd Mondrag\u00f3n de Colombia cumple el 21/6\n",
        "Fredy Guar\u00edn de Colombia cumple el 30/6\n",
        "James Rodr\u00edguez de Colombia cumple el 12/7\n",
        "Sayouba Mand\u00e9 de C\u00f4te d'Ivoire cumple el 15/6\n",
        "Cheick Tiot\u00e9 de C\u00f4te d'Ivoire cumple el 21/6\n",
        "Orestis Karnezis de Greece cumple el 11/7\n",
        "Jos\u00e9 Holebas de Greece cumple el 27/6\n",
        "Kostas Manolas de Greece cumple el 14/6\n",
        "Kostas Katsouranis de Greece cumple el 21/6\n",
        "Andreas Samaris de Greece cumple el 13/6\n",
        "Shusaku Nishikawa de Japan cumple el 18/6\n",
        "Keisuke Honda de Japan cumple el 13/6\n",
        "Heiner Mora de Costa Rica cumple el 20/6\n",
        "Joel Campbell de Costa Rica cumple el 26/6\n",
        "Frank Lampard de England cumple el 20/6\n",
        "Jordan Henderson de England cumple el 17/6\n",
        "Luke Shaw de England cumple el 12/7\n",
        "Alberto Aquilani de Italy cumple el 7/7\n",
        "Antonio Cassano de Italy cumple el 12/7\n",
        "Fernando Muslera de Uruguay cumple el 16/6\n",
        "Juan Carlos Paredes de Ecuador cumple el 8/7\n",
        "Jo\u00e3o Rojas de Ecuador cumple el 14/6\n",
        "G\u00f6khan Inler ( captain ) de Switzerland cumple el 27/6\n",
        "Hugo Campagnaro de Argentina cumple el 27/6\n",
        "\u00c9ver Banega de Argentina cumple el 29/6\n",
        "Jos\u00e9 Ernesto Sosa de Argentina cumple el 19/6\n",
        "Lionel Messi ( Captain ) de Argentina cumple el 24/6\n",
        "Asmir Begovi\u0107 de Bosnia and Herzegovina cumple el 20/6\n",
        "Sead Kola\u0161inac de Bosnia and Herzegovina cumple el 20/6\n",
        "Sr\u0111an Stani\u0107 de Bosnia and Herzegovina cumple el 6/7\n",
        "Ghasem Haddadifar de Iran cumple el 12/7\n",
        "Ashkan Dejagah de Iran cumple el 5/7\n",
        "Harrison Afful de Ghana cumple el 24/6\n",
        "Jonathan Mensah de Ghana cumple el 13/7\n",
        "Nick Rimando de United States cumple el 17/6\n",
        "Geoff Cameron de United States cumple el 11/7\n",
        "DeAndre Yedlin de United States cumple el 9/7\n",
        "Islam Slimani de Algeria cumple el 18/6\n",
        "Koen Casteels de Belgium cumple el 25/6\n",
        "Kevin De Bruyne de Belgium cumple el 28/6\n",
        "Vasili Berezutski de Russia cumple el 20/6\n",
        "Roman Shirokov de Russia cumple el 6/7\n",
        "Alan Dzagoev de Russia cumple el 17/6\n",
        "Kwak Tae-Hwi de South Korea cumple el 8/7"
       ]
      },
      {
       "output_type": "stream",
       "stream": "stdout",
       "text": [
        "\n",
        "Hwang Seok-Ho de South Korea cumple el 27/6\n",
        "Son Heung-Min de South Korea cumple el 8/7\n",
        "Park Chu-Young de South Korea cumple el 10/7\n",
        "Lee Chung-Yong de South Korea cumple el 2/7\n",
        "Kim Jin-Su de South Korea cumple el 13/6\n"
       ]
      }
     ],
     "prompt_number": 13
    },
    {
     "cell_type": "markdown",
     "metadata": {},
     "source": [
      "### Lungos y petisos"
     ]
    },
    {
     "cell_type": "code",
     "collapsed": false,
     "input": [
      "alto = Player.objects.filter(height__isnull=False).order_by('-height')[0]\n",
      "petiso = Player.objects.filter(height__isnull=False).order_by('height')[0]\n",
      "print \"%s de %s es el jugador m\u00e1s alto con %.2f m\" % (alto, alto.team, alto.height)\n",
      "print \"%s de %s es el jugador m\u00e1s  con %.2f m\" % (petiso, petiso.team, petiso.height)"
     ],
     "language": "python",
     "metadata": {},
     "outputs": [
      {
       "output_type": "stream",
       "stream": "stdout",
       "text": [
        "Lacina Traor\u00e9 de C\u00f4te d'Ivoire es el jugador m\u00e1s alto con 2.03 m\n",
        "Edgar Salli de Cameroon es el jugador m\u00e1s  con 1.63 m\n"
       ]
      }
     ],
     "prompt_number": 22
    },
    {
     "cell_type": "code",
     "collapsed": false,
     "input": [
      "def team_height(team):\n",
      "    players = team.player_set.filter(height__isnull=False)\n",
      "    media = sum([p.height for p in players]) / players.count()\n",
      "    petiso = players.order_by('height')[0].height\n",
      "    alto = players.order_by('-height')[0].height\n",
      "    return np.array([media, petiso, alto])\n",
      "\n",
      "data = np.vstack(map(team_height, Team.objects.all())).T\n",
      "plt.figure(figsize=(5,10))\n",
      "plt.barh(y_pos, data[0], xerr=[data[0] - data[1], data[2] - data[0]], align='center', alpha=0.3)\n",
      "plt.xlim([1.55, 2.1])\n",
      "plt.title(u'Altura promedio, maximo y minimo de las selecciones')\n",
      "plt.yticks(y_pos, teams)\n",
      "plt.show()"
     ],
     "language": "python",
     "metadata": {},
     "outputs": [
      {
       "metadata": {},
       "output_type": "display_data",
       "png": "[encoded data removed]",
       "text": [
        "<matplotlib.figure.Figure at 0x374ffd0>"
       ]
      }
     ],
     "prompt_number": 30
    },
    {
     "cell_type": "markdown",
     "metadata": {},
     "source": [
      "## Los clubes \n",
      "\n",
      "### En qu\u00e9 paises juegan la mayoria de los equipos del mundial?"
     ]
    },
    {
     "cell_type": "code",
     "collapsed": false,
     "input": [
      "Club.objects.count()"
     ],
     "language": "python",
     "metadata": {},
     "outputs": [
      {
       "metadata": {},
       "output_type": "pyout",
       "prompt_number": 44,
       "text": [
        "31"
       ]
      }
     ],
     "prompt_number": 44
    },
    {
     "cell_type": "code",
     "collapsed": false,
     "input": [
      "Club.objects.annotate(jugadores=Count('player')).values('name', 'jugadores').order_by('-jugadores')[0:15]"
     ],
     "language": "python",
     "metadata": {},
     "outputs": [
      {
       "metadata": {},
       "output_type": "pyout",
       "prompt_number": 48,
       "text": [
        "[{'jugadores': 49, 'name': u'Arsenal'}, {'jugadores': 30, 'name': u'Dynamo Moscow'}, {'jugadores': 30, 'name': u'Aston Villa'}, {'jugadores': 30, 'name': u'Saprissa'}, {'jugadores': 30, 'name': u'Juventus'}, {'jugadores': 30, 'name': u'Emelec'}, {'jugadores': 30, 'name': u'Bayer Leverkusen'}, {'jugadores': 30, 'name': u'Naft Tehran'}, {'jugadores': 30, 'name': u'Norwich City'}, {'jugadores': 30, 'name': u'Lekhwiya'}, {'jugadores': 29, 'name': u'Barcelona'}, {'jugadores': 28, 'name': u'Marseille'}, {'jugadores': 28, 'name': u'Lokomotiv Moscow'}, {'jugadores': 28, 'name': u'Trabzonspor'}, {'jugadores': 27, 'name': u'Cruz Azul'}]"
       ]
      }
     ],
     "prompt_number": 48
    },
    {
     "cell_type": "code",
     "collapsed": false,
     "input": [
      "for p in Player.objects.filter(current_club__name='Arsenal'):\n",
      "    print p, p.current_club, p.team"
     ],
     "language": "python",
     "metadata": {},
     "outputs": [
      {
       "output_type": "stream",
       "stream": "stdout",
       "text": [
        "Hugo Lloris (C) Arsenal France\n",
        "Micka\u00ebl Landreau Arsenal France\n",
        "St\u00e9phane Ruffier [ 35 ] Arsenal France\n",
        "Patrice Evra Arsenal France\n",
        "Bacary Sagna Arsenal France\n",
        "Mathieu Debuchy Arsenal France\n",
        "Mamadou Sakho Arsenal France\n",
        "Laurent Koscielny Arsenal France\n",
        "Rapha\u00ebl Varane Arsenal France\n",
        "Eliaquim Mangala Arsenal France\n",
        "Lucas Digne Arsenal France\n",
        "Franck Rib\u00e9ry Arsenal France\n",
        "Mathieu Valbuena Arsenal France\n",
        "Yohan Cabaye Arsenal France\n",
        "Blaise Matuidi Arsenal France\n",
        "Moussa Sissoko Arsenal France\n",
        "Rio Mavuba Arsenal France\n",
        "Paul Pogba Arsenal France\n",
        "Cl\u00e9ment Grenier Arsenal France\n",
        "Antoine Griezmann Arsenal France\n",
        "Karim Benzema Arsenal France\n",
        "Olivier Giroud Arsenal France\n",
        "Lo\u00efc R\u00e9my Arsenal France\n",
        "Manuel Neuer Arsenal Germany\n",
        "Ron-Robert Zieler Arsenal Germany\n",
        "Roman Weidenfeller Arsenal Germany\n",
        "Philipp Lahm Arsenal Germany\n",
        "Per Mertesacker Arsenal Germany\n",
        "J\u00e9r\u00f4me Boateng Arsenal Germany\n",
        "Mats Hummels Arsenal Germany\n",
        "Benedikt H\u00f6wedes Arsenal Germany\n",
        "Marcel Schmelzer Arsenal Germany\n",
        "Kevin Gro\u00dfkreutz Arsenal Germany\n",
        "Matthias Ginter Arsenal Germany\n",
        "Shkodran Mustafi Arsenal Germany\n",
        "Erik Durm Arsenal Germany\n",
        "Bastian Schweinsteiger Arsenal Germany"
       ]
      },
      {
       "output_type": "stream",
       "stream": "stdout",
       "text": [
        "\n",
        "Mesut \u00d6zil Arsenal Germany\n",
        "Sami Khedira Arsenal Germany\n",
        "Toni Kroos Arsenal Germany\n",
        "Mario G\u00f6tze Arsenal Germany\n",
        "Julian Draxler Arsenal Germany\n",
        "Christoph Kramer Arsenal Germany\n",
        "Miroslav Klose Arsenal Germany\n",
        "Lukas Podolski Arsenal Germany\n",
        "Andr\u00e9 Sch\u00fcrrle Arsenal Germany\n",
        "Marco Reus Arsenal Germany\n",
        "Thomas M\u00fcller Arsenal Germany\n",
        "Kevin Volland Arsenal Germany\n"
       ]
      }
     ],
     "prompt_number": 51
    },
    {
     "cell_type": "markdown",
     "metadata": {},
     "source": [
      "### Jugadores expatriados"
     ]
    },
    {
     "cell_type": "code",
     "collapsed": false,
     "input": [
      "for p in Player.objects.filter(place_of_birth__isnull=False):\n",
      "    if p.team.country != p.place_of_birth.country:\n",
      "        print \"%s juega para %s y naci\u00f3 en %s\" % (p, p.team, p.place_of_birth.country)"
     ],
     "language": "python",
     "metadata": {},
     "outputs": [
      {
       "output_type": "stream",
       "stream": "stdout",
       "text": [
        "Gabriel Paletta juega para Italy y naci\u00f3 en Argentina\n"
       ]
      }
     ],
     "prompt_number": 62
    },
    {
     "cell_type": "markdown",
     "metadata": {},
     "source": [
      "### Cuesti\u00f3n de experiencia"
     ]
    },
    {
     "cell_type": "code",
     "collapsed": false,
     "input": [
      "def team_apps(team):\n",
      "    players = team.player_set.filter(national_team_apps__isnull=False)\n",
      "    media = sum([p.national_team_apps for p in players]) / players.count()\n",
      "    nuevito = players.order_by('national_team_apps')[0].national_team_apps\n",
      "    experimentado = players.order_by('-national_team_apps')[0].national_team_apps\n",
      "    return np.array([media, nuevito, experimentado])\n",
      "\n",
      "data = np.vstack(map(team_apps, Team.objects.all())).T\n",
      "plt.figure(figsize=(5,10))\n",
      "plt.barh(y_pos, data[0], xerr=[data[0] - data[1], data[2] - data[0]], align='center', alpha=0.3)\n",
      "plt.title(u'Partidos jugados con la seleccion')\n",
      "plt.yticks(y_pos, teams)\n",
      "plt.show()"
     ],
     "language": "python",
     "metadata": {},
     "outputs": [
      {
       "metadata": {},
       "output_type": "display_data",
       "png": "[encoded data removed]",
       "text": [
        "<matplotlib.figure.Figure at 0x3770050>"
       ]
      }
     ],
     "prompt_number": 68
    },
    {
     "cell_type": "markdown",
     "metadata": {},
     "source": [
      "### La temible delantera"
     ]
    },
    {
     "cell_type": "code",
     "collapsed": true,
     "input": [
      "def team_ataque(team):\n",
      "    players = team.player_set.filter(position='FW', national_team_goals__isnull=False)\n",
      "    media = sum([p.national_team_goals for p in players]) / players.count()\n",
      "    funes_mori = players.order_by('national_team_goals')[0]\n",
      "    messi = players.order_by('-national_team_goals')[0]\n",
      "    return (np.array([media, funes_mori.national_team_goals, messi.national_team_goals]), funes_mori, messi)\n",
      "\n",
      "rows = []\n",
      "for team in Team.objects.all():\n",
      "    t, funes_mori, messi = team_ataque(team)\n",
      "    rows.append(t)\n",
      "    print \"%s. M\u00e1ximo goleador: %s (%d). M\u00e1s perro: %s (%d)\" % (team, messi, messi.national_team_goals, funes_mori, \n",
      "                                                                funes_mori.national_team_goals) \n",
      "    \n",
      "data = np.vstack(rows).T\n",
      "plt.figure(figsize=(5,10))\n",
      "plt.barh(y_pos, data[0], xerr=[data[0] - data[1], data[2] - data[0]], align='center', alpha=0.3)\n",
      "plt.title(u'Goles de delanteros en la selecci\u00f3n')\n",
      "plt.yticks(y_pos, teams)\n",
      "plt.show()"
     ],
     "language": "python",
     "metadata": {},
     "outputs": [
      {
       "output_type": "stream",
       "stream": "stdout",
       "text": [
        "Brazil. M\u00e1ximo goleador: Neymar (30). M\u00e1s perro: J\u00f4 (5)\n",
        "Cameroon. M\u00e1ximo goleador: Samuel Eto'o (55). M\u00e1s perro: Fabrice Olinga (1)\n",
        "Croatia. M\u00e1ximo goleador: Eduardo (29). M\u00e1s perro: Ante Rebi\u0107 (1)\n",
        "Mexico. M\u00e1ximo goleador: Javier Hern\u00e1ndez (35). M\u00e1s perro: Ra\u00fal Jim\u00e9nez (4)\n",
        "Australia. M\u00e1ximo goleador: Tim Cahill (31). M\u00e1s perro: Mathew Leckie (1)\n",
        "Chile. M\u00e1ximo goleador: Alexis S\u00e1nchez (22). M\u00e1s perro: Fabi\u00e1n Orellana (2)\n",
        "Netherlands. M\u00e1ximo goleador: Robin van Persie (42). M\u00e1s perro: Jeremain Lens (7)\n",
        "Spain. M\u00e1ximo goleador: Fernando Torres (36). M\u00e1s perro: Diego Costa (0)\n",
        "Colombia. M\u00e1ximo goleador: Radamel Falcao (20). M\u00e1s perro: V\u00edctor Ibarbo (1)\n",
        "C\u00f4te d'Ivoire. M\u00e1ximo goleador: Didier Drogba (63). M\u00e1s perro: Giovanni Sio (0)\n",
        "Greece. M\u00e1ximo goleador: Theofanis Gekas (24). M\u00e1s perro: Giorgos Samaras (8)\n",
        "Japan. M\u00e1ximo goleador: Shinji Okazaki (38). M\u00e1s perro: Manabu Sait\u014d (1)\n",
        "Costa Rica. M\u00e1ximo goleador: \u00c1lvaro Sabor\u00edo (32). M\u00e1s perro: Jairo Arrieta (4)\n",
        "England. M\u00e1ximo goleador: Wayne Rooney (38). M\u00e1s perro: Daniel Sturridge (2)"
       ]
      },
      {
       "output_type": "stream",
       "stream": "stdout",
       "text": [
        "\n",
        "Italy. M\u00e1ximo goleador: Mario Balotelli (12). M\u00e1s perro: Alessio Cerci (0)\n",
        "Uruguay. M\u00e1ximo goleador: Luis Su\u00e1rez (38). M\u00e1s perro: Christian Stuani (2)\n",
        "Ecuador. M\u00e1ximo goleador: Felipe Caicedo (15). M\u00e1s perro: Armando Wila (0)\n",
        "France. M\u00e1ximo goleador: Karim Benzema (19). M\u00e1s perro: Lo\u00efc R\u00e9my (4)\n",
        "Honduras. M\u00e1ximo goleador: Carlo Costly (30). M\u00e1s perro: Rony Mart\u00ednez (1)\n",
        "Switzerland. M\u00e1ximo goleador: Mario Gavranovi\u0107 (4). M\u00e1s perro: Haris Seferovi\u0107 (1)\n",
        "Argentina. M\u00e1ximo goleador: Lionel Messi ( Captain ) (37). M\u00e1s perro: Rodrigo Palacio (2)\n",
        "Bosnia and Herzegovina. M\u00e1ximo goleador: Edin D\u017eeko (33). M\u00e1s perro: Edin Vi\u0161\u0107a (0)\n",
        "Iran. M\u00e1ximo goleador: Reza Ghoochannejhad (9). M\u00e1s perro: Reza Norouzi (0)\n",
        "Nigeria. M\u00e1ximo goleador: Victor Obinna (12). M\u00e1s perro: Michel Babatunde (0)\n",
        "Germany. M\u00e1ximo goleador: Miroslav Klose (68). M\u00e1s perro: Kevin Volland (0)\n",
        "Ghana. M\u00e1ximo goleador: Asamoah Gyan (39). M\u00e1s perro: Jordan Ayew (2)\n",
        "Portugal. M\u00e1ximo goleador: Cristiano Ronaldo ( captain ) (49). M\u00e1s perro: \u00c9der (0)"
       ]
      },
      {
       "output_type": "stream",
       "stream": "stdout",
       "text": [
        "\n",
        "United States. M\u00e1ximo goleador: Clint Dempsey (36). M\u00e1s perro: Aron J\u00f3hannsson (2)\n",
        "Algeria. M\u00e1ximo goleador: El Arbi Hillel Soudani (10). M\u00e1s perro: Islam Slimani (1)\n",
        "Belgium. M\u00e1ximo goleador: Romelu Lukaku (8). M\u00e1s perro: Divock Origi (0)\n",
        "Russia. M\u00e1ximo goleador: Aleksandr Kerzhakov (25). M\u00e1s perro: Maksim Kanunnikov (0)\n",
        "South Korea. M\u00e1ximo goleador: Park Chu-Young (24). M\u00e1s perro: Kim Shin-Wook (3)\n",
        "\n"
       ]
      },
      {
       "metadata": {},
       "output_type": "display_data",
       "png": "[encoded data removed]",
       "text": [
        "<matplotlib.figure.Figure at 0x3e1fb10>"
       ]
      }
     ],
     "prompt_number": 74
    },
    {
     "cell_type": "code",
     "collapsed": false,
     "input": [],
     "language": "python",
     "metadata": {},
     "outputs": []
    }
   ],
   "metadata": {}
  }
 ]
}