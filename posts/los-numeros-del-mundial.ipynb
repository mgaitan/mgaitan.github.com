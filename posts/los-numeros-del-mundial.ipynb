{
 "metadata": {
  "celltoolbar": "Raw Cell Format",
  "name": "",
  "signature": "sha256:a57e1fa4098804216cf6b51f544a69298bfb3e8bad56b6e5bba833a2fa7fcb00"
 },
 "nbformat": 3,
 "nbformat_minor": 0,
 "worksheets": [
  {
   "cells": [
    {
     "cell_type": "code",
     "collapsed": false,
     "input": [
      "!rm db.sqlite"
     ],
     "language": "python",
     "metadata": {},
     "outputs": [],
     "prompt_number": 1
    },
    {
     "cell_type": "code",
     "collapsed": false,
     "input": [
      "%load_ext django_orm_magic"
     ],
     "language": "python",
     "metadata": {},
     "outputs": [],
     "prompt_number": 1
    },
    {
     "cell_type": "code",
     "collapsed": false,
     "input": [
      "%%django_orm\n",
      "\n",
      "from django.db import models\n",
      "\n",
      "class Country(models.Model):\n",
      "    name = models.CharField(max_length=\"100\")\n",
      "    \n",
      "    def __unicode__(self):\n",
      "        return self.name\n",
      "    \n",
      "class City(models.Model):\n",
      "    country = models.ForeignKey('Country')\n",
      "    name = models.CharField(max_length=\"100\")\n",
      "\n",
      "    def __unicode__(self):\n",
      "        return \"{0}, {1}\".format(self.name, self.country) \n",
      "    \n",
      "class Team(models.Model):\n",
      "    country = models.ForeignKey('Country')\n",
      "    group = models.CharField(max_length=\"100\")\n",
      "    \n",
      "    def __unicode__(self):\n",
      "        return unicode(self.country)\n",
      "\n",
      "class Club(models.Model):\n",
      "    name = models.CharField(max_length=\"100\")\n",
      "    country = models.ForeignKey('Country')\n",
      "\n",
      "    def __unicode__(self):\n",
      "        return self.name\n",
      "    \n",
      "class Player(models.Model):\n",
      "\n",
      "    full_name = models.CharField(max_length=100)\n",
      "    date_of_birth = models.DateField(null=True, blank=True)    \n",
      "    team = models.ForeignKey('Team')\n",
      "    url = models.URLField(max_length=200, null=True, blank=True)\n",
      "    \n",
      "    place_of_birth = models.ForeignKey('City', null=True, blank=True)\n",
      "    height = models.FloatField(null=True, blank=True)\n",
      "    position = models.CharField(max_length=2)\n",
      "    current_club = models.ForeignKey('Club')\n",
      "    last_season_apps = models.IntegerField(null=True, blank=True)\n",
      "    last_season_goals = models.IntegerField(null=True, blank=True)\n",
      "    national_team_apps = models.IntegerField(null=True, blank=True)\n",
      "    national_team_goals = models.IntegerField(null=True, blank=True)\n",
      "    \n",
      "    \n",
      "    def __unicode__(self):\n",
      "        return self.full_name\n",
      "    \n"
     ],
     "language": "python",
     "metadata": {},
     "outputs": [],
     "prompt_number": 2
    },
    {
     "cell_type": "code",
     "collapsed": false,
     "input": [
      "from pyquery import PyQuery"
     ],
     "language": "python",
     "metadata": {},
     "outputs": [],
     "prompt_number": 4
    },
    {
     "cell_type": "code",
     "collapsed": false,
     "input": [
      "from IPython.display import HTML, Image"
     ],
     "language": "python",
     "metadata": {},
     "outputs": [],
     "prompt_number": 5
    },
    {
     "cell_type": "code",
     "collapsed": false,
     "input": [
      "pq = PyQuery('http://en.wikipedia.org/wiki/2014_FIFA_World_Cup_squads')\n",
      "pq.make_links_absolute()"
     ],
     "language": "python",
     "metadata": {},
     "outputs": [
      {
       "metadata": {},
       "output_type": "pyout",
       "prompt_number": 5,
       "text": [
        "[<html.client-nojs>]"
       ]
      }
     ],
     "prompt_number": 5
    },
    {
     "cell_type": "code",
     "collapsed": false,
     "input": [
      "brazil = pq('table:first').html()\n",
      "HTML(brazil)"
     ],
     "language": "python",
     "metadata": {},
     "outputs": [
      {
       "html": [
        "<tr><td bgcolor=\"#FFFFFF\" valign=\"top\" width=\"90%\">\n",
        "<table class=\"sortable\" border=\"0\" cellspacing=\"2\" cellpadding=\"2\" width=\"100%\"><tr bgcolor=\"#AAD0FF\"><th width=\"6%\">No.</th>\n",
        "<th width=\"6%\">Pos.</th>\n",
        "<th width=\"30%\">Player</th>\n",
        "<th width=\"22%\">DoB/Age</th>\n",
        "<th width=\"6%\">Caps</th>\n",
        "<th width=\"30%\">Club</th>\n",
        "</tr><tr><td style=\"text-align: right;\">\u2013</td>\n",
        "<td style=\"text-align: center;\"><span style=\"display:none\">1</span><a href=\"http://en.wikipedia.org/wiki/Goalkeeper_(association_football)\" title=\"Goalkeeper (association football)\">GK</a></td>\n",
        "<td><a href=\"http://en.wikipedia.org/wiki/J%C3%BAlio_C%C3%A9sar_Soares_Esp%C3%ADndola\" title=\"J\u00falio C\u00e9sar Soares Esp\u00edndola\">J\u00falio C\u00e9sar</a></td>\n",
        "<td><span style=\"display:none\">(<span class=\"bday\">1979-09-03</span>)</span>3 September 1979 (aged 34)</td>\n",
        "<td style=\"text-align: center;\">78</td>\n",
        "<td><span class=\"flagicon\"><a href=\"http://en.wikipedia.org/wiki/Canada\" title=\"Canada\"><img alt=\"Canada\" src=\"//upload.wikimedia.org/wikipedia/en/thumb/c/cf/Flag_of_Canada.svg/23px-Flag_of_Canada.svg.png\" width=\"23\" height=\"12\" class=\"thumbborder\" srcset=\"//upload.wikimedia.org/wikipedia/en/thumb/c/cf/Flag_of_Canada.svg/35px-Flag_of_Canada.svg.png 1.5x, //upload.wikimedia.org/wikipedia/en/thumb/c/cf/Flag_of_Canada.svg/46px-Flag_of_Canada.svg.png 2x\" data-file-width=\"1000\" data-file-height=\"500\"/></a></span> <a href=\"http://en.wikipedia.org/wiki/Toronto_FC\" title=\"Toronto FC\">Toronto FC</a></td>\n",
        "</tr><tr><td style=\"text-align: right;\">\u2013</td>\n",
        "<td style=\"text-align: center;\"><span style=\"display:none\">1</span><a href=\"http://en.wikipedia.org/wiki/Goalkeeper_(association_football)\" title=\"Goalkeeper (association football)\">GK</a></td>\n",
        "<td><a href=\"http://en.wikipedia.org/wiki/Jefferson_de_Oliveira_Galv%C3%A3o\" title=\"Jefferson de Oliveira Galv\u00e3o\">Jefferson</a></td>\n",
        "<td><span style=\"display:none\">(<span class=\"bday\">1983-01-02</span>)</span>2 January 1983 (aged 31)</td>\n",
        "<td style=\"text-align: center;\">9</td>\n",
        "<td><span class=\"flagicon\"><a href=\"http://en.wikipedia.org/wiki/Brazil\" title=\"Brazil\"><img alt=\"Brazil\" src=\"//upload.wikimedia.org/wikipedia/en/thumb/0/05/Flag_of_Brazil.svg/22px-Flag_of_Brazil.svg.png\" width=\"22\" height=\"15\" class=\"thumbborder\" srcset=\"//upload.wikimedia.org/wikipedia/en/thumb/0/05/Flag_of_Brazil.svg/33px-Flag_of_Brazil.svg.png 1.5x, //upload.wikimedia.org/wikipedia/en/thumb/0/05/Flag_of_Brazil.svg/43px-Flag_of_Brazil.svg.png 2x\" data-file-width=\"720\" data-file-height=\"504\"/></a></span> <a href=\"http://en.wikipedia.org/wiki/Botafogo_de_Futebol_e_Regatas\" title=\"Botafogo de Futebol e Regatas\">Botafogo</a></td>\n",
        "</tr><tr><td style=\"text-align: right;\">\u2013</td>\n",
        "<td style=\"text-align: center;\"><span style=\"display:none\">1</span><a href=\"http://en.wikipedia.org/wiki/Goalkeeper_(association_football)\" title=\"Goalkeeper (association football)\">GK</a></td>\n",
        "<td><a href=\"http://en.wikipedia.org/wiki/Victor_Leandro_Bagy\" title=\"Victor Leandro Bagy\">Victor</a></td>\n",
        "<td><span style=\"display:none\">(<span class=\"bday\">1983-01-21</span>)</span>21 January 1983 (aged 31)</td>\n",
        "<td style=\"text-align: center;\">6</td>\n",
        "<td><span class=\"flagicon\"><a href=\"http://en.wikipedia.org/wiki/Brazil\" title=\"Brazil\"><img alt=\"Brazil\" src=\"//upload.wikimedia.org/wikipedia/en/thumb/0/05/Flag_of_Brazil.svg/22px-Flag_of_Brazil.svg.png\" width=\"22\" height=\"15\" class=\"thumbborder\" srcset=\"//upload.wikimedia.org/wikipedia/en/thumb/0/05/Flag_of_Brazil.svg/33px-Flag_of_Brazil.svg.png 1.5x, //upload.wikimedia.org/wikipedia/en/thumb/0/05/Flag_of_Brazil.svg/43px-Flag_of_Brazil.svg.png 2x\" data-file-width=\"720\" data-file-height=\"504\"/></a></span> <a href=\"http://en.wikipedia.org/wiki/Clube_Atl%C3%A9tico_Mineiro\" title=\"Clube Atl\u00e9tico Mineiro\">Atl\u00e9tico Mineiro</a></td>\n",
        "</tr><tr><td style=\"text-align: right;\">\u2013</td>\n",
        "<td style=\"text-align: center;\"><span style=\"display:none\">2</span><a href=\"http://en.wikipedia.org/wiki/Defender_(association_football)\" title=\"Defender (association football)\">DF</a></td>\n",
        "<td><a href=\"http://en.wikipedia.org/wiki/Daniel_Alves\" title=\"Daniel Alves\" class=\"mw-redirect\">Daniel Alves</a></td>\n",
        "<td><span style=\"display:none\">(<span class=\"bday\">1983-05-06</span>)</span>6 May 1983 (aged 31)</td>\n",
        "<td style=\"text-align: center;\">73</td>\n",
        "<td><span class=\"flagicon\"><a href=\"http://en.wikipedia.org/wiki/Spain\" title=\"Spain\"><img alt=\"Spain\" src=\"//upload.wikimedia.org/wikipedia/en/thumb/9/9a/Flag_of_Spain.svg/23px-Flag_of_Spain.svg.png\" width=\"23\" height=\"15\" class=\"thumbborder\" srcset=\"//upload.wikimedia.org/wikipedia/en/thumb/9/9a/Flag_of_Spain.svg/35px-Flag_of_Spain.svg.png 1.5x, //upload.wikimedia.org/wikipedia/en/thumb/9/9a/Flag_of_Spain.svg/45px-Flag_of_Spain.svg.png 2x\" data-file-width=\"750\" data-file-height=\"500\"/></a></span> <a href=\"http://en.wikipedia.org/wiki/FC_Barcelona\" title=\"FC Barcelona\">Barcelona</a></td>\n",
        "</tr><tr><td style=\"text-align: right;\">\u2013</td>\n",
        "<td style=\"text-align: center;\"><span style=\"display:none\">2</span><a href=\"http://en.wikipedia.org/wiki/Defender_(association_football)\" title=\"Defender (association football)\">DF</a></td>\n",
        "<td><a href=\"http://en.wikipedia.org/wiki/Maicon_Sisenando\" title=\"Maicon Sisenando\">Maicon</a></td>\n",
        "<td><span style=\"display:none\">(<span class=\"bday\">1981-07-26</span>)</span>26 July 1981 (aged 32)</td>\n",
        "<td style=\"text-align: center;\">70</td>\n",
        "<td><span class=\"flagicon\"><a href=\"http://en.wikipedia.org/wiki/Italy\" title=\"Italy\"><img alt=\"Italy\" src=\"//upload.wikimedia.org/wikipedia/en/thumb/0/03/Flag_of_Italy.svg/23px-Flag_of_Italy.svg.png\" width=\"23\" height=\"15\" class=\"thumbborder\" srcset=\"//upload.wikimedia.org/wikipedia/en/thumb/0/03/Flag_of_Italy.svg/35px-Flag_of_Italy.svg.png 1.5x, //upload.wikimedia.org/wikipedia/en/thumb/0/03/Flag_of_Italy.svg/45px-Flag_of_Italy.svg.png 2x\" data-file-width=\"1500\" data-file-height=\"1000\"/></a></span> <a href=\"http://en.wikipedia.org/wiki/A.S._Roma\" title=\"A.S. Roma\">Roma</a></td>\n",
        "</tr><tr><td style=\"text-align: right;\">\u2013</td>\n",
        "<td style=\"text-align: center;\"><span style=\"display:none\">2</span><a href=\"http://en.wikipedia.org/wiki/Defender_(association_football)\" title=\"Defender (association football)\">DF</a></td>\n",
        "<td><a href=\"http://en.wikipedia.org/wiki/Thiago_Silva\" title=\"Thiago Silva\">Thiago Silva</a> <i>(<a href=\"http://en.wikipedia.org/wiki/Captain_(association_football)\" title=\"Captain (association football)\">captain</a>)</i></td>\n",
        "<td><span style=\"display:none\">(<span class=\"bday\">1984-09-22</span>)</span>22 September 1984 (aged 29)</td>\n",
        "<td style=\"text-align: center;\">45</td>\n",
        "<td><span class=\"flagicon\"><a href=\"http://en.wikipedia.org/wiki/France\" title=\"France\"><img alt=\"France\" src=\"//upload.wikimedia.org/wikipedia/en/thumb/c/c3/Flag_of_France.svg/23px-Flag_of_France.svg.png\" width=\"23\" height=\"15\" class=\"thumbborder\" srcset=\"//upload.wikimedia.org/wikipedia/en/thumb/c/c3/Flag_of_France.svg/35px-Flag_of_France.svg.png 1.5x, //upload.wikimedia.org/wikipedia/en/thumb/c/c3/Flag_of_France.svg/45px-Flag_of_France.svg.png 2x\" data-file-width=\"900\" data-file-height=\"600\"/></a></span> <a href=\"http://en.wikipedia.org/wiki/Paris_Saint-Germain_F.C.\" title=\"Paris Saint-Germain F.C.\">Paris Saint-Germain</a></td>\n",
        "</tr><tr><td style=\"text-align: right;\">\u2013</td>\n",
        "<td style=\"text-align: center;\"><span style=\"display:none\">2</span><a href=\"http://en.wikipedia.org/wiki/Defender_(association_football)\" title=\"Defender (association football)\">DF</a></td>\n",
        "<td><a href=\"http://en.wikipedia.org/wiki/David_Luiz\" title=\"David Luiz\">David Luiz</a></td>\n",
        "<td><span style=\"display:none\">(<span class=\"bday\">1987-04-22</span>)</span>22 April 1987 (aged 27)</td>\n",
        "<td style=\"text-align: center;\">34</td>\n",
        "<td><span class=\"flagicon\"><a href=\"http://en.wikipedia.org/wiki/England\" title=\"England\"><img alt=\"England\" src=\"//upload.wikimedia.org/wikipedia/en/thumb/b/be/Flag_of_England.svg/23px-Flag_of_England.svg.png\" width=\"23\" height=\"14\" class=\"thumbborder\" srcset=\"//upload.wikimedia.org/wikipedia/en/thumb/b/be/Flag_of_England.svg/35px-Flag_of_England.svg.png 1.5x, //upload.wikimedia.org/wikipedia/en/thumb/b/be/Flag_of_England.svg/46px-Flag_of_England.svg.png 2x\" data-file-width=\"800\" data-file-height=\"480\"/></a></span> <a href=\"http://en.wikipedia.org/wiki/Chelsea_F.C.\" title=\"Chelsea F.C.\">Chelsea</a></td>\n",
        "</tr><tr><td style=\"text-align: right;\">\u2013</td>\n",
        "<td style=\"text-align: center;\"><span style=\"display:none\">2</span><a href=\"http://en.wikipedia.org/wiki/Defender_(association_football)\" title=\"Defender (association football)\">DF</a></td>\n",
        "<td><a href=\"http://en.wikipedia.org/wiki/Marcelo_Vieira\" title=\"Marcelo Vieira\">Marcelo</a></td>\n",
        "<td><span style=\"display:none\">(<span class=\"bday\">1988-05-12</span>)</span>12 May 1988 (aged 26)</td>\n",
        "<td style=\"text-align: center;\">29</td>\n",
        "<td><span class=\"flagicon\"><a href=\"http://en.wikipedia.org/wiki/Spain\" title=\"Spain\"><img alt=\"Spain\" src=\"//upload.wikimedia.org/wikipedia/en/thumb/9/9a/Flag_of_Spain.svg/23px-Flag_of_Spain.svg.png\" width=\"23\" height=\"15\" class=\"thumbborder\" srcset=\"//upload.wikimedia.org/wikipedia/en/thumb/9/9a/Flag_of_Spain.svg/35px-Flag_of_Spain.svg.png 1.5x, //upload.wikimedia.org/wikipedia/en/thumb/9/9a/Flag_of_Spain.svg/45px-Flag_of_Spain.svg.png 2x\" data-file-width=\"750\" data-file-height=\"500\"/></a></span> <a href=\"http://en.wikipedia.org/wiki/Real_Madrid_C.F.\" title=\"Real Madrid C.F.\">Real Madrid</a></td>\n",
        "</tr><tr><td style=\"text-align: right;\">\u2013</td>\n",
        "<td style=\"text-align: center;\"><span style=\"display:none\">2</span><a href=\"http://en.wikipedia.org/wiki/Defender_(association_football)\" title=\"Defender (association football)\">DF</a></td>\n",
        "<td><a href=\"http://en.wikipedia.org/wiki/Dante_(footballer)\" title=\"Dante (footballer)\">Dante</a></td>\n",
        "<td><span style=\"display:none\">(<span class=\"bday\">1983-10-18</span>)</span>18 October 1983 (aged 30)</td>\n",
        "<td style=\"text-align: center;\">11</td>\n",
        "<td><span class=\"flagicon\"><a href=\"http://en.wikipedia.org/wiki/Germany\" title=\"Germany\"><img alt=\"Germany\" src=\"//upload.wikimedia.org/wikipedia/en/thumb/b/ba/Flag_of_Germany.svg/23px-Flag_of_Germany.svg.png\" width=\"23\" height=\"14\" class=\"thumbborder\" srcset=\"//upload.wikimedia.org/wikipedia/en/thumb/b/ba/Flag_of_Germany.svg/35px-Flag_of_Germany.svg.png 1.5x, //upload.wikimedia.org/wikipedia/en/thumb/b/ba/Flag_of_Germany.svg/46px-Flag_of_Germany.svg.png 2x\" data-file-width=\"1000\" data-file-height=\"600\"/></a></span> <a href=\"http://en.wikipedia.org/wiki/FC_Bayern_Munich\" title=\"FC Bayern Munich\">Bayern Munich</a></td>\n",
        "</tr><tr><td style=\"text-align: right;\">\u2013</td>\n",
        "<td style=\"text-align: center;\"><span style=\"display:none\">2</span><a href=\"http://en.wikipedia.org/wiki/Defender_(association_football)\" title=\"Defender (association football)\">DF</a></td>\n",
        "<td><a href=\"http://en.wikipedia.org/wiki/Maxwell_Cabelino_Andrade\" title=\"Maxwell Cabelino Andrade\">Maxwell</a></td>\n",
        "<td><span style=\"display:none\">(<span class=\"bday\">1981-08-27</span>)</span>27 August 1981 (aged 32)</td>\n",
        "<td style=\"text-align: center;\">7</td>\n",
        "<td><span class=\"flagicon\"><a href=\"http://en.wikipedia.org/wiki/France\" title=\"France\"><img alt=\"France\" src=\"//upload.wikimedia.org/wikipedia/en/thumb/c/c3/Flag_of_France.svg/23px-Flag_of_France.svg.png\" width=\"23\" height=\"15\" class=\"thumbborder\" srcset=\"//upload.wikimedia.org/wikipedia/en/thumb/c/c3/Flag_of_France.svg/35px-Flag_of_France.svg.png 1.5x, //upload.wikimedia.org/wikipedia/en/thumb/c/c3/Flag_of_France.svg/45px-Flag_of_France.svg.png 2x\" data-file-width=\"900\" data-file-height=\"600\"/></a></span> <a href=\"http://en.wikipedia.org/wiki/Paris_Saint-Germain_F.C.\" title=\"Paris Saint-Germain F.C.\">Paris Saint-Germain</a></td>\n",
        "</tr><tr><td style=\"text-align: right;\">\u2013</td>\n",
        "<td style=\"text-align: center;\"><span style=\"display:none\">2</span><a href=\"http://en.wikipedia.org/wiki/Defender_(association_football)\" title=\"Defender (association football)\">DF</a></td>\n",
        "<td><a href=\"http://en.wikipedia.org/wiki/Henrique_Adriano_Buss\" title=\"Henrique Adriano Buss\">Henrique</a></td>\n",
        "<td><span style=\"display:none\">(<span class=\"bday\">1986-10-14</span>)</span>14 October 1986 (aged 27)</td>\n",
        "<td style=\"text-align: center;\">4</td>\n",
        "<td><span class=\"flagicon\"><a href=\"http://en.wikipedia.org/wiki/Italy\" title=\"Italy\"><img alt=\"Italy\" src=\"//upload.wikimedia.org/wikipedia/en/thumb/0/03/Flag_of_Italy.svg/23px-Flag_of_Italy.svg.png\" width=\"23\" height=\"15\" class=\"thumbborder\" srcset=\"//upload.wikimedia.org/wikipedia/en/thumb/0/03/Flag_of_Italy.svg/35px-Flag_of_Italy.svg.png 1.5x, //upload.wikimedia.org/wikipedia/en/thumb/0/03/Flag_of_Italy.svg/45px-Flag_of_Italy.svg.png 2x\" data-file-width=\"1500\" data-file-height=\"1000\"/></a></span> <a href=\"http://en.wikipedia.org/wiki/S.S.C._Napoli\" title=\"S.S.C. Napoli\">Napoli</a></td>\n",
        "</tr><tr><td style=\"text-align: right;\">\u2013</td>\n",
        "<td style=\"text-align: center;\"><span style=\"display:none\">3</span><a href=\"http://en.wikipedia.org/wiki/Midfielder\" title=\"Midfielder\">MF</a></td>\n",
        "<td><a href=\"http://en.wikipedia.org/wiki/Ramires\" title=\"Ramires\">Ramires</a></td>\n",
        "<td><span style=\"display:none\">(<span class=\"bday\">1987-03-24</span>)</span>24 March 1987 (aged 27)</td>\n",
        "<td style=\"text-align: center;\">41</td>\n",
        "<td><span class=\"flagicon\"><a href=\"http://en.wikipedia.org/wiki/England\" title=\"England\"><img alt=\"England\" src=\"//upload.wikimedia.org/wikipedia/en/thumb/b/be/Flag_of_England.svg/23px-Flag_of_England.svg.png\" width=\"23\" height=\"14\" class=\"thumbborder\" srcset=\"//upload.wikimedia.org/wikipedia/en/thumb/b/be/Flag_of_England.svg/35px-Flag_of_England.svg.png 1.5x, //upload.wikimedia.org/wikipedia/en/thumb/b/be/Flag_of_England.svg/46px-Flag_of_England.svg.png 2x\" data-file-width=\"800\" data-file-height=\"480\"/></a></span> <a href=\"http://en.wikipedia.org/wiki/Chelsea_F.C.\" title=\"Chelsea F.C.\">Chelsea</a></td>\n",
        "</tr><tr><td style=\"text-align: right;\">\u2013</td>\n",
        "<td style=\"text-align: center;\"><span style=\"display:none\">3</span><a href=\"http://en.wikipedia.org/wiki/Midfielder\" title=\"Midfielder\">MF</a></td>\n",
        "<td><a href=\"http://en.wikipedia.org/wiki/Oscar_(footballer_born_1991)\" title=\"Oscar (footballer born 1991)\" class=\"mw-redirect\">Oscar</a></td>\n",
        "<td><span style=\"display:none\">(<span class=\"bday\">1991-09-09</span>)</span>9 September 1991 (aged 22)</td>\n",
        "<td style=\"text-align: center;\">29</td>\n",
        "<td><span class=\"flagicon\"><a href=\"http://en.wikipedia.org/wiki/England\" title=\"England\"><img alt=\"England\" src=\"//upload.wikimedia.org/wikipedia/en/thumb/b/be/Flag_of_England.svg/23px-Flag_of_England.svg.png\" width=\"23\" height=\"14\" class=\"thumbborder\" srcset=\"//upload.wikimedia.org/wikipedia/en/thumb/b/be/Flag_of_England.svg/35px-Flag_of_England.svg.png 1.5x, //upload.wikimedia.org/wikipedia/en/thumb/b/be/Flag_of_England.svg/46px-Flag_of_England.svg.png 2x\" data-file-width=\"800\" data-file-height=\"480\"/></a></span> <a href=\"http://en.wikipedia.org/wiki/Chelsea_F.C.\" title=\"Chelsea F.C.\">Chelsea</a></td>\n",
        "</tr><tr><td style=\"text-align: right;\">\u2013</td>\n",
        "<td style=\"text-align: center;\"><span style=\"display:none\">3</span><a href=\"http://en.wikipedia.org/wiki/Midfielder\" title=\"Midfielder\">MF</a></td>\n",
        "<td><a href=\"http://en.wikipedia.org/wiki/Paulinho_(footballer)\" title=\"Paulinho (footballer)\">Paulinho</a></td>\n",
        "<td><span style=\"display:none\">(<span class=\"bday\">1988-07-25</span>)</span>25 July 1988 (aged 25)</td>\n",
        "<td style=\"text-align: center;\">25</td>\n",
        "<td><span class=\"flagicon\"><a href=\"http://en.wikipedia.org/wiki/England\" title=\"England\"><img alt=\"England\" src=\"//upload.wikimedia.org/wikipedia/en/thumb/b/be/Flag_of_England.svg/23px-Flag_of_England.svg.png\" width=\"23\" height=\"14\" class=\"thumbborder\" srcset=\"//upload.wikimedia.org/wikipedia/en/thumb/b/be/Flag_of_England.svg/35px-Flag_of_England.svg.png 1.5x, //upload.wikimedia.org/wikipedia/en/thumb/b/be/Flag_of_England.svg/46px-Flag_of_England.svg.png 2x\" data-file-width=\"800\" data-file-height=\"480\"/></a></span> <a href=\"http://en.wikipedia.org/wiki/Tottenham_Hotspur_F.C.\" title=\"Tottenham Hotspur F.C.\">Tottenham Hotspur</a></td>\n",
        "</tr><tr><td style=\"text-align: right;\">\u2013</td>\n",
        "<td style=\"text-align: center;\"><span style=\"display:none\">3</span><a href=\"http://en.wikipedia.org/wiki/Midfielder\" title=\"Midfielder\">MF</a></td>\n",
        "<td><a href=\"http://en.wikipedia.org/wiki/Hernanes\" title=\"Hernanes\">Hernanes</a></td>\n",
        "<td><span style=\"display:none\">(<span class=\"bday\">1985-05-29</span>)</span>29 May 1985 (aged 29)</td>\n",
        "<td style=\"text-align: center;\">23</td>\n",
        "<td><span class=\"flagicon\"><a href=\"http://en.wikipedia.org/wiki/Italy\" title=\"Italy\"><img alt=\"Italy\" src=\"//upload.wikimedia.org/wikipedia/en/thumb/0/03/Flag_of_Italy.svg/23px-Flag_of_Italy.svg.png\" width=\"23\" height=\"15\" class=\"thumbborder\" srcset=\"//upload.wikimedia.org/wikipedia/en/thumb/0/03/Flag_of_Italy.svg/35px-Flag_of_Italy.svg.png 1.5x, //upload.wikimedia.org/wikipedia/en/thumb/0/03/Flag_of_Italy.svg/45px-Flag_of_Italy.svg.png 2x\" data-file-width=\"1500\" data-file-height=\"1000\"/></a></span> <a href=\"http://en.wikipedia.org/wiki/Inter_Milan\" title=\"Inter Milan\">Internazionale</a></td>\n",
        "</tr><tr><td style=\"text-align: right;\">\u2013</td>\n",
        "<td style=\"text-align: center;\"><span style=\"display:none\">3</span><a href=\"http://en.wikipedia.org/wiki/Midfielder\" title=\"Midfielder\">MF</a></td>\n",
        "<td><a href=\"http://en.wikipedia.org/wiki/Luiz_Gustavo\" title=\"Luiz Gustavo\">Luiz Gustavo</a></td>\n",
        "<td><span style=\"display:none\">(<span class=\"bday\">1987-07-23</span>)</span>23 July 1987 (aged 26)</td>\n",
        "<td style=\"text-align: center;\">17</td>\n",
        "<td><span class=\"flagicon\"><a href=\"http://en.wikipedia.org/wiki/Germany\" title=\"Germany\"><img alt=\"Germany\" src=\"//upload.wikimedia.org/wikipedia/en/thumb/b/ba/Flag_of_Germany.svg/23px-Flag_of_Germany.svg.png\" width=\"23\" height=\"14\" class=\"thumbborder\" srcset=\"//upload.wikimedia.org/wikipedia/en/thumb/b/ba/Flag_of_Germany.svg/35px-Flag_of_Germany.svg.png 1.5x, //upload.wikimedia.org/wikipedia/en/thumb/b/ba/Flag_of_Germany.svg/46px-Flag_of_Germany.svg.png 2x\" data-file-width=\"1000\" data-file-height=\"600\"/></a></span> <a href=\"http://en.wikipedia.org/wiki/VfL_Wolfsburg\" title=\"VfL Wolfsburg\">VfL Wolfsburg</a></td>\n",
        "</tr><tr><td style=\"text-align: right;\">\u2013</td>\n",
        "<td style=\"text-align: center;\"><span style=\"display:none\">3</span><a href=\"http://en.wikipedia.org/wiki/Midfielder\" title=\"Midfielder\">MF</a></td>\n",
        "<td><a href=\"http://en.wikipedia.org/wiki/Bernard_(footballer)\" title=\"Bernard (footballer)\">Bernard</a></td>\n",
        "<td><span style=\"display:none\">(<span class=\"bday\">1992-09-08</span>)</span>8 September 1992 (aged 21)</td>\n",
        "<td style=\"text-align: center;\">10</td>\n",
        "<td><span class=\"flagicon\"><a href=\"http://en.wikipedia.org/wiki/Ukraine\" title=\"Ukraine\"><img alt=\"Ukraine\" src=\"//upload.wikimedia.org/wikipedia/commons/thumb/4/49/Flag_of_Ukraine.svg/23px-Flag_of_Ukraine.svg.png\" width=\"23\" height=\"15\" class=\"thumbborder\" srcset=\"//upload.wikimedia.org/wikipedia/commons/thumb/4/49/Flag_of_Ukraine.svg/35px-Flag_of_Ukraine.svg.png 1.5x, //upload.wikimedia.org/wikipedia/commons/thumb/4/49/Flag_of_Ukraine.svg/45px-Flag_of_Ukraine.svg.png 2x\" data-file-width=\"1200\" data-file-height=\"800\"/></a></span> <a href=\"http://en.wikipedia.org/wiki/FC_Shakhtar_Donetsk\" title=\"FC Shakhtar Donetsk\">Shakhtar Donetsk</a></td>\n",
        "</tr><tr><td style=\"text-align: right;\">\u2013</td>\n",
        "<td style=\"text-align: center;\"><span style=\"display:none\">3</span><a href=\"http://en.wikipedia.org/wiki/Midfielder\" title=\"Midfielder\">MF</a></td>\n",
        "<td><a href=\"http://en.wikipedia.org/wiki/Fernando_Luiz_Roza\" title=\"Fernando Luiz Roza\">Fernandinho</a></td>\n",
        "<td><span style=\"display:none\">(<span class=\"bday\">1985-05-04</span>)</span>4 May 1985 (aged 29)</td>\n",
        "<td style=\"text-align: center;\">6</td>\n",
        "<td><span class=\"flagicon\"><a href=\"http://en.wikipedia.org/wiki/England\" title=\"England\"><img alt=\"England\" src=\"//upload.wikimedia.org/wikipedia/en/thumb/b/be/Flag_of_England.svg/23px-Flag_of_England.svg.png\" width=\"23\" height=\"14\" class=\"thumbborder\" srcset=\"//upload.wikimedia.org/wikipedia/en/thumb/b/be/Flag_of_England.svg/35px-Flag_of_England.svg.png 1.5x, //upload.wikimedia.org/wikipedia/en/thumb/b/be/Flag_of_England.svg/46px-Flag_of_England.svg.png 2x\" data-file-width=\"800\" data-file-height=\"480\"/></a></span> <a href=\"http://en.wikipedia.org/wiki/Manchester_City_F.C.\" title=\"Manchester City F.C.\">Manchester City</a></td>\n",
        "</tr><tr><td style=\"text-align: right;\">\u2013</td>\n",
        "<td style=\"text-align: center;\"><span style=\"display:none\">3</span><a href=\"http://en.wikipedia.org/wiki/Midfielder\" title=\"Midfielder\">MF</a></td>\n",
        "<td><a href=\"http://en.wikipedia.org/wiki/Willian_Borges_da_Silva\" title=\"Willian Borges da Silva\">Willian</a></td>\n",
        "<td><span style=\"display:none\">(<span class=\"bday\">1988-08-09</span>)</span>9 August 1988 (aged 25)</td>\n",
        "<td style=\"text-align: center;\">5</td>\n",
        "<td><span class=\"flagicon\"><a href=\"http://en.wikipedia.org/wiki/England\" title=\"England\"><img alt=\"England\" src=\"//upload.wikimedia.org/wikipedia/en/thumb/b/be/Flag_of_England.svg/23px-Flag_of_England.svg.png\" width=\"23\" height=\"14\" class=\"thumbborder\" srcset=\"//upload.wikimedia.org/wikipedia/en/thumb/b/be/Flag_of_England.svg/35px-Flag_of_England.svg.png 1.5x, //upload.wikimedia.org/wikipedia/en/thumb/b/be/Flag_of_England.svg/46px-Flag_of_England.svg.png 2x\" data-file-width=\"800\" data-file-height=\"480\"/></a></span> <a href=\"http://en.wikipedia.org/wiki/Chelsea_F.C.\" title=\"Chelsea F.C.\">Chelsea</a></td>\n",
        "</tr><tr><td style=\"text-align: right;\">\u2013</td>\n",
        "<td style=\"text-align: center;\"><span style=\"display:none\">4</span><a href=\"http://en.wikipedia.org/wiki/Forward_(association_football)\" title=\"Forward (association football)\">FW</a></td>\n",
        "<td><a href=\"http://en.wikipedia.org/wiki/Neymar\" title=\"Neymar\">Neymar</a></td>\n",
        "<td><span style=\"display:none\">(<span class=\"bday\">1992-02-05</span>)</span>5 February 1992 (aged 22)</td>\n",
        "<td style=\"text-align: center;\">47</td>\n",
        "<td><span class=\"flagicon\"><a href=\"http://en.wikipedia.org/wiki/Spain\" title=\"Spain\"><img alt=\"Spain\" src=\"//upload.wikimedia.org/wikipedia/en/thumb/9/9a/Flag_of_Spain.svg/23px-Flag_of_Spain.svg.png\" width=\"23\" height=\"15\" class=\"thumbborder\" srcset=\"//upload.wikimedia.org/wikipedia/en/thumb/9/9a/Flag_of_Spain.svg/35px-Flag_of_Spain.svg.png 1.5x, //upload.wikimedia.org/wikipedia/en/thumb/9/9a/Flag_of_Spain.svg/45px-Flag_of_Spain.svg.png 2x\" data-file-width=\"750\" data-file-height=\"500\"/></a></span> <a href=\"http://en.wikipedia.org/wiki/FC_Barcelona\" title=\"FC Barcelona\">Barcelona</a></td>\n",
        "</tr><tr><td style=\"text-align: right;\">\u2013</td>\n",
        "<td style=\"text-align: center;\"><span style=\"display:none\">4</span><a href=\"http://en.wikipedia.org/wiki/Forward_(association_football)\" title=\"Forward (association football)\">FW</a></td>\n",
        "<td><a href=\"http://en.wikipedia.org/wiki/Hulk_(footballer)\" title=\"Hulk (footballer)\">Hulk</a></td>\n",
        "<td><span style=\"display:none\">(<span class=\"bday\">1986-07-25</span>)</span>25 July 1986 (aged 27)</td>\n",
        "<td style=\"text-align: center;\">33</td>\n",
        "<td><span class=\"flagicon\"><a href=\"http://en.wikipedia.org/wiki/Russia\" title=\"Russia\"><img alt=\"Russia\" src=\"//upload.wikimedia.org/wikipedia/en/thumb/f/f3/Flag_of_Russia.svg/23px-Flag_of_Russia.svg.png\" width=\"23\" height=\"15\" class=\"thumbborder\" srcset=\"//upload.wikimedia.org/wikipedia/en/thumb/f/f3/Flag_of_Russia.svg/35px-Flag_of_Russia.svg.png 1.5x, //upload.wikimedia.org/wikipedia/en/thumb/f/f3/Flag_of_Russia.svg/45px-Flag_of_Russia.svg.png 2x\" data-file-width=\"900\" data-file-height=\"600\"/></a></span> <a href=\"http://en.wikipedia.org/wiki/FC_Zenit_Saint_Petersburg\" title=\"FC Zenit Saint Petersburg\">Zenit Saint Petersburg</a></td>\n",
        "</tr><tr><td style=\"text-align: right;\">\u2013</td>\n",
        "<td style=\"text-align: center;\"><span style=\"display:none\">4</span><a href=\"http://en.wikipedia.org/wiki/Forward_(association_football)\" title=\"Forward (association football)\">FW</a></td>\n",
        "<td><a href=\"http://en.wikipedia.org/wiki/Fred_(footballer)\" title=\"Fred (footballer)\">Fred</a></td>\n",
        "<td><span style=\"display:none\">(<span class=\"bday\">1983-10-03</span>)</span>3 October 1983 (aged 30)</td>\n",
        "<td style=\"text-align: center;\">31</td>\n",
        "<td><span class=\"flagicon\"><a href=\"http://en.wikipedia.org/wiki/Brazil\" title=\"Brazil\"><img alt=\"Brazil\" src=\"//upload.wikimedia.org/wikipedia/en/thumb/0/05/Flag_of_Brazil.svg/22px-Flag_of_Brazil.svg.png\" width=\"22\" height=\"15\" class=\"thumbborder\" srcset=\"//upload.wikimedia.org/wikipedia/en/thumb/0/05/Flag_of_Brazil.svg/33px-Flag_of_Brazil.svg.png 1.5x, //upload.wikimedia.org/wikipedia/en/thumb/0/05/Flag_of_Brazil.svg/43px-Flag_of_Brazil.svg.png 2x\" data-file-width=\"720\" data-file-height=\"504\"/></a></span> <a href=\"http://en.wikipedia.org/wiki/Fluminense_Football_Club\" title=\"Fluminense Football Club\" class=\"mw-redirect\">Fluminense</a></td>\n",
        "</tr><tr><td style=\"text-align: right;\">\u2013</td>\n",
        "<td style=\"text-align: center;\"><span style=\"display:none\">4</span><a href=\"http://en.wikipedia.org/wiki/Forward_(association_football)\" title=\"Forward (association football)\">FW</a></td>\n",
        "<td><a href=\"http://en.wikipedia.org/wiki/Jo%C3%A3o_Alves_de_Assis_Silva\" title=\"Jo\u00e3o Alves de Assis Silva\" class=\"mw-redirect\">J\u00f4</a></td>\n",
        "<td><span style=\"display:none\">(<span class=\"bday\">1987-03-20</span>)</span>20 March 1987 (aged 27)</td>\n",
        "<td style=\"text-align: center;\">15</td>\n",
        "<td><span class=\"flagicon\"><a href=\"http://en.wikipedia.org/wiki/Brazil\" title=\"Brazil\"><img alt=\"Brazil\" src=\"//upload.wikimedia.org/wikipedia/en/thumb/0/05/Flag_of_Brazil.svg/22px-Flag_of_Brazil.svg.png\" width=\"22\" height=\"15\" class=\"thumbborder\" srcset=\"//upload.wikimedia.org/wikipedia/en/thumb/0/05/Flag_of_Brazil.svg/33px-Flag_of_Brazil.svg.png 1.5x, //upload.wikimedia.org/wikipedia/en/thumb/0/05/Flag_of_Brazil.svg/43px-Flag_of_Brazil.svg.png 2x\" data-file-width=\"720\" data-file-height=\"504\"/></a></span> <a href=\"http://en.wikipedia.org/wiki/Atl%C3%A9tico_Mineiro\" title=\"Atl\u00e9tico Mineiro\" class=\"mw-redirect\">Atl\u00e9tico Mineiro</a></td>\n",
        "</tr></table></td>\n",
        "</tr>"
       ],
       "metadata": {},
       "output_type": "pyout",
       "prompt_number": 6,
       "text": [
        "<IPython.core.display.HTML at 0x4cb5fd0>"
       ]
      }
     ],
     "prompt_number": 6
    },
    {
     "cell_type": "code",
     "collapsed": false,
     "input": [
      "def parse_squad(squad, group):\n",
      "    country, _ = Country.objects.get_or_create(name=pq(squad).prev().prev().prev().text())\n",
      "    print \"Parsing\", country\n",
      "    team, _ = Team.objects.get_or_create(country=country, group=group)\n",
      "\n",
      "    for row in pq('tr', squad)[2:]:\n",
      "        \n",
      "        position = pq('td:eq(1)', row).text()[-2:]\n",
      "        full_name = pq('td:eq(2)', row).text()\n",
      "        url = pq('td:eq(2) a', row).attr('href')\n",
      "        \n",
      "        club_country, _ = Country.objects.get_or_create(name=pq('td:eq(5) span.flagicon a', pq('tr', squad)[6]).attr('title'))\n",
      "        club, _ = Club.objects.get_or_create(name=pq('td:eq(5)', pq('tr', squad)[6]).text(), country=club_country)\n",
      "        Player.objects.create(full_name=full_name, url=url, position=position, team=team, current_club=club)\n",
      "    \n",
      "        "
     ],
     "language": "python",
     "metadata": {},
     "outputs": [],
     "prompt_number": 7
    },
    {
     "cell_type": "code",
     "collapsed": false,
     "input": [
      "for i, squad in enumerate(pq('table:not(.sortable)')[:32]):\n",
      "    parse_squad(squad, \"ABCDEFGH\"[i / 4])"
     ],
     "language": "python",
     "metadata": {},
     "outputs": [
      {
       "output_type": "stream",
       "stream": "stdout",
       "text": [
        "Parsing Brazil\n",
        "Parsing"
       ]
      },
      {
       "output_type": "stream",
       "stream": "stdout",
       "text": [
        " Cameroon\n",
        "Parsing"
       ]
      },
      {
       "output_type": "stream",
       "stream": "stdout",
       "text": [
        " Croatia\n",
        "Parsing"
       ]
      },
      {
       "output_type": "stream",
       "stream": "stdout",
       "text": [
        " Mexico\n",
        "Parsing"
       ]
      },
      {
       "output_type": "stream",
       "stream": "stdout",
       "text": [
        " Australia\n",
        "Parsing"
       ]
      },
      {
       "output_type": "stream",
       "stream": "stdout",
       "text": [
        " Chile\n",
        "Parsing"
       ]
      },
      {
       "output_type": "stream",
       "stream": "stdout",
       "text": [
        " Netherlands\n",
        "Parsing"
       ]
      },
      {
       "output_type": "stream",
       "stream": "stdout",
       "text": [
        " Spain\n",
        "Parsing"
       ]
      },
      {
       "output_type": "stream",
       "stream": "stdout",
       "text": [
        " Colombia\n",
        "Parsing"
       ]
      },
      {
       "output_type": "stream",
       "stream": "stdout",
       "text": [
        " C\u00f4te d'Ivoire\n",
        "Parsing"
       ]
      },
      {
       "output_type": "stream",
       "stream": "stdout",
       "text": [
        " Greece\n",
        "Parsing"
       ]
      },
      {
       "output_type": "stream",
       "stream": "stdout",
       "text": [
        " Japan\n",
        "Parsing"
       ]
      },
      {
       "output_type": "stream",
       "stream": "stdout",
       "text": [
        " Costa Rica\n",
        "Parsing"
       ]
      },
      {
       "output_type": "stream",
       "stream": "stdout",
       "text": [
        " England\n",
        "Parsing"
       ]
      },
      {
       "output_type": "stream",
       "stream": "stdout",
       "text": [
        " Italy\n",
        "Parsing"
       ]
      },
      {
       "output_type": "stream",
       "stream": "stdout",
       "text": [
        " Uruguay\n",
        "Parsing"
       ]
      },
      {
       "output_type": "stream",
       "stream": "stdout",
       "text": [
        " Ecuador\n",
        "Parsing"
       ]
      },
      {
       "output_type": "stream",
       "stream": "stdout",
       "text": [
        " France\n",
        "Parsing"
       ]
      },
      {
       "output_type": "stream",
       "stream": "stdout",
       "text": [
        " Honduras\n",
        "Parsing"
       ]
      },
      {
       "output_type": "stream",
       "stream": "stdout",
       "text": [
        " Switzerland\n",
        "Parsing"
       ]
      },
      {
       "output_type": "stream",
       "stream": "stdout",
       "text": [
        " Argentina\n",
        "Parsing"
       ]
      },
      {
       "output_type": "stream",
       "stream": "stdout",
       "text": [
        " Bosnia and Herzegovina\n",
        "Parsing"
       ]
      },
      {
       "output_type": "stream",
       "stream": "stdout",
       "text": [
        " Iran\n",
        "Parsing"
       ]
      },
      {
       "output_type": "stream",
       "stream": "stdout",
       "text": [
        " Nigeria\n",
        "Parsing"
       ]
      },
      {
       "output_type": "stream",
       "stream": "stdout",
       "text": [
        " Germany\n",
        "Parsing"
       ]
      },
      {
       "output_type": "stream",
       "stream": "stdout",
       "text": [
        " Ghana\n",
        "Parsing"
       ]
      },
      {
       "output_type": "stream",
       "stream": "stdout",
       "text": [
        " Portugal\n",
        "Parsing"
       ]
      },
      {
       "output_type": "stream",
       "stream": "stdout",
       "text": [
        " United States\n",
        "Parsing"
       ]
      },
      {
       "output_type": "stream",
       "stream": "stdout",
       "text": [
        " Algeria\n",
        "Parsing"
       ]
      },
      {
       "output_type": "stream",
       "stream": "stdout",
       "text": [
        " Belgium\n",
        "Parsing"
       ]
      },
      {
       "output_type": "stream",
       "stream": "stdout",
       "text": [
        " Russia\n",
        "Parsing"
       ]
      },
      {
       "output_type": "stream",
       "stream": "stdout",
       "text": [
        " South Korea\n"
       ]
      }
     ],
     "prompt_number": 8
    },
    {
     "cell_type": "code",
     "collapsed": false,
     "input": [
      "Player.objects.all()"
     ],
     "language": "python",
     "metadata": {},
     "outputs": [
      {
       "metadata": {},
       "output_type": "pyout",
       "prompt_number": 9,
       "text": [
        "[<Player: J\u00falio C\u00e9sar>, <Player: Jefferson>, <Player: Victor>, <Player: Daniel Alves>, <Player: Maicon>, <Player: Thiago Silva ( captain )>, <Player: David Luiz>, <Player: Marcelo>, <Player: Dante>, <Player: Maxwell>, <Player: Henrique>, <Player: Ramires>, <Player: Oscar>, <Player: Paulinho>, <Player: Hernanes>, <Player: Luiz Gustavo>, <Player: Bernard>, <Player: Fernandinho>, <Player: Willian>, <Player: Neymar>, '...(remaining elements truncated)...']"
       ]
      }
     ],
     "prompt_number": 9
    },
    {
     "cell_type": "code",
     "collapsed": false,
     "input": [
      "messi = PyQuery(Player.objects.get(full_name__contains='Messi').url)\n",
      "messi.make_links_absolute()\n",
      "HTML(messi('table.infobox').html())\n"
     ],
     "language": "python",
     "metadata": {},
     "outputs": [
      {
       "html": [
        "<caption class=\"fn\" style=\"font-size: 125%; font-weight: bold; line-height: 1.5em\">Lionel Messi</caption>\n",
        "<tr class=\"\"><td colspan=\"4\" class=\"\" style=\"text-align:center;\"><a href=\"http://en.wikipedia.org/wiki/File:Lionel_Messi_Player_of_the_Year_2011.jpg\" class=\"image\"><img alt=\"Lionel Messi Player of the Year 2011.jpg\" src=\"//upload.wikimedia.org/wikipedia/commons/thumb/d/d2/Lionel_Messi_Player_of_the_Year_2011.jpg/220px-Lionel_Messi_Player_of_the_Year_2011.jpg\" width=\"220\" height=\"272\" srcset=\"//upload.wikimedia.org/wikipedia/commons/thumb/d/d2/Lionel_Messi_Player_of_the_Year_2011.jpg/330px-Lionel_Messi_Player_of_the_Year_2011.jpg 1.5x, //upload.wikimedia.org/wikipedia/commons/thumb/d/d2/Lionel_Messi_Player_of_the_Year_2011.jpg/440px-Lionel_Messi_Player_of_the_Year_2011.jpg 2x\" data-file-width=\"3273\" data-file-height=\"4045\"/></a><br/><span style=\"\">Messi playing for <a href=\"http://en.wikipedia.org/wiki/FC_Barcelona\" title=\"FC Barcelona\">Barcelona</a> at the <a href=\"http://en.wikipedia.org/wiki/2011_FIFA_Club_World_Cup\" title=\"2011 FIFA Club World Cup\">2011 FIFA Club World Cup</a></span></td>\n",
        "</tr><tr class=\"\"><th colspan=\"4\" style=\"text-align:center; background-color: #b0c4de; line-height: 1.5em\">Personal information</th>\n",
        "</tr><tr class=\"\"><th style=\"white-space: nowrap; vertical-align: baseline; text-align: left\">Full name</th>\n",
        "<td colspan=\"3\" class=\"nickname\" style=\"white-space: nowrap; vertical-align: baseline\">Lionel Andr\u00e9s Messi<sup id=\"cite_ref-barca_1-0\" class=\"reference\"><a href=\"http://en.wikipedia.org/wiki/Lionel_Messi#cite_note-barca-1\"><span>[</span>1<span>]</span></a></sup></td>\n",
        "</tr><tr class=\"\"><th style=\"white-space: nowrap; vertical-align: baseline; text-align: left\">Date of birth</th>\n",
        "<td colspan=\"3\" class=\"\" style=\"white-space: nowrap; vertical-align: baseline\"><span style=\"display:none\">(<span class=\"bday\">1987-06-24</span>)</span> 24 June 1987 <span class=\"noprint ForceAgeToShow\">(age\u00a026)</span><sup id=\"cite_ref-barca_1-1\" class=\"reference\"><a href=\"http://en.wikipedia.org/wiki/Lionel_Messi#cite_note-barca-1\"><span>[</span>1<span>]</span></a></sup></td>\n",
        "</tr><tr class=\"\"><th style=\"white-space: nowrap; vertical-align: baseline; text-align: left\">Place of birth</th>\n",
        "<td colspan=\"3\" class=\"birthplace\" style=\"white-space: nowrap; vertical-align: baseline\"><a href=\"http://en.wikipedia.org/wiki/Rosario,_Santa_Fe\" title=\"Rosario, Santa Fe\">Rosario</a>, Argentina<sup id=\"cite_ref-barca_1-2\" class=\"reference\"><a href=\"http://en.wikipedia.org/wiki/Lionel_Messi#cite_note-barca-1\"><span>[</span>1<span>]</span></a></sup></td>\n",
        "</tr><tr class=\"\"><th style=\"white-space: nowrap; vertical-align: baseline; text-align: left\">Height</th>\n",
        "<td colspan=\"3\" class=\"\" style=\"white-space: nowrap; vertical-align: baseline\">1.69\u00a0m (5\u00a0ft 7\u00a0in)<sup id=\"cite_ref-barca_1-3\" class=\"reference\"><a href=\"http://en.wikipedia.org/wiki/Lionel_Messi#cite_note-barca-1\"><span>[</span>1<span>]</span></a></sup></td>\n",
        "</tr><tr class=\"\"><th style=\"white-space: nowrap; vertical-align: baseline; text-align: left\">Playing position</th>\n",
        "<td colspan=\"3\" class=\"role\" style=\"white-space: nowrap; vertical-align: baseline\"><a href=\"http://en.wikipedia.org/wiki/Forward_(association_football)\" title=\"Forward (association football)\">Forward</a></td>\n",
        "</tr><tr class=\"\"><th colspan=\"4\" style=\"text-align:center; background-color: #b0c4de; line-height: 1.5em\">Club information</th>\n",
        "</tr><tr class=\"\"><th style=\"white-space: nowrap; vertical-align: baseline; text-align: left\">Current club</th>\n",
        "<td colspan=\"3\" class=\"org\" style=\"white-space: nowrap; vertical-align: baseline\"><a href=\"http://en.wikipedia.org/wiki/FC_Barcelona\" title=\"FC Barcelona\">Barcelona</a></td>\n",
        "</tr><tr class=\"\"><th style=\"white-space: nowrap; vertical-align: baseline; text-align: left\">Number</th>\n",
        "<td colspan=\"3\" class=\"\" style=\"white-space: nowrap; vertical-align: baseline\">10</td>\n",
        "</tr><tr class=\"\"><th colspan=\"4\" style=\"text-align:center; background-color: #b0c4de; line-height: 1.5em\">Youth career</th>\n",
        "</tr><tr class=\"\"><th style=\"white-space: nowrap; vertical-align: baseline; text-align: left\"><span style=\"font-weight:normal\">1995\u20132000</span></th>\n",
        "<td colspan=\"3\" class=\"\" style=\"white-space: nowrap; vertical-align: baseline\"><a href=\"http://en.wikipedia.org/wiki/Newell%27s_Old_Boys\" title=\"Newell's Old Boys\">Newell's Old Boys</a></td>\n",
        "</tr><tr class=\"\"><th style=\"white-space: nowrap; vertical-align: baseline; text-align: left\"><span style=\"font-weight:normal\">2000\u20132003</span></th>\n",
        "<td colspan=\"3\" class=\"\" style=\"white-space: nowrap; vertical-align: baseline\"><a href=\"http://en.wikipedia.org/wiki/FC_Barcelona\" title=\"FC Barcelona\">Barcelona</a></td>\n",
        "</tr><tr class=\"\"><th colspan=\"4\" style=\"text-align:center; background-color: #b0c4de; line-height: 1.5em\">Senior career*</th>\n",
        "</tr><tr class=\"\" style=\"white-space: nowrap; vertical-align: baseline\"><th style=\"white-space: nowrap; vertical-align: baseline; text-align: left\">Years</th>\n",
        "<td class=\"\" style=\"white-space: nowrap; vertical-align: baseline\"><b>Team</b></td>\n",
        "<td class=\"\" style=\"white-space: nowrap; vertical-align: baseline;text-align: right\"><b>Apps<sup>\u2020</sup></b></td>\n",
        "<td class=\"\" style=\"white-space: nowrap; vertical-align: baseline; text-align: right\"><b>(Gls)<sup>\u2020</sup></b></td>\n",
        "</tr><tr class=\"\" style=\"white-space: nowrap; vertical-align: baseline\"><th style=\"white-space: nowrap; vertical-align: baseline; text-align: left\"><span style=\"font-weight:normal\">2003\u20132004</span></th>\n",
        "<td class=\"\" style=\"white-space: nowrap; vertical-align: baseline\"><a href=\"http://en.wikipedia.org/wiki/FC_Barcelona_C\" title=\"FC Barcelona C\">Barcelona C</a></td>\n",
        "<td class=\"\" style=\"white-space: nowrap; vertical-align: baseline;text-align: right\">10</td>\n",
        "<td class=\"\" style=\"white-space: nowrap; vertical-align: baseline; text-align: right\">(5)</td>\n",
        "</tr><tr class=\"\" style=\"white-space: nowrap; vertical-align: baseline\"><th style=\"white-space: nowrap; vertical-align: baseline; text-align: left\"><span style=\"font-weight:normal\">2004\u20132005</span></th>\n",
        "<td class=\"\" style=\"white-space: nowrap; vertical-align: baseline\"><a href=\"http://en.wikipedia.org/wiki/FC_Barcelona_B\" title=\"FC Barcelona B\">Barcelona B</a></td>\n",
        "<td class=\"\" style=\"white-space: nowrap; vertical-align: baseline;text-align: right\">22</td>\n",
        "<td class=\"\" style=\"white-space: nowrap; vertical-align: baseline; text-align: right\">(6)</td>\n",
        "</tr><tr class=\"\" style=\"white-space: nowrap; vertical-align: baseline\"><th style=\"white-space: nowrap; vertical-align: baseline; text-align: left\"><span style=\"font-weight:normal\">2004\u2013</span></th>\n",
        "<td class=\"\" style=\"white-space: nowrap; vertical-align: baseline\"><a href=\"http://en.wikipedia.org/wiki/FC_Barcelona\" title=\"FC Barcelona\">Barcelona</a></td>\n",
        "<td class=\"\" style=\"white-space: nowrap; vertical-align: baseline;text-align: right\">276</td>\n",
        "<td class=\"\" style=\"white-space: nowrap; vertical-align: baseline; text-align: right\">(243)</td>\n",
        "</tr><tr class=\"\"><th colspan=\"4\" style=\"text-align:center; background-color: #b0c4de; line-height: 1.5em\">National team<sup>\u2021</sup></th>\n",
        "</tr><tr class=\"\" style=\"white-space: nowrap; vertical-align: baseline\"><th style=\"white-space: nowrap; vertical-align: baseline; text-align: left\"><span style=\"font-weight:normal\">2004\u20132005</span></th>\n",
        "<td class=\"\" style=\"white-space: nowrap; vertical-align: baseline\"><a href=\"http://en.wikipedia.org/wiki/Argentina_national_under-20_football_team\" title=\"Argentina national under-20 football team\">Argentina U20</a></td>\n",
        "<td class=\"\" style=\"white-space: nowrap; vertical-align: baseline;text-align: right\">18</td>\n",
        "<td class=\"\" style=\"white-space: nowrap; vertical-align: baseline; text-align: right\">(14)</td>\n",
        "</tr><tr class=\"\" style=\"white-space: nowrap; vertical-align: baseline\"><th style=\"white-space: nowrap; vertical-align: baseline; text-align: left\"><span style=\"font-weight:normal\">2007\u20132008</span></th>\n",
        "<td class=\"\" style=\"white-space: nowrap; vertical-align: baseline\"><a href=\"http://en.wikipedia.org/wiki/Argentina_national_under-23_football_team\" title=\"Argentina national under-23 football team\">Argentina U23</a></td>\n",
        "<td class=\"\" style=\"white-space: nowrap; vertical-align: baseline;text-align: right\">5</td>\n",
        "<td class=\"\" style=\"white-space: nowrap; vertical-align: baseline; text-align: right\">(2)</td>\n",
        "</tr><tr class=\"\" style=\"white-space: nowrap; vertical-align: baseline\"><th style=\"white-space: nowrap; vertical-align: baseline; text-align: left\"><span style=\"font-weight:normal\">2005\u2013</span></th>\n",
        "<td class=\"\" style=\"white-space: nowrap; vertical-align: baseline\"><a href=\"http://en.wikipedia.org/wiki/Argentina_national_football_team\" title=\"Argentina national football team\">Argentina</a></td>\n",
        "<td class=\"\" style=\"white-space: nowrap; vertical-align: baseline;text-align: right\">83</td>\n",
        "<td class=\"\" style=\"white-space: nowrap; vertical-align: baseline; text-align: right\">(37)</td>\n",
        "</tr><tr class=\"\"><th colspan=\"4\" style=\"text-align:center; background-color: #b0c4de; line-height: 1.5em\">\n",
        "<div class=\"NavFrame collapsed\" style=\"border: none; padding: 0;\">\n",
        "<div class=\"NavHead\" style=\"font-size:105%; text-align: center; background-color: transparent;\">Honours</div>\n",
        "<div class=\"NavContent\" style=\"font-size:105%; font-weight: normal; width: 100%;\">\n",
        "<table style=\"width:100%; background-color: #f9f9f9; color: #000000;\"><tr bgcolor=\"#EEEEEE\" class=\"adr\" align=\"center\"><th colspan=\"3\"><b>Competitor for <span class=\"country-name\"><span class=\"flagicon\"><img alt=\"\" src=\"//upload.wikimedia.org/wikipedia/commons/thumb/1/1a/Flag_of_Argentina.svg/23px-Flag_of_Argentina.svg.png\" width=\"23\" height=\"14\" class=\"thumbborder\" srcset=\"//upload.wikimedia.org/wikipedia/commons/thumb/1/1a/Flag_of_Argentina.svg/35px-Flag_of_Argentina.svg.png 1.5x, //upload.wikimedia.org/wikipedia/commons/thumb/1/1a/Flag_of_Argentina.svg/46px-Flag_of_Argentina.svg.png 2x\" data-file-width=\"800\" data-file-height=\"500\"/>\u00a0</span><a href=\"http://en.wikipedia.org/wiki/Argentina\" title=\"Argentina\">Argentina</a></span></b></th>\n",
        "</tr><tr bgcolor=\"#EEEEEE\" align=\"center\"><th colspan=\"3\">Men's <a href=\"http://en.wikipedia.org/wiki/Football\" title=\"Football\">Football</a></th>\n",
        "</tr><tr bgcolor=\"#CCCCCC\" align=\"center\"><th colspan=\"3\"><a href=\"http://en.wikipedia.org/wiki/Football_at_the_Summer_Olympics\" title=\"Football at the Summer Olympics\">Olympic Games</a></th>\n",
        "</tr><tr align=\"center\" bgcolor=\"white\" valign=\"middle\"><td bgcolor=\"gold\"><b>Gold</b></td>\n",
        "<td><a href=\"http://en.wikipedia.org/wiki/Football_at_the_2008_Summer_Olympics_%E2%80%93_Men%27s_tournament\" title=\"Football at the 2008 Summer Olympics \u2013 Men's tournament\">2008 Beijing</a></td>\n",
        "<td><a href=\"http://en.wikipedia.org/wiki/Argentina_national_under-23_football_team\" title=\"Argentina national under-23 football team\">Olympic Team</a></td>\n",
        "</tr><tr bgcolor=\"#CCCCCC\" align=\"center\"><th colspan=\"3\"><a href=\"http://en.wikipedia.org/wiki/Copa_Am%C3%A9rica\" title=\"Copa Am\u00e9rica\">Copa Am\u00e9rica</a></th>\n",
        "</tr><tr align=\"center\" valign=\"middle\" bgcolor=\"white\"><td bgcolor=\"silver\"><b>Runner-up</b></td>\n",
        "<td><span class=\"nowrap\"><a href=\"http://en.wikipedia.org/wiki/2007_Copa_Am%C3%A9rica\" title=\"2007 Copa Am\u00e9rica\">2007 Venezuela</a></span></td>\n",
        "<td><a href=\"http://en.wikipedia.org/wiki/Argentina_national_football_team\" title=\"Argentina national football team\">Team</a></td>\n",
        "</tr><tr bgcolor=\"#CCCCCC\" align=\"center\"><th colspan=\"3\"><a href=\"http://en.wikipedia.org/wiki/FIFA_U-20_World_Cup\" title=\"FIFA U-20 World Cup\">FIFA U-20 World Cup</a></th>\n",
        "</tr><tr align=\"center\" valign=\"middle\" bgcolor=\"white\"><td bgcolor=\"gold\"><b>Winner</b></td>\n",
        "<td><span class=\"nowrap\"><a href=\"http://en.wikipedia.org/wiki/2005_FIFA_World_Youth_Championship\" title=\"2005 FIFA World Youth Championship\">2005 Netherlands</a></span></td>\n",
        "<td><a href=\"http://en.wikipedia.org/wiki/Argentina_national_under-20_football_team\" title=\"Argentina national under-20 football team\">U-20 Team</a></td>\n",
        "</tr><tr bgcolor=\"#CCCCCC\" align=\"center\"><th colspan=\"3\"><a href=\"http://en.wikipedia.org/wiki/U-20_South_American_Championship\" title=\"U-20 South American Championship\" class=\"mw-redirect\">U-20 South American Championship</a></th>\n",
        "</tr><tr align=\"center\" valign=\"middle\" bgcolor=\"white\"><td bgcolor=\"#CC9966\"><b>Third</b></td>\n",
        "<td><span class=\"nowrap\"><a href=\"http://en.wikipedia.org/wiki/U-20_South_American_Championship\" title=\"U-20 South American Championship\" class=\"mw-redirect\">2005 Colombia</a></span></td>\n",
        "<td><a href=\"http://en.wikipedia.org/wiki/Argentina_national_under-20_football_team\" title=\"Argentina national under-20 football team\">U-20 Team</a></td>\n",
        "</tr></table></div>\n",
        "</div>\n",
        "</th>\n",
        "</tr><tr class=\"\"><td colspan=\"4\" class=\"\" style=\"text-align:center; color:darkslategray; font-size:95%\">* Senior club appearances and goals counted for the domestic league only and correct as of 01:38, 17 May 2014 (UTC).<br/><p>\u2020 Appearances (Goals).<br/></p>\n",
        "\u2021 National team caps and goals correct as of 11 September 2013</td>\n",
        "</tr>"
       ],
       "metadata": {},
       "output_type": "pyout",
       "prompt_number": 6,
       "text": [
        "<IPython.core.display.HTML at 0x382a850>"
       ]
      }
     ],
     "prompt_number": 6
    },
    {
     "cell_type": "code",
     "collapsed": false,
     "input": [
      "import re"
     ],
     "language": "python",
     "metadata": {},
     "outputs": [],
     "prompt_number": 8
    },
    {
     "cell_type": "code",
     "collapsed": false,
     "input": [
      "from datetime import datetime\n",
      "messi('table.infobox').text()"
     ],
     "language": "python",
     "metadata": {},
     "outputs": [
      {
       "metadata": {},
       "output_type": "pyout",
       "prompt_number": 21,
       "text": [
        "u\"Lionel Messi Messi playing for Barcelona at the 2011 FIFA Club World Cup Personal information Full name Lionel Andr\\xe9s Messi [ 1 ] Date of birth ( 1987-06-24 ) 24 June 1987 (age\\xa026) [ 1 ] Place of birth Rosario , Argentina [ 1 ] Height 1.69\\xa0m (5\\xa0ft 7\\xa0in) [ 1 ] Playing position Forward Club information Current club Barcelona Number 10 Youth career 1995\\u20132000 Newell's Old Boys 2000\\u20132003 Barcelona Senior career* Years Team Apps \\u2020 (Gls) \\u2020 2003\\u20132004 Barcelona C 10 (5) 2004\\u20132005 Barcelona B 22 (6) 2004\\u2013 Barcelona 276 (243) National team \\u2021 2004\\u20132005 Argentina U20 18 (14) 2007\\u20132008 Argentina U23 5 (2) 2005\\u2013 Argentina 83 (37) Honours Competitor for Argentina Men's Football Olympic Games Gold 2008 Beijing Olympic Team Copa Am\\xe9rica Runner-up 2007 Venezuela Team FIFA U-20 World Cup Winner 2005 Netherlands U-20 Team U-20 South American Championship Third 2005 Colombia U-20 Team * Senior club appearances and goals counted for the domestic league only and correct as of 01:38, 17 May 2014 (UTC). \\u2020 Appearances (Goals). \\u2021 National team caps and goals correct as of 11 September 2013 Lionel Messi Born Lionel Andr\\xe9s Messi ( 1987-06-24 ) 24 June 1987 (age\\xa026) Rosario , Santa Fe , Argentina Residence Barcelona , Catalonia , Spain Nationality Argentinian Ethnicity Argentinian & Italian Occupation Association Footballer Salary \\u20ac 16\\xa0million Religion Roman Catholic Spouse(s) Antonella Roccuzzo Children Thiago Messi Parents Jorge Horacio Messi (father) Celia Maria Cuccittini (mother) Relatives Maxi Biancucchi (cousin) Emanuel Biancucchi (cousin) Website Official Website\""
       ]
      }
     ],
     "prompt_number": 21
    },
    {
     "cell_type": "code",
     "collapsed": false,
     "input": [
      "fecha = re.findall(r'\\d{4}\\-\\d{2}\\-\\d{2}', messi('table.infobox').text())[0]\n",
      "fecha"
     ],
     "language": "python",
     "metadata": {},
     "outputs": [
      {
       "metadata": {},
       "output_type": "pyout",
       "prompt_number": 14,
       "text": [
        "u'1987-06-24'"
       ]
      }
     ],
     "prompt_number": 14
    },
    {
     "cell_type": "code",
     "collapsed": false,
     "input": [
      "datetime.strptime(fecha, \"%Y-%m-%d\").date()"
     ],
     "language": "python",
     "metadata": {},
     "outputs": [
      {
       "metadata": {},
       "output_type": "pyout",
       "prompt_number": 15,
       "text": [
        "datetime.date(1987, 6, 24)"
       ]
      }
     ],
     "prompt_number": 15
    },
    {
     "cell_type": "code",
     "collapsed": false,
     "input": [
      "height = re.findall(r'(\\d{1}\\.\\d{2})',  messi('table.infobox').text())[0]"
     ],
     "language": "python",
     "metadata": {},
     "outputs": [],
     "prompt_number": 42
    },
    {
     "cell_type": "code",
     "collapsed": false,
     "input": [
      "height"
     ],
     "language": "python",
     "metadata": {},
     "outputs": [
      {
       "metadata": {},
       "output_type": "pyout",
       "prompt_number": 43,
       "text": [
        "u'1.69'"
       ]
      }
     ],
     "prompt_number": 43
    },
    {
     "cell_type": "code",
     "collapsed": false,
     "input": [
      "apps, goals = re.findall(r'(\\d+) \\((\\d+)\\) National team', messi('table.infobox').text())[0]\n",
      "apps, goals"
     ],
     "language": "python",
     "metadata": {},
     "outputs": [
      {
       "metadata": {},
       "output_type": "pyout",
       "prompt_number": 29,
       "text": [
        "(u'276', u'243')"
       ]
      }
     ],
     "prompt_number": 29
    },
    {
     "cell_type": "code",
     "collapsed": false,
     "input": [
      "re.findall(r'(\\d+) \\((\\d+)\\)', messi('table.infobox').text())[-1]\n",
      "    "
     ],
     "language": "python",
     "metadata": {},
     "outputs": [
      {
       "metadata": {},
       "output_type": "pyout",
       "prompt_number": 31,
       "text": [
        "(u'83', u'37')"
       ]
      }
     ],
     "prompt_number": 31
    },
    {
     "cell_type": "code",
     "collapsed": false,
     "input": [
      "def fill_player(player):\n",
      "    print 'Retriving data for', player\n",
      "    pq = PyQuery(player.url)\n",
      "    pq.make_links_absolute()\n",
      "    info = pq('table.infobox').text()\n",
      "    player.date_of_birth = datetime.strptime(re.findall(r'\\d{4}\\-\\d{2}\\-\\d{2}', info)[0], \"%Y-%m-%d\").date()\n",
      "    try:\n",
      "        player.height = re.findall(r'(\\d{1}\\.\\d{2})', info)[0]\n",
      "    except IndexError:\n",
      "        player.height = float(re.findall(r'Height (\\d{3})', info)[0])/100\n",
      "    \n",
      "    try:\n",
      "        player.last_season_apps, player.last_season_goals = re.findall(r'(\\d+) \\((\\d+)\\) National team', info)[0]\n",
      "    except:\n",
      "        pass\n",
      "    try: \n",
      "        player.national_team_apps, player.national_team_goals =  re.findall(r'(\\d+) \\((\\d+)\\)', info)[-1]\n",
      "    except:\n",
      "        pass\n",
      "    player.save()"
     ],
     "language": "python",
     "metadata": {},
     "outputs": [],
     "prompt_number": 44
    },
    {
     "cell_type": "code",
     "collapsed": false,
     "input": [
      "for player in Player.objects.exclude(url__contains='edit')[476:]:\n",
      "    fill_player(player)"
     ],
     "language": "python",
     "metadata": {},
     "outputs": [
      {
       "output_type": "stream",
       "stream": "stdout",
       "text": [
        "Retriving data for Luis L\u00f3pez\n",
        "Retriving data for"
       ]
      },
      {
       "output_type": "stream",
       "stream": "stdout",
       "text": [
        " Maynor Figueroa\n",
        "Retriving data for"
       ]
      },
      {
       "output_type": "stream",
       "stream": "stdout",
       "text": [
        " V\u00edctor Bern\u00e1rdez\n",
        "Retriving data for"
       ]
      },
      {
       "output_type": "stream",
       "stream": "stdout",
       "text": [
        " Emilio Izaguirre\n",
        "Retriving data for"
       ]
      },
      {
       "output_type": "stream",
       "stream": "stdout",
       "text": [
        " Osman Ch\u00e1vez\n",
        "Retriving data for"
       ]
      },
      {
       "output_type": "stream",
       "stream": "stdout",
       "text": [
        " Juan Carlos Garc\u00eda\n",
        "Retriving data for"
       ]
      },
      {
       "output_type": "stream",
       "stream": "stdout",
       "text": [
        " Brayan Beckeles\n",
        "Retriving data for"
       ]
      },
      {
       "output_type": "stream",
       "stream": "stdout",
       "text": [
        " Juan Pablo Montes\n",
        "Retriving data for"
       ]
      },
      {
       "output_type": "stream",
       "stream": "stdout",
       "text": [
        " Wilson Palacios\n",
        "Retriving data for"
       ]
      },
      {
       "output_type": "stream",
       "stream": "stdout",
       "text": [
        " \u00d3scar Garc\u00eda\n",
        "Retriving data for"
       ]
      },
      {
       "output_type": "stream",
       "stream": "stdout",
       "text": [
        " Jorge Claros\n",
        "Retriving data for"
       ]
      },
      {
       "output_type": "stream",
       "stream": "stdout",
       "text": [
        " Marvin Ch\u00e1vez\n",
        "Retriving data for"
       ]
      },
      {
       "output_type": "stream",
       "stream": "stdout",
       "text": [
        " Roger Espinoza\n",
        "Retriving data for"
       ]
      },
      {
       "output_type": "stream",
       "stream": "stdout",
       "text": [
        " Mario Mart\u00ednez\n",
        "Retriving data for"
       ]
      },
      {
       "output_type": "stream",
       "stream": "stdout",
       "text": [
        " Arnold Peralta\n",
        "Retriving data for"
       ]
      },
      {
       "output_type": "stream",
       "stream": "stdout",
       "text": [
        " Luis Garrido\n",
        "Retriving data for"
       ]
      },
      {
       "output_type": "stream",
       "stream": "stdout",
       "text": [
        " Andy Najar\n",
        "Retriving data for"
       ]
      },
      {
       "output_type": "stream",
       "stream": "stdout",
       "text": [
        " Carlo Costly\n",
        "Retriving data for"
       ]
      },
      {
       "output_type": "stream",
       "stream": "stdout",
       "text": [
        " Jerry Bengtson\n",
        "Retriving data for"
       ]
      },
      {
       "output_type": "stream",
       "stream": "stdout",
       "text": [
        " Jerry Palacios\n",
        "Retriving data for"
       ]
      },
      {
       "output_type": "stream",
       "stream": "stdout",
       "text": [
        " Rony Mart\u00ednez\n",
        "Retriving data for"
       ]
      },
      {
       "output_type": "stream",
       "stream": "stdout",
       "text": [
        " Diego Benaglio\n",
        "Retriving data for"
       ]
      },
      {
       "output_type": "stream",
       "stream": "stdout",
       "text": [
        " Stephan Lichtsteiner\n",
        "Retriving data for"
       ]
      },
      {
       "output_type": "stream",
       "stream": "stdout",
       "text": [
        " Reto Ziegler\n",
        "Retriving data for"
       ]
      },
      {
       "output_type": "stream",
       "stream": "stdout",
       "text": [
        " Philippe Senderos\n",
        "Retriving data for"
       ]
      },
      {
       "output_type": "stream",
       "stream": "stdout",
       "text": [
        " Steve von Bergen\n",
        "Retriving data for"
       ]
      },
      {
       "output_type": "stream",
       "stream": "stdout",
       "text": [
        " Michael Lang\n",
        "Retriving data for"
       ]
      },
      {
       "output_type": "stream",
       "stream": "stdout",
       "text": [
        " Tranquillo Barnetta\n",
        "Retriving data for"
       ]
      },
      {
       "output_type": "stream",
       "stream": "stdout",
       "text": [
        " G\u00f6khan Inler ( captain )\n",
        "Retriving data for"
       ]
      },
      {
       "output_type": "stream",
       "stream": "stdout",
       "text": [
        " Haris Seferovi\u0107\n",
        "Retriving data for"
       ]
      },
      {
       "output_type": "stream",
       "stream": "stdout",
       "text": [
        " Granit Xhaka\n",
        "Retriving data for"
       ]
      },
      {
       "output_type": "stream",
       "stream": "stdout",
       "text": [
        " Valon Behrami\n",
        "Retriving data for"
       ]
      },
      {
       "output_type": "stream",
       "stream": "stdout",
       "text": [
        " Yann Sommer\n",
        "Retriving data for"
       ]
      },
      {
       "output_type": "stream",
       "stream": "stdout",
       "text": [
        " Ricardo Rodr\u00edguez\n",
        "Retriving data for"
       ]
      },
      {
       "output_type": "stream",
       "stream": "stdout",
       "text": [
        " Valentin Stocker\n",
        "Retriving data for"
       ]
      },
      {
       "output_type": "stream",
       "stream": "stdout",
       "text": [
        " Blerim D\u017eemaili\n",
        "Retriving data for"
       ]
      },
      {
       "output_type": "stream",
       "stream": "stdout",
       "text": [
        " Gelson Fernandes\n",
        "Retriving data for"
       ]
      },
      {
       "output_type": "stream",
       "stream": "stdout",
       "text": [
        " Mario Gavranovi\u0107\n",
        "Retriving data for"
       ]
      },
      {
       "output_type": "stream",
       "stream": "stdout",
       "text": [
        " Admir Mehmedi\n",
        "Retriving data for"
       ]
      },
      {
       "output_type": "stream",
       "stream": "stdout",
       "text": [
        " Josip Drmi\u0107\n",
        "Retriving data for"
       ]
      },
      {
       "output_type": "stream",
       "stream": "stdout",
       "text": [
        " Johan Djourou\n",
        "Retriving data for"
       ]
      },
      {
       "output_type": "stream",
       "stream": "stdout",
       "text": [
        " Roman B\u00fcrki\n",
        "Retriving data for"
       ]
      },
      {
       "output_type": "stream",
       "stream": "stdout",
       "text": [
        " Fabian Sch\u00e4r\n",
        "Retriving data for"
       ]
      },
      {
       "output_type": "stream",
       "stream": "stdout",
       "text": [
        " Xherdan Shaqiri\n",
        "Retriving data for"
       ]
      },
      {
       "output_type": "stream",
       "stream": "stdout",
       "text": [
        " Sergio Romero\n",
        "Retriving data for"
       ]
      },
      {
       "output_type": "stream",
       "stream": "stdout",
       "text": [
        " Mariano And\u00fajar\n",
        "Retriving data for"
       ]
      },
      {
       "output_type": "stream",
       "stream": "stdout",
       "text": [
        " Agust\u00edn Ori\u00f3n\n",
        "Retriving data for"
       ]
      },
      {
       "output_type": "stream",
       "stream": "stdout",
       "text": [
        " Mart\u00edn Demichelis\n",
        "Retriving data for"
       ]
      },
      {
       "output_type": "stream",
       "stream": "stdout",
       "text": [
        " Pablo Zabaleta\n",
        "Retriving data for"
       ]
      },
      {
       "output_type": "stream",
       "stream": "stdout",
       "text": [
        " Federico Fern\u00e1ndez\n",
        "Retriving data for"
       ]
      },
      {
       "output_type": "stream",
       "stream": "stdout",
       "text": [
        " Marcos Rojo\n",
        "Retriving data for"
       ]
      },
      {
       "output_type": "stream",
       "stream": "stdout",
       "text": [
        " Ezequiel Garay\n",
        "Retriving data for"
       ]
      },
      {
       "output_type": "stream",
       "stream": "stdout",
       "text": [
        " Nicol\u00e1s Otamendi\n",
        "Retriving data for"
       ]
      },
      {
       "output_type": "stream",
       "stream": "stdout",
       "text": [
        " Hugo Campagnaro\n",
        "Retriving data for"
       ]
      },
      {
       "output_type": "stream",
       "stream": "stdout",
       "text": [
        " Jos\u00e9 Mar\u00eda Basanta\n",
        "Retriving data for"
       ]
      },
      {
       "output_type": "stream",
       "stream": "stdout",
       "text": [
        " Javier Mascherano\n",
        "Retriving data for"
       ]
      },
      {
       "output_type": "stream",
       "stream": "stdout",
       "text": [
        " Maxi Rodr\u00edguez\n",
        "Retriving data for"
       ]
      },
      {
       "output_type": "stream",
       "stream": "stdout",
       "text": [
        " Fernando Gago\n",
        "Retriving data for"
       ]
      },
      {
       "output_type": "stream",
       "stream": "stdout",
       "text": [
        " \u00c1ngel di Mar\u00eda\n",
        "Retriving data for"
       ]
      },
      {
       "output_type": "stream",
       "stream": "stdout",
       "text": [
        " \u00c9ver Banega\n",
        "Retriving data for"
       ]
      },
      {
       "output_type": "stream",
       "stream": "stdout",
       "text": [
        " Jos\u00e9 Ernesto Sosa\n",
        "Retriving data for"
       ]
      },
      {
       "output_type": "stream",
       "stream": "stdout",
       "text": [
        " Lucas Biglia\n",
        "Retriving data for"
       ]
      },
      {
       "output_type": "stream",
       "stream": "stdout",
       "text": [
        " Augusto Fern\u00e1ndez\n",
        "Retriving data for"
       ]
      },
      {
       "output_type": "stream",
       "stream": "stdout",
       "text": [
        " Ricardo \u00c1lvarez\n",
        "Retriving data for"
       ]
      },
      {
       "output_type": "stream",
       "stream": "stdout",
       "text": [
        " Enzo P\u00e9rez\n",
        "Retriving data for"
       ]
      },
      {
       "output_type": "stream",
       "stream": "stdout",
       "text": [
        " Lionel Messi ( Captain )\n",
        "Retriving data for"
       ]
      },
      {
       "output_type": "stream",
       "stream": "stdout",
       "text": [
        " Sergio Ag\u00fcero\n",
        "Retriving data for"
       ]
      },
      {
       "output_type": "stream",
       "stream": "stdout",
       "text": [
        " Gonzalo Higua\u00edn\n",
        "Retriving data for"
       ]
      },
      {
       "output_type": "stream",
       "stream": "stdout",
       "text": [
        " Ezequiel Lavezzi\n",
        "Retriving data for"
       ]
      },
      {
       "output_type": "stream",
       "stream": "stdout",
       "text": [
        " Rodrigo Palacio\n",
        "Retriving data for"
       ]
      },
      {
       "output_type": "stream",
       "stream": "stdout",
       "text": [
        " Asmir Begovi\u0107\n",
        "Retriving data for"
       ]
      },
      {
       "output_type": "stream",
       "stream": "stdout",
       "text": [
        " Asmir Avduki\u0107\n",
        "Retriving data for"
       ]
      },
      {
       "output_type": "stream",
       "stream": "stdout",
       "text": [
        " Jasmin Fejzi\u0107\n",
        "Retriving data for"
       ]
      },
      {
       "output_type": "stream",
       "stream": "stdout",
       "text": [
        " Dejan Bandovi\u0107\n",
        "Retriving data for"
       ]
      },
      {
       "output_type": "stream",
       "stream": "stdout",
       "text": [
        " Emir Spahi\u0107\n",
        "Retriving data for"
       ]
      },
      {
       "output_type": "stream",
       "stream": "stdout",
       "text": [
        " Mensur Mujd\u017ea\n",
        "Retriving data for"
       ]
      },
      {
       "output_type": "stream",
       "stream": "stdout",
       "text": [
        " Avdija Vr\u0161ajevi\u0107\n",
        "Retriving data for"
       ]
      },
      {
       "output_type": "stream",
       "stream": "stdout",
       "text": [
        " Ognjen Vranje\u0161\n",
        "Retriving data for"
       ]
      },
      {
       "output_type": "stream",
       "stream": "stdout",
       "text": [
        " Ermin Bi\u010dak\u010di\u0107\n",
        "Retriving data for"
       ]
      },
      {
       "output_type": "stream",
       "stream": "stdout",
       "text": [
        " Ervin Zukanovi\u0107\n",
        "Retriving data for"
       ]
      },
      {
       "output_type": "stream",
       "stream": "stdout",
       "text": [
        " Toni \u0160unji\u0107\n",
        "Retriving data for"
       ]
      },
      {
       "output_type": "stream",
       "stream": "stdout",
       "text": [
        " Sead Kola\u0161inac\n",
        "Retriving data for"
       ]
      },
      {
       "output_type": "stream",
       "stream": "stdout",
       "text": [
        " Zvjezdan Misimovi\u0107\n",
        "Retriving data for"
       ]
      },
      {
       "output_type": "stream",
       "stream": "stdout",
       "text": [
        " Miralem Pjani\u0107\n",
        "Retriving data for"
       ]
      },
      {
       "output_type": "stream",
       "stream": "stdout",
       "text": [
        " Senijad Ibri\u010di\u0107\n",
        "Retriving data for"
       ]
      },
      {
       "output_type": "stream",
       "stream": "stdout",
       "text": [
        " Sejad Salihovi\u0107\n",
        "Retriving data for"
       ]
      },
      {
       "output_type": "stream",
       "stream": "stdout",
       "text": [
        " Haris Medunjanin\n",
        "Retriving data for"
       ]
      },
      {
       "output_type": "stream",
       "stream": "stdout",
       "text": [
        " Senad Luli\u0107\n",
        "Retriving data for"
       ]
      },
      {
       "output_type": "stream",
       "stream": "stdout",
       "text": [
        " Adnan Zahirovi\u0107\n",
        "Retriving data for"
       ]
      },
      {
       "output_type": "stream",
       "stream": "stdout",
       "text": [
        " Miroslav Stevanovi\u0107\n",
        "Retriving data for"
       ]
      },
      {
       "output_type": "stream",
       "stream": "stdout",
       "text": [
        " Muhamed Be\u0161i\u0107\n",
        "Retriving data for"
       ]
      },
      {
       "output_type": "stream",
       "stream": "stdout",
       "text": [
        " Izet Hajrovi\u0107\n",
        "Retriving data for"
       ]
      },
      {
       "output_type": "stream",
       "stream": "stdout",
       "text": [
        " Zoran Kvr\u017ei\u0107\n",
        "Retriving data for"
       ]
      },
      {
       "output_type": "stream",
       "stream": "stdout",
       "text": [
        " Anel Had\u017ei\u0107\n",
        "Retriving data for"
       ]
      },
      {
       "output_type": "stream",
       "stream": "stdout",
       "text": [
        " Tino-Sven Su\u0161i\u0107\n",
        "Retriving data for"
       ]
      },
      {
       "output_type": "stream",
       "stream": "stdout",
       "text": [
        " Sr\u0111an Stani\u0107\n",
        "Retriving data for"
       ]
      },
      {
       "output_type": "stream",
       "stream": "stdout",
       "text": [
        " Edin D\u017eeko\n",
        "Retriving data for"
       ]
      },
      {
       "output_type": "stream",
       "stream": "stdout",
       "text": [
        " Vedad Ibi\u0161evi\u0107\n",
        "Retriving data for"
       ]
      },
      {
       "output_type": "stream",
       "stream": "stdout",
       "text": [
        " Ermin Zec\n",
        "Retriving data for"
       ]
      },
      {
       "output_type": "stream",
       "stream": "stdout",
       "text": [
        " Edin Vi\u0161\u0107a\n",
        "Retriving data for"
       ]
      },
      {
       "output_type": "stream",
       "stream": "stdout",
       "text": [
        " Rahman Ahmadi\n",
        "Retriving data for"
       ]
      },
      {
       "output_type": "stream",
       "stream": "stdout",
       "text": [
        " Alireza Haghighi\n",
        "Retriving data for"
       ]
      },
      {
       "output_type": "stream",
       "stream": "stdout",
       "text": [
        " Daniel Davari\n",
        "Retriving data for"
       ]
      },
      {
       "output_type": "stream",
       "stream": "stdout",
       "text": [
        " Sosha Makani\n"
       ]
      },
      {
       "ename": "IndexError",
       "evalue": "list index out of range",
       "output_type": "pyerr",
       "traceback": [
        "\u001b[1;31m---------------------------------------------------------------------------\u001b[0m\n\u001b[1;31mIndexError\u001b[0m                                Traceback (most recent call last)",
        "\u001b[1;32m<ipython-input-91-a15539bb8dd1>\u001b[0m in \u001b[0;36m<module>\u001b[1;34m()\u001b[0m\n\u001b[0;32m      1\u001b[0m \u001b[1;32mfor\u001b[0m \u001b[0mplayer\u001b[0m \u001b[1;32min\u001b[0m \u001b[0mPlayer\u001b[0m\u001b[1;33m.\u001b[0m\u001b[0mobjects\u001b[0m\u001b[1;33m.\u001b[0m\u001b[0mexclude\u001b[0m\u001b[1;33m(\u001b[0m\u001b[0murl__contains\u001b[0m\u001b[1;33m=\u001b[0m\u001b[1;34m'edit'\u001b[0m\u001b[1;33m)\u001b[0m\u001b[1;33m[\u001b[0m\u001b[1;36m476\u001b[0m\u001b[1;33m:\u001b[0m\u001b[1;33m]\u001b[0m\u001b[1;33m:\u001b[0m\u001b[1;33m\u001b[0m\u001b[0m\n\u001b[1;32m----> 2\u001b[1;33m     \u001b[0mfill_player\u001b[0m\u001b[1;33m(\u001b[0m\u001b[0mplayer\u001b[0m\u001b[1;33m)\u001b[0m\u001b[1;33m\u001b[0m\u001b[0m\n\u001b[0m",
        "\u001b[1;32m<ipython-input-44-cca0e57f628c>\u001b[0m in \u001b[0;36mfill_player\u001b[1;34m(player)\u001b[0m\n\u001b[0;32m      8\u001b[0m         \u001b[0mplayer\u001b[0m\u001b[1;33m.\u001b[0m\u001b[0mheight\u001b[0m \u001b[1;33m=\u001b[0m \u001b[0mre\u001b[0m\u001b[1;33m.\u001b[0m\u001b[0mfindall\u001b[0m\u001b[1;33m(\u001b[0m\u001b[1;34mr'(\\d{1}\\.\\d{2})'\u001b[0m\u001b[1;33m,\u001b[0m \u001b[0minfo\u001b[0m\u001b[1;33m)\u001b[0m\u001b[1;33m[\u001b[0m\u001b[1;36m0\u001b[0m\u001b[1;33m]\u001b[0m\u001b[1;33m\u001b[0m\u001b[0m\n\u001b[0;32m      9\u001b[0m     \u001b[1;32mexcept\u001b[0m \u001b[0mIndexError\u001b[0m\u001b[1;33m:\u001b[0m\u001b[1;33m\u001b[0m\u001b[0m\n\u001b[1;32m---> 10\u001b[1;33m         \u001b[0mplayer\u001b[0m\u001b[1;33m.\u001b[0m\u001b[0mheight\u001b[0m \u001b[1;33m=\u001b[0m \u001b[0mfloat\u001b[0m\u001b[1;33m(\u001b[0m\u001b[0mre\u001b[0m\u001b[1;33m.\u001b[0m\u001b[0mfindall\u001b[0m\u001b[1;33m(\u001b[0m\u001b[1;34mr'Height (\\d{3})'\u001b[0m\u001b[1;33m,\u001b[0m \u001b[0minfo\u001b[0m\u001b[1;33m)\u001b[0m\u001b[1;33m[\u001b[0m\u001b[1;36m0\u001b[0m\u001b[1;33m]\u001b[0m\u001b[1;33m)\u001b[0m\u001b[1;33m/\u001b[0m\u001b[1;36m100\u001b[0m\u001b[1;33m\u001b[0m\u001b[0m\n\u001b[0m\u001b[0;32m     11\u001b[0m \u001b[1;33m\u001b[0m\u001b[0m\n\u001b[0;32m     12\u001b[0m     \u001b[1;32mtry\u001b[0m\u001b[1;33m:\u001b[0m\u001b[1;33m\u001b[0m\u001b[0m\n",
        "\u001b[1;31mIndexError\u001b[0m: list index out of range"
       ]
      }
     ],
     "prompt_number": 91
    },
    {
     "cell_type": "code",
     "collapsed": false,
     "input": [
      "Player.objects.exclude(url__contains='edit')[476:]"
     ],
     "language": "python",
     "metadata": {},
     "outputs": [
      {
       "metadata": {},
       "output_type": "pyout",
       "prompt_number": 90,
       "text": [
        "[<Player: Luis L\u00f3pez>, <Player: Maynor Figueroa>, <Player: V\u00edctor Bern\u00e1rdez>, <Player: Emilio Izaguirre>, <Player: Osman Ch\u00e1vez>, <Player: Juan Carlos Garc\u00eda>, <Player: Brayan Beckeles>, <Player: Juan Pablo Montes>, <Player: Wilson Palacios>, <Player: \u00d3scar Garc\u00eda>, <Player: Jorge Claros>, <Player: Marvin Ch\u00e1vez>, <Player: Roger Espinoza>, <Player: Mario Mart\u00ednez>, <Player: Arnold Peralta>, <Player: Luis Garrido>, <Player: Andy Najar>, <Player: Carlo Costly>, <Player: Jerry Bengtson>, <Player: Jerry Palacios>, '...(remaining elements truncated)...']"
       ]
      }
     ],
     "prompt_number": 90
    },
    {
     "cell_type": "code",
     "collapsed": false,
     "input": [
      "Player.objects.filter(full_name__icontains='luis l')[0].id"
     ],
     "language": "python",
     "metadata": {},
     "outputs": [
      {
       "metadata": {},
       "output_type": "pyout",
       "prompt_number": 85,
       "text": [
        "481"
       ]
      }
     ],
     "prompt_number": 85
    },
    {
     "cell_type": "code",
     "collapsed": false,
     "input": [],
     "language": "python",
     "metadata": {},
     "outputs": []
    }
   ],
   "metadata": {}
  }
 ]
}